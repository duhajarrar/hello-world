{
  "nbformat": 4,
  "nbformat_minor": 0,
  "metadata": {
    "colab": {
      "name": "covithon.ipynb",
      "provenance": [],
      "collapsed_sections": [],
      "mount_file_id": "1w1AYRQ7MxezxhcZ9bSmQ4Jdt2SYI1cV8",
      "authorship_tag": "ABX9TyNC+kA3C9L2wWzzGPsBuObp",
      "include_colab_link": true
    },
    "kernelspec": {
      "name": "python3",
      "display_name": "Python 3"
    }
  },
  "cells": [
    {
      "cell_type": "markdown",
      "metadata": {
        "id": "view-in-github",
        "colab_type": "text"
      },
      "source": [
        "<a href=\"https://colab.research.google.com/github/duhajarrar/hello-world/blob/master/covithon.ipynb\" target=\"_parent\"><img src=\"https://colab.research.google.com/assets/colab-badge.svg\" alt=\"Open In Colab\"/></a>"
      ]
    },
    {
      "cell_type": "markdown",
      "metadata": {
        "id": "r9wCyfFsjDYw",
        "colab_type": "text"
      },
      "source": [
        "# Train"
      ]
    },
    {
      "cell_type": "code",
      "metadata": {
        "id": "fzPb23RypGEq",
        "colab_type": "code",
        "colab": {
          "base_uri": "https://localhost:8080/",
          "height": 650
        },
        "outputId": "a7809a30-43aa-49e0-937e-a0e4677b2065"
      },
      "source": [
        "import pandas as pd\n",
        "import numpy as np\n",
        "tr = pd.read_csv(\"drive/My Drive/train.csv\")\n",
        "tr.info()"
      ],
      "execution_count": 479,
      "outputs": [
        {
          "output_type": "stream",
          "text": [
            "<class 'pandas.core.frame.DataFrame'>\n",
            "RangeIndex: 8000 entries, 0 to 7999\n",
            "Data columns (total 29 columns):\n",
            " #   Column                       Non-Null Count  Dtype  \n",
            "---  ------                       --------------  -----  \n",
            " 0   gender                       8000 non-null   object \n",
            " 1   full_name                    8000 non-null   object \n",
            " 2   year_of_birth                8000 non-null   int64  \n",
            " 3   weight                       8000 non-null   float64\n",
            " 4   height                       8000 non-null   float64\n",
            " 5   eye_color                    8000 non-null   object \n",
            " 6   race                         8000 non-null   object \n",
            " 7   accommodation_type           8000 non-null   object \n",
            " 8   education_status             8000 non-null   object \n",
            " 9   blood_type                   8000 non-null   object \n",
            " 10  family_members_count         8000 non-null   int64  \n",
            " 11  avg_sleep_hours              8000 non-null   int64  \n",
            " 12  occupation                   8000 non-null   object \n",
            " 13  living_area                  8000 non-null   object \n",
            " 14  sports_engagement            8000 non-null   object \n",
            " 15  favorite_music_genre         8000 non-null   object \n",
            " 16  favorite_color               8000 non-null   object \n",
            " 17  owned_car_brand              8000 non-null   object \n",
            " 18  hours_worked_each_week       8000 non-null   object \n",
            " 19  owns_a_pet                   8000 non-null   object \n",
            " 20  has_health_insurance         8000 non-null   object \n",
            " 21  has_cancer                   8000 non-null   object \n",
            " 22  smokes                       8000 non-null   object \n",
            " 23  has_alzheimers               8000 non-null   object \n",
            " 24  facial_hair                  8000 non-null   object \n",
            " 25  daily_household_water_usage  8000 non-null   float64\n",
            " 26  diet_type                    8000 non-null   object \n",
            " 27  fast_food_meals_per_month    8000 non-null   int64  \n",
            " 28  infected                     8000 non-null   int64  \n",
            "dtypes: float64(3), int64(5), object(21)\n",
            "memory usage: 1.8+ MB\n"
          ],
          "name": "stdout"
        }
      ]
    },
    {
      "cell_type": "code",
      "metadata": {
        "id": "qkVmL5MgqXUT",
        "colab_type": "code",
        "colab": {
          "base_uri": "https://localhost:8080/",
          "height": 70
        },
        "outputId": "e9285612-0512-4176-b2a0-2d2dbffe0649"
      },
      "source": [
        "tr['infected'].value_counts()"
      ],
      "execution_count": 480,
      "outputs": [
        {
          "output_type": "execute_result",
          "data": {
            "text/plain": [
              "0    5211\n",
              "1    2789\n",
              "Name: infected, dtype: int64"
            ]
          },
          "metadata": {
            "tags": []
          },
          "execution_count": 480
        }
      ]
    },
    {
      "cell_type": "code",
      "metadata": {
        "id": "EXZ_ki3CshwW",
        "colab_type": "code",
        "colab": {
          "base_uri": "https://localhost:8080/",
          "height": 34
        },
        "outputId": "19cfaf69-560f-4157-fa28-c9cbe58f56fa"
      },
      "source": [
        "tr.shape"
      ],
      "execution_count": 481,
      "outputs": [
        {
          "output_type": "execute_result",
          "data": {
            "text/plain": [
              "(8000, 29)"
            ]
          },
          "metadata": {
            "tags": []
          },
          "execution_count": 481
        }
      ]
    },
    {
      "cell_type": "code",
      "metadata": {
        "colab_type": "code",
        "id": "djtMNYnYfS0H",
        "colab": {
          "base_uri": "https://localhost:8080/",
          "height": 175
        },
        "outputId": "6cfc0a98-8169-4621-a071-151e38f19893"
      },
      "source": [
        "tr.columns"
      ],
      "execution_count": 482,
      "outputs": [
        {
          "output_type": "execute_result",
          "data": {
            "text/plain": [
              "Index(['gender', 'full_name', 'year_of_birth', 'weight', 'height', 'eye_color',\n",
              "       'race', 'accommodation_type', 'education_status', 'blood_type',\n",
              "       'family_members_count', 'avg_sleep_hours', 'occupation', 'living_area',\n",
              "       'sports_engagement', 'favorite_music_genre', 'favorite_color',\n",
              "       'owned_car_brand', 'hours_worked_each_week', 'owns_a_pet',\n",
              "       'has_health_insurance', 'has_cancer', 'smokes', 'has_alzheimers',\n",
              "       'facial_hair', 'daily_household_water_usage', 'diet_type',\n",
              "       'fast_food_meals_per_month', 'infected'],\n",
              "      dtype='object')"
            ]
          },
          "metadata": {
            "tags": []
          },
          "execution_count": 482
        }
      ]
    },
    {
      "cell_type": "code",
      "metadata": {
        "colab_type": "code",
        "id": "QaKnbkqIfS0P",
        "colab": {
          "base_uri": "https://localhost:8080/",
          "height": 282
        },
        "outputId": "03fc964d-6207-4535-97f8-cdc5c25fd3c9"
      },
      "source": [
        "tr.head()"
      ],
      "execution_count": 483,
      "outputs": [
        {
          "output_type": "execute_result",
          "data": {
            "text/html": [
              "<div>\n",
              "<style scoped>\n",
              "    .dataframe tbody tr th:only-of-type {\n",
              "        vertical-align: middle;\n",
              "    }\n",
              "\n",
              "    .dataframe tbody tr th {\n",
              "        vertical-align: top;\n",
              "    }\n",
              "\n",
              "    .dataframe thead th {\n",
              "        text-align: right;\n",
              "    }\n",
              "</style>\n",
              "<table border=\"1\" class=\"dataframe\">\n",
              "  <thead>\n",
              "    <tr style=\"text-align: right;\">\n",
              "      <th></th>\n",
              "      <th>gender</th>\n",
              "      <th>full_name</th>\n",
              "      <th>year_of_birth</th>\n",
              "      <th>weight</th>\n",
              "      <th>height</th>\n",
              "      <th>eye_color</th>\n",
              "      <th>race</th>\n",
              "      <th>accommodation_type</th>\n",
              "      <th>education_status</th>\n",
              "      <th>blood_type</th>\n",
              "      <th>family_members_count</th>\n",
              "      <th>avg_sleep_hours</th>\n",
              "      <th>occupation</th>\n",
              "      <th>living_area</th>\n",
              "      <th>sports_engagement</th>\n",
              "      <th>favorite_music_genre</th>\n",
              "      <th>favorite_color</th>\n",
              "      <th>owned_car_brand</th>\n",
              "      <th>hours_worked_each_week</th>\n",
              "      <th>owns_a_pet</th>\n",
              "      <th>has_health_insurance</th>\n",
              "      <th>has_cancer</th>\n",
              "      <th>smokes</th>\n",
              "      <th>has_alzheimers</th>\n",
              "      <th>facial_hair</th>\n",
              "      <th>daily_household_water_usage</th>\n",
              "      <th>diet_type</th>\n",
              "      <th>fast_food_meals_per_month</th>\n",
              "      <th>infected</th>\n",
              "    </tr>\n",
              "  </thead>\n",
              "  <tbody>\n",
              "    <tr>\n",
              "      <th>0</th>\n",
              "      <td>male</td>\n",
              "      <td>Gerald Valentine</td>\n",
              "      <td>2024</td>\n",
              "      <td>8.69</td>\n",
              "      <td>52.32</td>\n",
              "      <td>brown</td>\n",
              "      <td>black</td>\n",
              "      <td>apartment</td>\n",
              "      <td>not_applicable</td>\n",
              "      <td>A+</td>\n",
              "      <td>4</td>\n",
              "      <td>12</td>\n",
              "      <td>unemployed</td>\n",
              "      <td>suburbs</td>\n",
              "      <td>never</td>\n",
              "      <td>r&amp;b</td>\n",
              "      <td>green</td>\n",
              "      <td>none</td>\n",
              "      <td>not_applicable</td>\n",
              "      <td>no</td>\n",
              "      <td>no</td>\n",
              "      <td>no</td>\n",
              "      <td>no</td>\n",
              "      <td>no</td>\n",
              "      <td>none</td>\n",
              "      <td>1471.95</td>\n",
              "      <td>regular</td>\n",
              "      <td>2</td>\n",
              "      <td>0</td>\n",
              "    </tr>\n",
              "    <tr>\n",
              "      <th>1</th>\n",
              "      <td>male</td>\n",
              "      <td>Chad Sell</td>\n",
              "      <td>1956</td>\n",
              "      <td>93.21</td>\n",
              "      <td>157.04</td>\n",
              "      <td>brown</td>\n",
              "      <td>asian</td>\n",
              "      <td>villa</td>\n",
              "      <td>associate_degree</td>\n",
              "      <td>AB+</td>\n",
              "      <td>5</td>\n",
              "      <td>6</td>\n",
              "      <td>art</td>\n",
              "      <td>suburbs</td>\n",
              "      <td>never</td>\n",
              "      <td>rock</td>\n",
              "      <td>green</td>\n",
              "      <td>none</td>\n",
              "      <td>30</td>\n",
              "      <td>no</td>\n",
              "      <td>no</td>\n",
              "      <td>no</td>\n",
              "      <td>no</td>\n",
              "      <td>no</td>\n",
              "      <td>short</td>\n",
              "      <td>1969.39</td>\n",
              "      <td>regular</td>\n",
              "      <td>0</td>\n",
              "      <td>0</td>\n",
              "    </tr>\n",
              "    <tr>\n",
              "      <th>2</th>\n",
              "      <td>male</td>\n",
              "      <td>Alex Crawford</td>\n",
              "      <td>1949</td>\n",
              "      <td>83.79</td>\n",
              "      <td>187.70</td>\n",
              "      <td>brown</td>\n",
              "      <td>white</td>\n",
              "      <td>apartment</td>\n",
              "      <td>associate_degree</td>\n",
              "      <td>B+</td>\n",
              "      <td>1</td>\n",
              "      <td>8</td>\n",
              "      <td>unemployed</td>\n",
              "      <td>suburbs</td>\n",
              "      <td>sometimes</td>\n",
              "      <td>r&amp;b</td>\n",
              "      <td>orange</td>\n",
              "      <td>other</td>\n",
              "      <td>not_applicable</td>\n",
              "      <td>yes</td>\n",
              "      <td>no</td>\n",
              "      <td>no</td>\n",
              "      <td>no</td>\n",
              "      <td>yes</td>\n",
              "      <td>none</td>\n",
              "      <td>366.43</td>\n",
              "      <td>regular</td>\n",
              "      <td>16</td>\n",
              "      <td>0</td>\n",
              "    </tr>\n",
              "    <tr>\n",
              "      <th>3</th>\n",
              "      <td>female</td>\n",
              "      <td>Mildred Valentine</td>\n",
              "      <td>1992</td>\n",
              "      <td>90.29</td>\n",
              "      <td>159.20</td>\n",
              "      <td>brown</td>\n",
              "      <td>middle_eastern</td>\n",
              "      <td>apartment</td>\n",
              "      <td>high_school</td>\n",
              "      <td>O+</td>\n",
              "      <td>5</td>\n",
              "      <td>9</td>\n",
              "      <td>business</td>\n",
              "      <td>rural</td>\n",
              "      <td>never</td>\n",
              "      <td>pop</td>\n",
              "      <td>yellow</td>\n",
              "      <td>honda</td>\n",
              "      <td>43</td>\n",
              "      <td>yes</td>\n",
              "      <td>yes</td>\n",
              "      <td>no</td>\n",
              "      <td>no</td>\n",
              "      <td>no</td>\n",
              "      <td>none</td>\n",
              "      <td>1548.20</td>\n",
              "      <td>regular</td>\n",
              "      <td>1</td>\n",
              "      <td>1</td>\n",
              "    </tr>\n",
              "    <tr>\n",
              "      <th>4</th>\n",
              "      <td>male</td>\n",
              "      <td>Francisco Hill</td>\n",
              "      <td>2013</td>\n",
              "      <td>40.23</td>\n",
              "      <td>96.61</td>\n",
              "      <td>brown</td>\n",
              "      <td>asian</td>\n",
              "      <td>apartment</td>\n",
              "      <td>not_applicable</td>\n",
              "      <td>O-</td>\n",
              "      <td>1</td>\n",
              "      <td>9</td>\n",
              "      <td>engineering</td>\n",
              "      <td>urban</td>\n",
              "      <td>sometimes</td>\n",
              "      <td>rock</td>\n",
              "      <td>purple</td>\n",
              "      <td>none</td>\n",
              "      <td>38</td>\n",
              "      <td>yes</td>\n",
              "      <td>yes</td>\n",
              "      <td>no</td>\n",
              "      <td>no</td>\n",
              "      <td>no</td>\n",
              "      <td>long</td>\n",
              "      <td>361.75</td>\n",
              "      <td>regular</td>\n",
              "      <td>12</td>\n",
              "      <td>0</td>\n",
              "    </tr>\n",
              "  </tbody>\n",
              "</table>\n",
              "</div>"
            ],
            "text/plain": [
              "   gender          full_name  ...  fast_food_meals_per_month  infected\n",
              "0    male   Gerald Valentine  ...                          2         0\n",
              "1    male          Chad Sell  ...                          0         0\n",
              "2    male      Alex Crawford  ...                         16         0\n",
              "3  female  Mildred Valentine  ...                          1         1\n",
              "4    male     Francisco Hill  ...                         12         0\n",
              "\n",
              "[5 rows x 29 columns]"
            ]
          },
          "metadata": {
            "tags": []
          },
          "execution_count": 483
        }
      ]
    },
    {
      "cell_type": "code",
      "metadata": {
        "colab_type": "code",
        "id": "lHGaYu4nfS0W",
        "colab": {
          "base_uri": "https://localhost:8080/",
          "height": 282
        },
        "outputId": "c140051e-11ab-48ca-800c-cbc5bcf1144a"
      },
      "source": [
        "tr['owns_a_pet'] = tr['owns_a_pet'].map({'yes': 1, 'no': 0})\n",
        "tr['has_health_insurance'] = tr['has_health_insurance'].map({'yes': 1, 'no': 0})\n",
        "tr['has_cancer'] = tr['has_cancer'].map({'yes': 1, 'no': 0})\n",
        "tr['smokes'] = tr['smokes'].map({'yes': 1, 'no': 0})\n",
        "tr['has_alzheimers'] = tr['has_alzheimers'].map({'yes': 1, 'no': 0})\n",
        "tr.head()"
      ],
      "execution_count": 484,
      "outputs": [
        {
          "output_type": "execute_result",
          "data": {
            "text/html": [
              "<div>\n",
              "<style scoped>\n",
              "    .dataframe tbody tr th:only-of-type {\n",
              "        vertical-align: middle;\n",
              "    }\n",
              "\n",
              "    .dataframe tbody tr th {\n",
              "        vertical-align: top;\n",
              "    }\n",
              "\n",
              "    .dataframe thead th {\n",
              "        text-align: right;\n",
              "    }\n",
              "</style>\n",
              "<table border=\"1\" class=\"dataframe\">\n",
              "  <thead>\n",
              "    <tr style=\"text-align: right;\">\n",
              "      <th></th>\n",
              "      <th>gender</th>\n",
              "      <th>full_name</th>\n",
              "      <th>year_of_birth</th>\n",
              "      <th>weight</th>\n",
              "      <th>height</th>\n",
              "      <th>eye_color</th>\n",
              "      <th>race</th>\n",
              "      <th>accommodation_type</th>\n",
              "      <th>education_status</th>\n",
              "      <th>blood_type</th>\n",
              "      <th>family_members_count</th>\n",
              "      <th>avg_sleep_hours</th>\n",
              "      <th>occupation</th>\n",
              "      <th>living_area</th>\n",
              "      <th>sports_engagement</th>\n",
              "      <th>favorite_music_genre</th>\n",
              "      <th>favorite_color</th>\n",
              "      <th>owned_car_brand</th>\n",
              "      <th>hours_worked_each_week</th>\n",
              "      <th>owns_a_pet</th>\n",
              "      <th>has_health_insurance</th>\n",
              "      <th>has_cancer</th>\n",
              "      <th>smokes</th>\n",
              "      <th>has_alzheimers</th>\n",
              "      <th>facial_hair</th>\n",
              "      <th>daily_household_water_usage</th>\n",
              "      <th>diet_type</th>\n",
              "      <th>fast_food_meals_per_month</th>\n",
              "      <th>infected</th>\n",
              "    </tr>\n",
              "  </thead>\n",
              "  <tbody>\n",
              "    <tr>\n",
              "      <th>0</th>\n",
              "      <td>male</td>\n",
              "      <td>Gerald Valentine</td>\n",
              "      <td>2024</td>\n",
              "      <td>8.69</td>\n",
              "      <td>52.32</td>\n",
              "      <td>brown</td>\n",
              "      <td>black</td>\n",
              "      <td>apartment</td>\n",
              "      <td>not_applicable</td>\n",
              "      <td>A+</td>\n",
              "      <td>4</td>\n",
              "      <td>12</td>\n",
              "      <td>unemployed</td>\n",
              "      <td>suburbs</td>\n",
              "      <td>never</td>\n",
              "      <td>r&amp;b</td>\n",
              "      <td>green</td>\n",
              "      <td>none</td>\n",
              "      <td>not_applicable</td>\n",
              "      <td>0</td>\n",
              "      <td>0</td>\n",
              "      <td>0</td>\n",
              "      <td>0</td>\n",
              "      <td>0</td>\n",
              "      <td>none</td>\n",
              "      <td>1471.95</td>\n",
              "      <td>regular</td>\n",
              "      <td>2</td>\n",
              "      <td>0</td>\n",
              "    </tr>\n",
              "    <tr>\n",
              "      <th>1</th>\n",
              "      <td>male</td>\n",
              "      <td>Chad Sell</td>\n",
              "      <td>1956</td>\n",
              "      <td>93.21</td>\n",
              "      <td>157.04</td>\n",
              "      <td>brown</td>\n",
              "      <td>asian</td>\n",
              "      <td>villa</td>\n",
              "      <td>associate_degree</td>\n",
              "      <td>AB+</td>\n",
              "      <td>5</td>\n",
              "      <td>6</td>\n",
              "      <td>art</td>\n",
              "      <td>suburbs</td>\n",
              "      <td>never</td>\n",
              "      <td>rock</td>\n",
              "      <td>green</td>\n",
              "      <td>none</td>\n",
              "      <td>30</td>\n",
              "      <td>0</td>\n",
              "      <td>0</td>\n",
              "      <td>0</td>\n",
              "      <td>0</td>\n",
              "      <td>0</td>\n",
              "      <td>short</td>\n",
              "      <td>1969.39</td>\n",
              "      <td>regular</td>\n",
              "      <td>0</td>\n",
              "      <td>0</td>\n",
              "    </tr>\n",
              "    <tr>\n",
              "      <th>2</th>\n",
              "      <td>male</td>\n",
              "      <td>Alex Crawford</td>\n",
              "      <td>1949</td>\n",
              "      <td>83.79</td>\n",
              "      <td>187.70</td>\n",
              "      <td>brown</td>\n",
              "      <td>white</td>\n",
              "      <td>apartment</td>\n",
              "      <td>associate_degree</td>\n",
              "      <td>B+</td>\n",
              "      <td>1</td>\n",
              "      <td>8</td>\n",
              "      <td>unemployed</td>\n",
              "      <td>suburbs</td>\n",
              "      <td>sometimes</td>\n",
              "      <td>r&amp;b</td>\n",
              "      <td>orange</td>\n",
              "      <td>other</td>\n",
              "      <td>not_applicable</td>\n",
              "      <td>1</td>\n",
              "      <td>0</td>\n",
              "      <td>0</td>\n",
              "      <td>0</td>\n",
              "      <td>1</td>\n",
              "      <td>none</td>\n",
              "      <td>366.43</td>\n",
              "      <td>regular</td>\n",
              "      <td>16</td>\n",
              "      <td>0</td>\n",
              "    </tr>\n",
              "    <tr>\n",
              "      <th>3</th>\n",
              "      <td>female</td>\n",
              "      <td>Mildred Valentine</td>\n",
              "      <td>1992</td>\n",
              "      <td>90.29</td>\n",
              "      <td>159.20</td>\n",
              "      <td>brown</td>\n",
              "      <td>middle_eastern</td>\n",
              "      <td>apartment</td>\n",
              "      <td>high_school</td>\n",
              "      <td>O+</td>\n",
              "      <td>5</td>\n",
              "      <td>9</td>\n",
              "      <td>business</td>\n",
              "      <td>rural</td>\n",
              "      <td>never</td>\n",
              "      <td>pop</td>\n",
              "      <td>yellow</td>\n",
              "      <td>honda</td>\n",
              "      <td>43</td>\n",
              "      <td>1</td>\n",
              "      <td>1</td>\n",
              "      <td>0</td>\n",
              "      <td>0</td>\n",
              "      <td>0</td>\n",
              "      <td>none</td>\n",
              "      <td>1548.20</td>\n",
              "      <td>regular</td>\n",
              "      <td>1</td>\n",
              "      <td>1</td>\n",
              "    </tr>\n",
              "    <tr>\n",
              "      <th>4</th>\n",
              "      <td>male</td>\n",
              "      <td>Francisco Hill</td>\n",
              "      <td>2013</td>\n",
              "      <td>40.23</td>\n",
              "      <td>96.61</td>\n",
              "      <td>brown</td>\n",
              "      <td>asian</td>\n",
              "      <td>apartment</td>\n",
              "      <td>not_applicable</td>\n",
              "      <td>O-</td>\n",
              "      <td>1</td>\n",
              "      <td>9</td>\n",
              "      <td>engineering</td>\n",
              "      <td>urban</td>\n",
              "      <td>sometimes</td>\n",
              "      <td>rock</td>\n",
              "      <td>purple</td>\n",
              "      <td>none</td>\n",
              "      <td>38</td>\n",
              "      <td>1</td>\n",
              "      <td>1</td>\n",
              "      <td>0</td>\n",
              "      <td>0</td>\n",
              "      <td>0</td>\n",
              "      <td>long</td>\n",
              "      <td>361.75</td>\n",
              "      <td>regular</td>\n",
              "      <td>12</td>\n",
              "      <td>0</td>\n",
              "    </tr>\n",
              "  </tbody>\n",
              "</table>\n",
              "</div>"
            ],
            "text/plain": [
              "   gender          full_name  ...  fast_food_meals_per_month  infected\n",
              "0    male   Gerald Valentine  ...                          2         0\n",
              "1    male          Chad Sell  ...                          0         0\n",
              "2    male      Alex Crawford  ...                         16         0\n",
              "3  female  Mildred Valentine  ...                          1         1\n",
              "4    male     Francisco Hill  ...                         12         0\n",
              "\n",
              "[5 rows x 29 columns]"
            ]
          },
          "metadata": {
            "tags": []
          },
          "execution_count": 484
        }
      ]
    },
    {
      "cell_type": "code",
      "metadata": {
        "id": "pIkWuUiHd0qq",
        "colab_type": "code",
        "colab": {
          "base_uri": "https://localhost:8080/",
          "height": 140
        },
        "outputId": "307c138e-ea55-4283-ab71-695e2c038ad8"
      },
      "source": [
        "tr.diet_type.value_counts()"
      ],
      "execution_count": 485,
      "outputs": [
        {
          "output_type": "execute_result",
          "data": {
            "text/plain": [
              "regular       7158\n",
              "vegetarian     336\n",
              "keto           213\n",
              "vegan          190\n",
              "paleo           67\n",
              "low-carb        36\n",
              "Name: diet_type, dtype: int64"
            ]
          },
          "metadata": {
            "tags": []
          },
          "execution_count": 485
        }
      ]
    },
    {
      "cell_type": "code",
      "metadata": {
        "colab_type": "code",
        "id": "Me8DFgvUfS0g",
        "colab": {
          "base_uri": "https://localhost:8080/",
          "height": 140
        },
        "outputId": "e47c0218-b408-4cd4-dde0-33e35350c2bd"
      },
      "source": [
        "tr['diet_type'] = tr['diet_type'].map({'regular': 1, 'vegetarian': 2,'keto':3 , 'vegan':4,'paleo':5,'low-carb':6})\n",
        "tr.diet_type.value_counts()"
      ],
      "execution_count": 486,
      "outputs": [
        {
          "output_type": "execute_result",
          "data": {
            "text/plain": [
              "1    7158\n",
              "2     336\n",
              "3     213\n",
              "4     190\n",
              "5      67\n",
              "6      36\n",
              "Name: diet_type, dtype: int64"
            ]
          },
          "metadata": {
            "tags": []
          },
          "execution_count": 486
        }
      ]
    },
    {
      "cell_type": "code",
      "metadata": {
        "colab_type": "code",
        "id": "caE23titfS0k",
        "colab": {
          "base_uri": "https://localhost:8080/",
          "height": 282
        },
        "outputId": "2b1635ed-c500-44e8-9ca9-3ab2cfc0d1a4"
      },
      "source": [
        "tr.head()"
      ],
      "execution_count": 487,
      "outputs": [
        {
          "output_type": "execute_result",
          "data": {
            "text/html": [
              "<div>\n",
              "<style scoped>\n",
              "    .dataframe tbody tr th:only-of-type {\n",
              "        vertical-align: middle;\n",
              "    }\n",
              "\n",
              "    .dataframe tbody tr th {\n",
              "        vertical-align: top;\n",
              "    }\n",
              "\n",
              "    .dataframe thead th {\n",
              "        text-align: right;\n",
              "    }\n",
              "</style>\n",
              "<table border=\"1\" class=\"dataframe\">\n",
              "  <thead>\n",
              "    <tr style=\"text-align: right;\">\n",
              "      <th></th>\n",
              "      <th>gender</th>\n",
              "      <th>full_name</th>\n",
              "      <th>year_of_birth</th>\n",
              "      <th>weight</th>\n",
              "      <th>height</th>\n",
              "      <th>eye_color</th>\n",
              "      <th>race</th>\n",
              "      <th>accommodation_type</th>\n",
              "      <th>education_status</th>\n",
              "      <th>blood_type</th>\n",
              "      <th>family_members_count</th>\n",
              "      <th>avg_sleep_hours</th>\n",
              "      <th>occupation</th>\n",
              "      <th>living_area</th>\n",
              "      <th>sports_engagement</th>\n",
              "      <th>favorite_music_genre</th>\n",
              "      <th>favorite_color</th>\n",
              "      <th>owned_car_brand</th>\n",
              "      <th>hours_worked_each_week</th>\n",
              "      <th>owns_a_pet</th>\n",
              "      <th>has_health_insurance</th>\n",
              "      <th>has_cancer</th>\n",
              "      <th>smokes</th>\n",
              "      <th>has_alzheimers</th>\n",
              "      <th>facial_hair</th>\n",
              "      <th>daily_household_water_usage</th>\n",
              "      <th>diet_type</th>\n",
              "      <th>fast_food_meals_per_month</th>\n",
              "      <th>infected</th>\n",
              "    </tr>\n",
              "  </thead>\n",
              "  <tbody>\n",
              "    <tr>\n",
              "      <th>0</th>\n",
              "      <td>male</td>\n",
              "      <td>Gerald Valentine</td>\n",
              "      <td>2024</td>\n",
              "      <td>8.69</td>\n",
              "      <td>52.32</td>\n",
              "      <td>brown</td>\n",
              "      <td>black</td>\n",
              "      <td>apartment</td>\n",
              "      <td>not_applicable</td>\n",
              "      <td>A+</td>\n",
              "      <td>4</td>\n",
              "      <td>12</td>\n",
              "      <td>unemployed</td>\n",
              "      <td>suburbs</td>\n",
              "      <td>never</td>\n",
              "      <td>r&amp;b</td>\n",
              "      <td>green</td>\n",
              "      <td>none</td>\n",
              "      <td>not_applicable</td>\n",
              "      <td>0</td>\n",
              "      <td>0</td>\n",
              "      <td>0</td>\n",
              "      <td>0</td>\n",
              "      <td>0</td>\n",
              "      <td>none</td>\n",
              "      <td>1471.95</td>\n",
              "      <td>1</td>\n",
              "      <td>2</td>\n",
              "      <td>0</td>\n",
              "    </tr>\n",
              "    <tr>\n",
              "      <th>1</th>\n",
              "      <td>male</td>\n",
              "      <td>Chad Sell</td>\n",
              "      <td>1956</td>\n",
              "      <td>93.21</td>\n",
              "      <td>157.04</td>\n",
              "      <td>brown</td>\n",
              "      <td>asian</td>\n",
              "      <td>villa</td>\n",
              "      <td>associate_degree</td>\n",
              "      <td>AB+</td>\n",
              "      <td>5</td>\n",
              "      <td>6</td>\n",
              "      <td>art</td>\n",
              "      <td>suburbs</td>\n",
              "      <td>never</td>\n",
              "      <td>rock</td>\n",
              "      <td>green</td>\n",
              "      <td>none</td>\n",
              "      <td>30</td>\n",
              "      <td>0</td>\n",
              "      <td>0</td>\n",
              "      <td>0</td>\n",
              "      <td>0</td>\n",
              "      <td>0</td>\n",
              "      <td>short</td>\n",
              "      <td>1969.39</td>\n",
              "      <td>1</td>\n",
              "      <td>0</td>\n",
              "      <td>0</td>\n",
              "    </tr>\n",
              "    <tr>\n",
              "      <th>2</th>\n",
              "      <td>male</td>\n",
              "      <td>Alex Crawford</td>\n",
              "      <td>1949</td>\n",
              "      <td>83.79</td>\n",
              "      <td>187.70</td>\n",
              "      <td>brown</td>\n",
              "      <td>white</td>\n",
              "      <td>apartment</td>\n",
              "      <td>associate_degree</td>\n",
              "      <td>B+</td>\n",
              "      <td>1</td>\n",
              "      <td>8</td>\n",
              "      <td>unemployed</td>\n",
              "      <td>suburbs</td>\n",
              "      <td>sometimes</td>\n",
              "      <td>r&amp;b</td>\n",
              "      <td>orange</td>\n",
              "      <td>other</td>\n",
              "      <td>not_applicable</td>\n",
              "      <td>1</td>\n",
              "      <td>0</td>\n",
              "      <td>0</td>\n",
              "      <td>0</td>\n",
              "      <td>1</td>\n",
              "      <td>none</td>\n",
              "      <td>366.43</td>\n",
              "      <td>1</td>\n",
              "      <td>16</td>\n",
              "      <td>0</td>\n",
              "    </tr>\n",
              "    <tr>\n",
              "      <th>3</th>\n",
              "      <td>female</td>\n",
              "      <td>Mildred Valentine</td>\n",
              "      <td>1992</td>\n",
              "      <td>90.29</td>\n",
              "      <td>159.20</td>\n",
              "      <td>brown</td>\n",
              "      <td>middle_eastern</td>\n",
              "      <td>apartment</td>\n",
              "      <td>high_school</td>\n",
              "      <td>O+</td>\n",
              "      <td>5</td>\n",
              "      <td>9</td>\n",
              "      <td>business</td>\n",
              "      <td>rural</td>\n",
              "      <td>never</td>\n",
              "      <td>pop</td>\n",
              "      <td>yellow</td>\n",
              "      <td>honda</td>\n",
              "      <td>43</td>\n",
              "      <td>1</td>\n",
              "      <td>1</td>\n",
              "      <td>0</td>\n",
              "      <td>0</td>\n",
              "      <td>0</td>\n",
              "      <td>none</td>\n",
              "      <td>1548.20</td>\n",
              "      <td>1</td>\n",
              "      <td>1</td>\n",
              "      <td>1</td>\n",
              "    </tr>\n",
              "    <tr>\n",
              "      <th>4</th>\n",
              "      <td>male</td>\n",
              "      <td>Francisco Hill</td>\n",
              "      <td>2013</td>\n",
              "      <td>40.23</td>\n",
              "      <td>96.61</td>\n",
              "      <td>brown</td>\n",
              "      <td>asian</td>\n",
              "      <td>apartment</td>\n",
              "      <td>not_applicable</td>\n",
              "      <td>O-</td>\n",
              "      <td>1</td>\n",
              "      <td>9</td>\n",
              "      <td>engineering</td>\n",
              "      <td>urban</td>\n",
              "      <td>sometimes</td>\n",
              "      <td>rock</td>\n",
              "      <td>purple</td>\n",
              "      <td>none</td>\n",
              "      <td>38</td>\n",
              "      <td>1</td>\n",
              "      <td>1</td>\n",
              "      <td>0</td>\n",
              "      <td>0</td>\n",
              "      <td>0</td>\n",
              "      <td>long</td>\n",
              "      <td>361.75</td>\n",
              "      <td>1</td>\n",
              "      <td>12</td>\n",
              "      <td>0</td>\n",
              "    </tr>\n",
              "  </tbody>\n",
              "</table>\n",
              "</div>"
            ],
            "text/plain": [
              "   gender          full_name  ...  fast_food_meals_per_month  infected\n",
              "0    male   Gerald Valentine  ...                          2         0\n",
              "1    male          Chad Sell  ...                          0         0\n",
              "2    male      Alex Crawford  ...                         16         0\n",
              "3  female  Mildred Valentine  ...                          1         1\n",
              "4    male     Francisco Hill  ...                         12         0\n",
              "\n",
              "[5 rows x 29 columns]"
            ]
          },
          "metadata": {
            "tags": []
          },
          "execution_count": 487
        }
      ]
    },
    {
      "cell_type": "code",
      "metadata": {
        "colab_type": "code",
        "id": "QqS4zlkwfS0n",
        "colab": {
          "base_uri": "https://localhost:8080/",
          "height": 87
        },
        "outputId": "eff5047c-7b24-411c-b2fa-c3dda5d042fe"
      },
      "source": [
        "tr.facial_hair.value_counts()"
      ],
      "execution_count": 488,
      "outputs": [
        {
          "output_type": "execute_result",
          "data": {
            "text/plain": [
              "none     5916\n",
              "short    1213\n",
              "long      871\n",
              "Name: facial_hair, dtype: int64"
            ]
          },
          "metadata": {
            "tags": []
          },
          "execution_count": 488
        }
      ]
    },
    {
      "cell_type": "code",
      "metadata": {
        "colab_type": "code",
        "id": "pLmr4YdafS0q",
        "colab": {
          "base_uri": "https://localhost:8080/",
          "height": 87
        },
        "outputId": "edd26e2e-73b3-4eef-9fd4-86169b691beb"
      },
      "source": [
        "tr['facial_hair'] = tr['facial_hair'].map({'none': 0, 'short': 1,'long':2 })\n",
        "tr.facial_hair.value_counts()"
      ],
      "execution_count": 489,
      "outputs": [
        {
          "output_type": "execute_result",
          "data": {
            "text/plain": [
              "0    5916\n",
              "1    1213\n",
              "2     871\n",
              "Name: facial_hair, dtype: int64"
            ]
          },
          "metadata": {
            "tags": []
          },
          "execution_count": 489
        }
      ]
    },
    {
      "cell_type": "code",
      "metadata": {
        "colab_type": "code",
        "id": "9Ij475zqfS0u",
        "colab": {
          "base_uri": "https://localhost:8080/",
          "height": 562
        },
        "outputId": "589cc74a-1020-47cb-b4af-895808c28e42"
      },
      "source": [
        "tr.hours_worked_each_week.value_counts()"
      ],
      "execution_count": 490,
      "outputs": [
        {
          "output_type": "execute_result",
          "data": {
            "text/plain": [
              "not_applicable    2793\n",
              "39                 543\n",
              "40                 505\n",
              "41                 504\n",
              "42                 481\n",
              "38                 472\n",
              "43                 399\n",
              "37                 359\n",
              "36                 312\n",
              "44                 306\n",
              "35                 232\n",
              "45                 227\n",
              "34                 183\n",
              "46                 154\n",
              "47                 112\n",
              "33                 107\n",
              "48                  73\n",
              "32                  64\n",
              "31                  46\n",
              "49                  36\n",
              "30                  24\n",
              "50                  20\n",
              "51                  17\n",
              "27                   8\n",
              "28                   7\n",
              "29                   6\n",
              "26                   4\n",
              "52                   3\n",
              "56                   2\n",
              "53                   1\n",
              "Name: hours_worked_each_week, dtype: int64"
            ]
          },
          "metadata": {
            "tags": []
          },
          "execution_count": 490
        }
      ]
    },
    {
      "cell_type": "code",
      "metadata": {
        "colab_type": "code",
        "id": "i-kvt0uyfS0x",
        "colab": {
          "base_uri": "https://localhost:8080/",
          "height": 562
        },
        "outputId": "cc40a46f-9f42-41ef-a465-2c31e8ff64fe"
      },
      "source": [
        "tr['hours_worked_each_week'] = tr['hours_worked_each_week'].replace('not_applicable', 0)\n",
        "tr.hours_worked_each_week.value_counts()"
      ],
      "execution_count": 491,
      "outputs": [
        {
          "output_type": "execute_result",
          "data": {
            "text/plain": [
              "0     2793\n",
              "39     543\n",
              "40     505\n",
              "41     504\n",
              "42     481\n",
              "38     472\n",
              "43     399\n",
              "37     359\n",
              "36     312\n",
              "44     306\n",
              "35     232\n",
              "45     227\n",
              "34     183\n",
              "46     154\n",
              "47     112\n",
              "33     107\n",
              "48      73\n",
              "32      64\n",
              "31      46\n",
              "49      36\n",
              "30      24\n",
              "50      20\n",
              "51      17\n",
              "27       8\n",
              "28       7\n",
              "29       6\n",
              "26       4\n",
              "52       3\n",
              "56       2\n",
              "53       1\n",
              "Name: hours_worked_each_week, dtype: int64"
            ]
          },
          "metadata": {
            "tags": []
          },
          "execution_count": 491
        }
      ]
    },
    {
      "cell_type": "code",
      "metadata": {
        "colab_type": "code",
        "id": "Mc1X4AQufS00",
        "colab": {}
      },
      "source": [
        "tr['hours_worked_each_week']=pd.to_numeric(tr['hours_worked_each_week'])"
      ],
      "execution_count": 492,
      "outputs": []
    },
    {
      "cell_type": "code",
      "metadata": {
        "colab_type": "code",
        "id": "iSvY5ez6fS04",
        "colab": {}
      },
      "source": [
        "tr['gender'] = tr['gender'].map({'male': 1, 'female': 2})"
      ],
      "execution_count": 493,
      "outputs": []
    },
    {
      "cell_type": "code",
      "metadata": {
        "colab_type": "code",
        "id": "tF6hg7rSfS07",
        "colab": {
          "base_uri": "https://localhost:8080/",
          "height": 175
        },
        "outputId": "254a68fd-3b0c-48bb-f52d-bd2d094f828c"
      },
      "source": [
        "tr.blood_type.value_counts()"
      ],
      "execution_count": 494,
      "outputs": [
        {
          "output_type": "execute_result",
          "data": {
            "text/plain": [
              "O+     3008\n",
              "A+     2727\n",
              "B+      706\n",
              "O-      559\n",
              "A-      481\n",
              "AB+     232\n",
              "B-      197\n",
              "AB-      90\n",
              "Name: blood_type, dtype: int64"
            ]
          },
          "metadata": {
            "tags": []
          },
          "execution_count": 494
        }
      ]
    },
    {
      "cell_type": "code",
      "metadata": {
        "colab_type": "code",
        "id": "9HBwJQSOfS1C",
        "colab": {}
      },
      "source": [
        "tr['blood_type'] = tr['blood_type'].map({'O+': 1,'O-':-1,'A+':2,'A-':-2,'B+':3,'B-':-3,'AB+':4,'AB-':-4})"
      ],
      "execution_count": 495,
      "outputs": []
    },
    {
      "cell_type": "code",
      "metadata": {
        "colab_type": "code",
        "id": "neT1eGQYfS1K",
        "colab": {
          "base_uri": "https://localhost:8080/",
          "height": 175
        },
        "outputId": "d534132b-1fa4-4d41-f2a9-ac7b32e5d32c"
      },
      "source": [
        "tr.blood_type.value_counts()"
      ],
      "execution_count": 496,
      "outputs": [
        {
          "output_type": "execute_result",
          "data": {
            "text/plain": [
              " 1    3008\n",
              " 2    2727\n",
              " 3     706\n",
              "-1     559\n",
              "-2     481\n",
              " 4     232\n",
              "-3     197\n",
              "-4      90\n",
              "Name: blood_type, dtype: int64"
            ]
          },
          "metadata": {
            "tags": []
          },
          "execution_count": 496
        }
      ]
    },
    {
      "cell_type": "code",
      "metadata": {
        "colab_type": "code",
        "id": "HlhzjL9kfS1O",
        "colab": {
          "base_uri": "https://localhost:8080/",
          "height": 105
        },
        "outputId": "0882efce-01f6-48a6-b290-8287826637a2"
      },
      "source": [
        "tr.sports_engagement.value_counts()"
      ],
      "execution_count": 497,
      "outputs": [
        {
          "output_type": "execute_result",
          "data": {
            "text/plain": [
              "sometimes    2676\n",
              "never        2348\n",
              "seldom       1724\n",
              "regularly    1252\n",
              "Name: sports_engagement, dtype: int64"
            ]
          },
          "metadata": {
            "tags": []
          },
          "execution_count": 497
        }
      ]
    },
    {
      "cell_type": "code",
      "metadata": {
        "colab_type": "code",
        "id": "Azo2LVw8fS1R",
        "colab": {
          "base_uri": "https://localhost:8080/",
          "height": 105
        },
        "outputId": "f92b5118-a1be-47b6-e83c-fe34076f8565"
      },
      "source": [
        "tr['sports_engagement'] = tr['sports_engagement'].map({'never': 0, 'sometimes':1,'seldom':2,'regularly':3 })\n",
        "tr.sports_engagement.value_counts()"
      ],
      "execution_count": 498,
      "outputs": [
        {
          "output_type": "execute_result",
          "data": {
            "text/plain": [
              "1    2676\n",
              "0    2348\n",
              "2    1724\n",
              "3    1252\n",
              "Name: sports_engagement, dtype: int64"
            ]
          },
          "metadata": {
            "tags": []
          },
          "execution_count": 498
        }
      ]
    },
    {
      "cell_type": "code",
      "metadata": {
        "colab_type": "code",
        "id": "WAr7ZxpCfS1Y",
        "colab": {
          "base_uri": "https://localhost:8080/",
          "height": 140
        },
        "outputId": "fdf7cdde-d927-433b-9a27-64c3849f380c"
      },
      "source": [
        "tr.eye_color.value_counts()"
      ],
      "execution_count": 499,
      "outputs": [
        {
          "output_type": "execute_result",
          "data": {
            "text/plain": [
              "brown    6151\n",
              "blue      632\n",
              "amber     408\n",
              "hazel     403\n",
              "gray      250\n",
              "green     156\n",
              "Name: eye_color, dtype: int64"
            ]
          },
          "metadata": {
            "tags": []
          },
          "execution_count": 499
        }
      ]
    },
    {
      "cell_type": "code",
      "metadata": {
        "colab_type": "code",
        "id": "irKDjY02fS1c",
        "colab": {
          "base_uri": "https://localhost:8080/",
          "height": 140
        },
        "outputId": "2ee2de8f-2f40-46c1-fe81-3b0833e254c9"
      },
      "source": [
        "tr['eye_color'] = tr['eye_color'].map({'brown':1,'blue':2,'amber':3,'hazel':4,'gray':5,'green':6})\n",
        "tr.eye_color.value_counts()"
      ],
      "execution_count": 500,
      "outputs": [
        {
          "output_type": "execute_result",
          "data": {
            "text/plain": [
              "1    6151\n",
              "2     632\n",
              "3     408\n",
              "4     403\n",
              "5     250\n",
              "6     156\n",
              "Name: eye_color, dtype: int64"
            ]
          },
          "metadata": {
            "tags": []
          },
          "execution_count": 500
        }
      ]
    },
    {
      "cell_type": "code",
      "metadata": {
        "colab_type": "code",
        "id": "TE0KA6WQfS1h",
        "colab": {
          "base_uri": "https://localhost:8080/",
          "height": 105
        },
        "outputId": "51069906-1593-4249-ff57-5089bb39b895"
      },
      "source": [
        "tr.race.value_counts()"
      ],
      "execution_count": 501,
      "outputs": [
        {
          "output_type": "execute_result",
          "data": {
            "text/plain": [
              "asian             3627\n",
              "white             2610\n",
              "black             1213\n",
              "middle_eastern     550\n",
              "Name: race, dtype: int64"
            ]
          },
          "metadata": {
            "tags": []
          },
          "execution_count": 501
        }
      ]
    },
    {
      "cell_type": "code",
      "metadata": {
        "colab_type": "code",
        "id": "jB75BmjafS1l",
        "colab": {
          "base_uri": "https://localhost:8080/",
          "height": 105
        },
        "outputId": "5d5ed25f-2237-4096-8108-a759a3295461"
      },
      "source": [
        "tr['race'] = tr['race'].map({'asian':1,'white':2,'black':3,'middle_eastern':4})\n",
        "tr.race.value_counts()"
      ],
      "execution_count": 502,
      "outputs": [
        {
          "output_type": "execute_result",
          "data": {
            "text/plain": [
              "1    3627\n",
              "2    2610\n",
              "3    1213\n",
              "4     550\n",
              "Name: race, dtype: int64"
            ]
          },
          "metadata": {
            "tags": []
          },
          "execution_count": 502
        }
      ]
    },
    {
      "cell_type": "code",
      "metadata": {
        "colab_type": "code",
        "id": "qH1qsPc5fS1o",
        "colab": {
          "base_uri": "https://localhost:8080/",
          "height": 122
        },
        "outputId": "b3acfa0e-ee8b-4d70-b3d1-3e081958c314"
      },
      "source": [
        "tr.accommodation_type.value_counts()"
      ],
      "execution_count": 503,
      "outputs": [
        {
          "output_type": "execute_result",
          "data": {
            "text/plain": [
              "apartment           5078\n",
              "villa               1664\n",
              "shared_residence     675\n",
              "other                511\n",
              "homeless              72\n",
              "Name: accommodation_type, dtype: int64"
            ]
          },
          "metadata": {
            "tags": []
          },
          "execution_count": 503
        }
      ]
    },
    {
      "cell_type": "code",
      "metadata": {
        "colab_type": "code",
        "id": "v__ioSBVfS1r",
        "colab": {
          "base_uri": "https://localhost:8080/",
          "height": 122
        },
        "outputId": "5869eeb6-6c2a-4289-a745-aeae49a55f2c"
      },
      "source": [
        "tr['accommodation_type'] = tr['accommodation_type'].map({'homeless':0,'apartment':1,'villa':2,'shared_residence':3,'other':4})\n",
        "tr.accommodation_type.value_counts()"
      ],
      "execution_count": 504,
      "outputs": [
        {
          "output_type": "execute_result",
          "data": {
            "text/plain": [
              "1    5078\n",
              "2    1664\n",
              "3     675\n",
              "4     511\n",
              "0      72\n",
              "Name: accommodation_type, dtype: int64"
            ]
          },
          "metadata": {
            "tags": []
          },
          "execution_count": 504
        }
      ]
    },
    {
      "cell_type": "code",
      "metadata": {
        "colab_type": "code",
        "id": "N3fz1ZSYfS1u",
        "colab": {
          "base_uri": "https://localhost:8080/",
          "height": 140
        },
        "outputId": "cb96dd4b-9115-40ad-a764-12b974687a8a"
      },
      "source": [
        "tr.education_status.value_counts()"
      ],
      "execution_count": 505,
      "outputs": [
        {
          "output_type": "execute_result",
          "data": {
            "text/plain": [
              "bachelors_degree                   2076\n",
              "high_school                        2043\n",
              "not_applicable                     1538\n",
              "associate_degree                   1256\n",
              "graduate_or_professional_degree     585\n",
              "less_than_9th_grade                 502\n",
              "Name: education_status, dtype: int64"
            ]
          },
          "metadata": {
            "tags": []
          },
          "execution_count": 505
        }
      ]
    },
    {
      "cell_type": "code",
      "metadata": {
        "colab_type": "code",
        "id": "OSy8Dx3GfS1z",
        "colab": {
          "base_uri": "https://localhost:8080/",
          "height": 140
        },
        "outputId": "44bc400c-d7c0-4b93-d3c9-79963728f8cb"
      },
      "source": [
        "tr['education_status'] = tr['education_status'].map({'not_applicable':0,'bachelors_degree':1,'high_school':2,'associate_degree':3,'graduate_or_professional_degree':4,'less_than_9th_grade':5})\n",
        "tr.education_status.value_counts()"
      ],
      "execution_count": 506,
      "outputs": [
        {
          "output_type": "execute_result",
          "data": {
            "text/plain": [
              "1    2076\n",
              "2    2043\n",
              "0    1538\n",
              "3    1256\n",
              "4     585\n",
              "5     502\n",
              "Name: education_status, dtype: int64"
            ]
          },
          "metadata": {
            "tags": []
          },
          "execution_count": 506
        }
      ]
    },
    {
      "cell_type": "code",
      "metadata": {
        "colab_type": "code",
        "id": "c6r7feztfS13",
        "colab": {
          "base_uri": "https://localhost:8080/",
          "height": 175
        },
        "outputId": "26ffc817-c7d2-4409-e000-4471657d5f8f"
      },
      "source": [
        "tr.occupation.value_counts()"
      ],
      "execution_count": 507,
      "outputs": [
        {
          "output_type": "execute_result",
          "data": {
            "text/plain": [
              "unemployed     2793\n",
              "other          1357\n",
              "education      1140\n",
              "business        862\n",
              "art             702\n",
              "engineering     519\n",
              "healthcare      349\n",
              "agriculture     278\n",
              "Name: occupation, dtype: int64"
            ]
          },
          "metadata": {
            "tags": []
          },
          "execution_count": 507
        }
      ]
    },
    {
      "cell_type": "code",
      "metadata": {
        "colab_type": "code",
        "id": "TO139NcsfS18",
        "colab": {
          "base_uri": "https://localhost:8080/",
          "height": 175
        },
        "outputId": "28fb1672-843e-4313-e11d-b09eeb93c88c"
      },
      "source": [
        "tr['occupation']=tr['occupation'].map({'unemployed':0,'education':1,'business':2,'art':3,'engineering':4,'healthcare':5,'agriculture':6,'other':7})\n",
        "tr.occupation.value_counts()"
      ],
      "execution_count": 508,
      "outputs": [
        {
          "output_type": "execute_result",
          "data": {
            "text/plain": [
              "0    2793\n",
              "7    1357\n",
              "1    1140\n",
              "2     862\n",
              "3     702\n",
              "4     519\n",
              "5     349\n",
              "6     278\n",
              "Name: occupation, dtype: int64"
            ]
          },
          "metadata": {
            "tags": []
          },
          "execution_count": 508
        }
      ]
    },
    {
      "cell_type": "code",
      "metadata": {
        "colab_type": "code",
        "id": "PXxG6djYfS1_",
        "colab": {
          "base_uri": "https://localhost:8080/",
          "height": 105
        },
        "outputId": "ca1301c6-7626-4e31-adf2-b0d3a419eb1b"
      },
      "source": [
        "tr.living_area.value_counts()"
      ],
      "execution_count": 509,
      "outputs": [
        {
          "output_type": "execute_result",
          "data": {
            "text/plain": [
              "suburbs    3908\n",
              "urban      2261\n",
              "rural      1377\n",
              "other       454\n",
              "Name: living_area, dtype: int64"
            ]
          },
          "metadata": {
            "tags": []
          },
          "execution_count": 509
        }
      ]
    },
    {
      "cell_type": "code",
      "metadata": {
        "colab_type": "code",
        "id": "5kR6kCpUfS2C",
        "colab": {
          "base_uri": "https://localhost:8080/",
          "height": 105
        },
        "outputId": "613252a3-10bc-4155-86fb-b3819854fd9b"
      },
      "source": [
        "tr['living_area']=tr['living_area'].map({'suburbs':1,'urban':2,'rural':3,'other':4})\n",
        "tr.living_area.value_counts()"
      ],
      "execution_count": 510,
      "outputs": [
        {
          "output_type": "execute_result",
          "data": {
            "text/plain": [
              "1    3908\n",
              "2    2261\n",
              "3    1377\n",
              "4     454\n",
              "Name: living_area, dtype: int64"
            ]
          },
          "metadata": {
            "tags": []
          },
          "execution_count": 510
        }
      ]
    },
    {
      "cell_type": "code",
      "metadata": {
        "colab_type": "code",
        "id": "Ic_qqjKSfS2F",
        "colab": {
          "base_uri": "https://localhost:8080/",
          "height": 158
        },
        "outputId": "266d26c5-b5cd-4570-feba-b7c6f8e918cb"
      },
      "source": [
        "tr.favorite_music_genre.value_counts()"
      ],
      "execution_count": 511,
      "outputs": [
        {
          "output_type": "execute_result",
          "data": {
            "text/plain": [
              "rock         2420\n",
              "r&b          1756\n",
              "pop          1462\n",
              "other        1086\n",
              "country       830\n",
              "edm           289\n",
              "classical     157\n",
              "Name: favorite_music_genre, dtype: int64"
            ]
          },
          "metadata": {
            "tags": []
          },
          "execution_count": 511
        }
      ]
    },
    {
      "cell_type": "code",
      "metadata": {
        "colab_type": "code",
        "id": "rM34I2nifS2J",
        "colab": {
          "base_uri": "https://localhost:8080/",
          "height": 158
        },
        "outputId": "13a118dc-d88b-4031-aa42-2e33a171989d"
      },
      "source": [
        "tr['favorite_music_genre']=tr['favorite_music_genre'].map({'rock':1,'r&b':2,'pop':3,'country':4,'edm':5,'classical':6,'other':7})\n",
        "tr.favorite_music_genre.value_counts()"
      ],
      "execution_count": 512,
      "outputs": [
        {
          "output_type": "execute_result",
          "data": {
            "text/plain": [
              "1    2420\n",
              "2    1756\n",
              "3    1462\n",
              "7    1086\n",
              "4     830\n",
              "5     289\n",
              "6     157\n",
              "Name: favorite_music_genre, dtype: int64"
            ]
          },
          "metadata": {
            "tags": []
          },
          "execution_count": 512
        }
      ]
    },
    {
      "cell_type": "code",
      "metadata": {
        "colab_type": "code",
        "id": "p0ikulR4fS2M",
        "colab": {
          "base_uri": "https://localhost:8080/",
          "height": 158
        },
        "outputId": "b5a19070-7910-4c8a-cc22-1de355336f11"
      },
      "source": [
        "tr.favorite_color.value_counts()"
      ],
      "execution_count": 513,
      "outputs": [
        {
          "output_type": "execute_result",
          "data": {
            "text/plain": [
              "blue      3096\n",
              "green     1798\n",
              "purple    1172\n",
              "red        688\n",
              "yellow     452\n",
              "orange     431\n",
              "pink       363\n",
              "Name: favorite_color, dtype: int64"
            ]
          },
          "metadata": {
            "tags": []
          },
          "execution_count": 513
        }
      ]
    },
    {
      "cell_type": "code",
      "metadata": {
        "colab_type": "code",
        "id": "vgIJ5oZKfS2P",
        "colab": {
          "base_uri": "https://localhost:8080/",
          "height": 158
        },
        "outputId": "cdb49819-3c2f-4be8-acad-df6186cf5535"
      },
      "source": [
        "tr['favorite_color']=tr['favorite_color'].map({'blue':1,'green':2,'purple':3,'red':4,'yellow':5,'orange':6,'pink':7})\n",
        "tr.favorite_color.value_counts()"
      ],
      "execution_count": 514,
      "outputs": [
        {
          "output_type": "execute_result",
          "data": {
            "text/plain": [
              "1    3096\n",
              "2    1798\n",
              "3    1172\n",
              "4     688\n",
              "5     452\n",
              "6     431\n",
              "7     363\n",
              "Name: favorite_color, dtype: int64"
            ]
          },
          "metadata": {
            "tags": []
          },
          "execution_count": 514
        }
      ]
    },
    {
      "cell_type": "code",
      "metadata": {
        "colab_type": "code",
        "id": "q6yjMwnRfS2T",
        "colab": {
          "base_uri": "https://localhost:8080/",
          "height": 210
        },
        "outputId": "aebef549-403d-456b-ec70-d998c819dd09"
      },
      "source": [
        "tr.owned_car_brand.value_counts()"
      ],
      "execution_count": 515,
      "outputs": [
        {
          "output_type": "execute_result",
          "data": {
            "text/plain": [
              "none          2621\n",
              "other          974\n",
              "honda          903\n",
              "ford           780\n",
              "hyundai        594\n",
              "audi           571\n",
              "kia            455\n",
              "tesla          428\n",
              "bmw            417\n",
              "mitsubishi     257\n",
              "Name: owned_car_brand, dtype: int64"
            ]
          },
          "metadata": {
            "tags": []
          },
          "execution_count": 515
        }
      ]
    },
    {
      "cell_type": "code",
      "metadata": {
        "colab_type": "code",
        "id": "-YIZQCDnfS2V",
        "colab": {
          "base_uri": "https://localhost:8080/",
          "height": 210
        },
        "outputId": "7b25be0c-1c04-4c01-88d6-9910f7321f17"
      },
      "source": [
        "tr['owned_car_brand']=tr['owned_car_brand'].map({'none':0,'honda':1,'bmw':2,'ford':3,'hyundai':4,'audi':5,'kia':6,'tesla':7,'mitsubishi':8,'other':9})\n",
        "tr.owned_car_brand.value_counts()"
      ],
      "execution_count": 516,
      "outputs": [
        {
          "output_type": "execute_result",
          "data": {
            "text/plain": [
              "0    2621\n",
              "9     974\n",
              "1     903\n",
              "3     780\n",
              "4     594\n",
              "5     571\n",
              "6     455\n",
              "7     428\n",
              "2     417\n",
              "8     257\n",
              "Name: owned_car_brand, dtype: int64"
            ]
          },
          "metadata": {
            "tags": []
          },
          "execution_count": 516
        }
      ]
    },
    {
      "cell_type": "code",
      "metadata": {
        "colab_type": "code",
        "id": "G1XTDBusfS2Y",
        "colab": {
          "base_uri": "https://localhost:8080/",
          "height": 650
        },
        "outputId": "65564ecc-52cc-4171-e6f6-b2adc28d6faa"
      },
      "source": [
        "tr.info()"
      ],
      "execution_count": 517,
      "outputs": [
        {
          "output_type": "stream",
          "text": [
            "<class 'pandas.core.frame.DataFrame'>\n",
            "RangeIndex: 8000 entries, 0 to 7999\n",
            "Data columns (total 29 columns):\n",
            " #   Column                       Non-Null Count  Dtype  \n",
            "---  ------                       --------------  -----  \n",
            " 0   gender                       8000 non-null   int64  \n",
            " 1   full_name                    8000 non-null   object \n",
            " 2   year_of_birth                8000 non-null   int64  \n",
            " 3   weight                       8000 non-null   float64\n",
            " 4   height                       8000 non-null   float64\n",
            " 5   eye_color                    8000 non-null   int64  \n",
            " 6   race                         8000 non-null   int64  \n",
            " 7   accommodation_type           8000 non-null   int64  \n",
            " 8   education_status             8000 non-null   int64  \n",
            " 9   blood_type                   8000 non-null   int64  \n",
            " 10  family_members_count         8000 non-null   int64  \n",
            " 11  avg_sleep_hours              8000 non-null   int64  \n",
            " 12  occupation                   8000 non-null   int64  \n",
            " 13  living_area                  8000 non-null   int64  \n",
            " 14  sports_engagement            8000 non-null   int64  \n",
            " 15  favorite_music_genre         8000 non-null   int64  \n",
            " 16  favorite_color               8000 non-null   int64  \n",
            " 17  owned_car_brand              8000 non-null   int64  \n",
            " 18  hours_worked_each_week       8000 non-null   int64  \n",
            " 19  owns_a_pet                   8000 non-null   int64  \n",
            " 20  has_health_insurance         8000 non-null   int64  \n",
            " 21  has_cancer                   8000 non-null   int64  \n",
            " 22  smokes                       8000 non-null   int64  \n",
            " 23  has_alzheimers               8000 non-null   int64  \n",
            " 24  facial_hair                  8000 non-null   int64  \n",
            " 25  daily_household_water_usage  8000 non-null   float64\n",
            " 26  diet_type                    8000 non-null   int64  \n",
            " 27  fast_food_meals_per_month    8000 non-null   int64  \n",
            " 28  infected                     8000 non-null   int64  \n",
            "dtypes: float64(3), int64(25), object(1)\n",
            "memory usage: 1.8+ MB\n"
          ],
          "name": "stdout"
        }
      ]
    },
    {
      "cell_type": "code",
      "metadata": {
        "colab_type": "code",
        "id": "9-wLVfoNfS2a",
        "colab": {
          "base_uri": "https://localhost:8080/",
          "height": 215
        },
        "outputId": "0bea2153-a049-46b3-8ff1-dc012cb2b8fb"
      },
      "source": [
        "#trM=tr\n",
        "new=tr['full_name'].str.split(\" \", n = 1, expand = True) \n",
        "tr['full_name']=new[1]\n",
        "trM=tr\n",
        "tr.head()"
      ],
      "execution_count": 518,
      "outputs": [
        {
          "output_type": "execute_result",
          "data": {
            "text/html": [
              "<div>\n",
              "<style scoped>\n",
              "    .dataframe tbody tr th:only-of-type {\n",
              "        vertical-align: middle;\n",
              "    }\n",
              "\n",
              "    .dataframe tbody tr th {\n",
              "        vertical-align: top;\n",
              "    }\n",
              "\n",
              "    .dataframe thead th {\n",
              "        text-align: right;\n",
              "    }\n",
              "</style>\n",
              "<table border=\"1\" class=\"dataframe\">\n",
              "  <thead>\n",
              "    <tr style=\"text-align: right;\">\n",
              "      <th></th>\n",
              "      <th>gender</th>\n",
              "      <th>full_name</th>\n",
              "      <th>year_of_birth</th>\n",
              "      <th>weight</th>\n",
              "      <th>height</th>\n",
              "      <th>eye_color</th>\n",
              "      <th>race</th>\n",
              "      <th>accommodation_type</th>\n",
              "      <th>education_status</th>\n",
              "      <th>blood_type</th>\n",
              "      <th>family_members_count</th>\n",
              "      <th>avg_sleep_hours</th>\n",
              "      <th>occupation</th>\n",
              "      <th>living_area</th>\n",
              "      <th>sports_engagement</th>\n",
              "      <th>favorite_music_genre</th>\n",
              "      <th>favorite_color</th>\n",
              "      <th>owned_car_brand</th>\n",
              "      <th>hours_worked_each_week</th>\n",
              "      <th>owns_a_pet</th>\n",
              "      <th>has_health_insurance</th>\n",
              "      <th>has_cancer</th>\n",
              "      <th>smokes</th>\n",
              "      <th>has_alzheimers</th>\n",
              "      <th>facial_hair</th>\n",
              "      <th>daily_household_water_usage</th>\n",
              "      <th>diet_type</th>\n",
              "      <th>fast_food_meals_per_month</th>\n",
              "      <th>infected</th>\n",
              "    </tr>\n",
              "  </thead>\n",
              "  <tbody>\n",
              "    <tr>\n",
              "      <th>0</th>\n",
              "      <td>1</td>\n",
              "      <td>Valentine</td>\n",
              "      <td>2024</td>\n",
              "      <td>8.69</td>\n",
              "      <td>52.32</td>\n",
              "      <td>1</td>\n",
              "      <td>3</td>\n",
              "      <td>1</td>\n",
              "      <td>0</td>\n",
              "      <td>2</td>\n",
              "      <td>4</td>\n",
              "      <td>12</td>\n",
              "      <td>0</td>\n",
              "      <td>1</td>\n",
              "      <td>0</td>\n",
              "      <td>2</td>\n",
              "      <td>2</td>\n",
              "      <td>0</td>\n",
              "      <td>0</td>\n",
              "      <td>0</td>\n",
              "      <td>0</td>\n",
              "      <td>0</td>\n",
              "      <td>0</td>\n",
              "      <td>0</td>\n",
              "      <td>0</td>\n",
              "      <td>1471.95</td>\n",
              "      <td>1</td>\n",
              "      <td>2</td>\n",
              "      <td>0</td>\n",
              "    </tr>\n",
              "    <tr>\n",
              "      <th>1</th>\n",
              "      <td>1</td>\n",
              "      <td>Sell</td>\n",
              "      <td>1956</td>\n",
              "      <td>93.21</td>\n",
              "      <td>157.04</td>\n",
              "      <td>1</td>\n",
              "      <td>1</td>\n",
              "      <td>2</td>\n",
              "      <td>3</td>\n",
              "      <td>4</td>\n",
              "      <td>5</td>\n",
              "      <td>6</td>\n",
              "      <td>3</td>\n",
              "      <td>1</td>\n",
              "      <td>0</td>\n",
              "      <td>1</td>\n",
              "      <td>2</td>\n",
              "      <td>0</td>\n",
              "      <td>30</td>\n",
              "      <td>0</td>\n",
              "      <td>0</td>\n",
              "      <td>0</td>\n",
              "      <td>0</td>\n",
              "      <td>0</td>\n",
              "      <td>1</td>\n",
              "      <td>1969.39</td>\n",
              "      <td>1</td>\n",
              "      <td>0</td>\n",
              "      <td>0</td>\n",
              "    </tr>\n",
              "    <tr>\n",
              "      <th>2</th>\n",
              "      <td>1</td>\n",
              "      <td>Crawford</td>\n",
              "      <td>1949</td>\n",
              "      <td>83.79</td>\n",
              "      <td>187.70</td>\n",
              "      <td>1</td>\n",
              "      <td>2</td>\n",
              "      <td>1</td>\n",
              "      <td>3</td>\n",
              "      <td>3</td>\n",
              "      <td>1</td>\n",
              "      <td>8</td>\n",
              "      <td>0</td>\n",
              "      <td>1</td>\n",
              "      <td>1</td>\n",
              "      <td>2</td>\n",
              "      <td>6</td>\n",
              "      <td>9</td>\n",
              "      <td>0</td>\n",
              "      <td>1</td>\n",
              "      <td>0</td>\n",
              "      <td>0</td>\n",
              "      <td>0</td>\n",
              "      <td>1</td>\n",
              "      <td>0</td>\n",
              "      <td>366.43</td>\n",
              "      <td>1</td>\n",
              "      <td>16</td>\n",
              "      <td>0</td>\n",
              "    </tr>\n",
              "    <tr>\n",
              "      <th>3</th>\n",
              "      <td>2</td>\n",
              "      <td>Valentine</td>\n",
              "      <td>1992</td>\n",
              "      <td>90.29</td>\n",
              "      <td>159.20</td>\n",
              "      <td>1</td>\n",
              "      <td>4</td>\n",
              "      <td>1</td>\n",
              "      <td>2</td>\n",
              "      <td>1</td>\n",
              "      <td>5</td>\n",
              "      <td>9</td>\n",
              "      <td>2</td>\n",
              "      <td>3</td>\n",
              "      <td>0</td>\n",
              "      <td>3</td>\n",
              "      <td>5</td>\n",
              "      <td>1</td>\n",
              "      <td>43</td>\n",
              "      <td>1</td>\n",
              "      <td>1</td>\n",
              "      <td>0</td>\n",
              "      <td>0</td>\n",
              "      <td>0</td>\n",
              "      <td>0</td>\n",
              "      <td>1548.20</td>\n",
              "      <td>1</td>\n",
              "      <td>1</td>\n",
              "      <td>1</td>\n",
              "    </tr>\n",
              "    <tr>\n",
              "      <th>4</th>\n",
              "      <td>1</td>\n",
              "      <td>Hill</td>\n",
              "      <td>2013</td>\n",
              "      <td>40.23</td>\n",
              "      <td>96.61</td>\n",
              "      <td>1</td>\n",
              "      <td>1</td>\n",
              "      <td>1</td>\n",
              "      <td>0</td>\n",
              "      <td>-1</td>\n",
              "      <td>1</td>\n",
              "      <td>9</td>\n",
              "      <td>4</td>\n",
              "      <td>2</td>\n",
              "      <td>1</td>\n",
              "      <td>1</td>\n",
              "      <td>3</td>\n",
              "      <td>0</td>\n",
              "      <td>38</td>\n",
              "      <td>1</td>\n",
              "      <td>1</td>\n",
              "      <td>0</td>\n",
              "      <td>0</td>\n",
              "      <td>0</td>\n",
              "      <td>2</td>\n",
              "      <td>361.75</td>\n",
              "      <td>1</td>\n",
              "      <td>12</td>\n",
              "      <td>0</td>\n",
              "    </tr>\n",
              "  </tbody>\n",
              "</table>\n",
              "</div>"
            ],
            "text/plain": [
              "   gender  full_name  ...  fast_food_meals_per_month  infected\n",
              "0       1  Valentine  ...                          2         0\n",
              "1       1       Sell  ...                          0         0\n",
              "2       1   Crawford  ...                         16         0\n",
              "3       2  Valentine  ...                          1         1\n",
              "4       1       Hill  ...                         12         0\n",
              "\n",
              "[5 rows x 29 columns]"
            ]
          },
          "metadata": {
            "tags": []
          },
          "execution_count": 518
        }
      ]
    },
    {
      "cell_type": "code",
      "metadata": {
        "id": "GoXcubjjuNCd",
        "colab_type": "code",
        "colab": {
          "base_uri": "https://localhost:8080/",
          "height": 228
        },
        "outputId": "95638ace-0993-400f-e204-d3ce82e80516"
      },
      "source": [
        "tr.full_name.value_counts()"
      ],
      "execution_count": 519,
      "outputs": [
        {
          "output_type": "execute_result",
          "data": {
            "text/plain": [
              "Smith        81\n",
              "Jones        67\n",
              "Johnson      67\n",
              "Williams     59\n",
              "Brown        56\n",
              "             ..\n",
              "Greenough     1\n",
              "Buffkin       1\n",
              "Jellison      1\n",
              "Mutch         1\n",
              "Guest         1\n",
              "Name: full_name, Length: 4527, dtype: int64"
            ]
          },
          "metadata": {
            "tags": []
          },
          "execution_count": 519
        }
      ]
    },
    {
      "cell_type": "code",
      "metadata": {
        "colab_type": "code",
        "id": "PF5vArMLfS2c",
        "colab": {
          "base_uri": "https://localhost:8080/",
          "height": 228
        },
        "outputId": "4c8f730e-343b-4437-83cb-5d9f39fb309c"
      },
      "source": [
        "#trM=trM.drop('full_name',axis=1)\n",
        "from sklearn.preprocessing import LabelEncoder\n",
        "\n",
        "lb_make = LabelEncoder()\n",
        "trM['full_name'] = lb_make.fit_transform(trM['full_name'])\n",
        "trM.full_name.value_counts()"
      ],
      "execution_count": 520,
      "outputs": [
        {
          "output_type": "execute_result",
          "data": {
            "text/plain": [
              "3826    81\n",
              "2080    67\n",
              "2084    67\n",
              "4398    59\n",
              "505     56\n",
              "        ..\n",
              "2915     1\n",
              "2911     1\n",
              "862      1\n",
              "2907     1\n",
              "0        1\n",
              "Name: full_name, Length: 4527, dtype: int64"
            ]
          },
          "metadata": {
            "tags": []
          },
          "execution_count": 520
        }
      ]
    },
    {
      "cell_type": "code",
      "metadata": {
        "id": "eKr-iLU0iIe9",
        "colab_type": "code",
        "colab": {
          "base_uri": "https://localhost:8080/",
          "height": 156
        },
        "outputId": "aab455e5-38a1-4720-f9b2-2b852163a8c0"
      },
      "source": [
        "trM.groupby('infected').mean()"
      ],
      "execution_count": 521,
      "outputs": [
        {
          "output_type": "execute_result",
          "data": {
            "text/html": [
              "<div>\n",
              "<style scoped>\n",
              "    .dataframe tbody tr th:only-of-type {\n",
              "        vertical-align: middle;\n",
              "    }\n",
              "\n",
              "    .dataframe tbody tr th {\n",
              "        vertical-align: top;\n",
              "    }\n",
              "\n",
              "    .dataframe thead th {\n",
              "        text-align: right;\n",
              "    }\n",
              "</style>\n",
              "<table border=\"1\" class=\"dataframe\">\n",
              "  <thead>\n",
              "    <tr style=\"text-align: right;\">\n",
              "      <th></th>\n",
              "      <th>gender</th>\n",
              "      <th>full_name</th>\n",
              "      <th>year_of_birth</th>\n",
              "      <th>weight</th>\n",
              "      <th>height</th>\n",
              "      <th>eye_color</th>\n",
              "      <th>race</th>\n",
              "      <th>accommodation_type</th>\n",
              "      <th>education_status</th>\n",
              "      <th>blood_type</th>\n",
              "      <th>family_members_count</th>\n",
              "      <th>avg_sleep_hours</th>\n",
              "      <th>occupation</th>\n",
              "      <th>living_area</th>\n",
              "      <th>sports_engagement</th>\n",
              "      <th>favorite_music_genre</th>\n",
              "      <th>favorite_color</th>\n",
              "      <th>owned_car_brand</th>\n",
              "      <th>hours_worked_each_week</th>\n",
              "      <th>owns_a_pet</th>\n",
              "      <th>has_health_insurance</th>\n",
              "      <th>has_cancer</th>\n",
              "      <th>smokes</th>\n",
              "      <th>has_alzheimers</th>\n",
              "      <th>facial_hair</th>\n",
              "      <th>daily_household_water_usage</th>\n",
              "      <th>diet_type</th>\n",
              "      <th>fast_food_meals_per_month</th>\n",
              "    </tr>\n",
              "    <tr>\n",
              "      <th>infected</th>\n",
              "      <th></th>\n",
              "      <th></th>\n",
              "      <th></th>\n",
              "      <th></th>\n",
              "      <th></th>\n",
              "      <th></th>\n",
              "      <th></th>\n",
              "      <th></th>\n",
              "      <th></th>\n",
              "      <th></th>\n",
              "      <th></th>\n",
              "      <th></th>\n",
              "      <th></th>\n",
              "      <th></th>\n",
              "      <th></th>\n",
              "      <th></th>\n",
              "      <th></th>\n",
              "      <th></th>\n",
              "      <th></th>\n",
              "      <th></th>\n",
              "      <th></th>\n",
              "      <th></th>\n",
              "      <th></th>\n",
              "      <th></th>\n",
              "      <th></th>\n",
              "      <th></th>\n",
              "      <th></th>\n",
              "      <th></th>\n",
              "    </tr>\n",
              "  </thead>\n",
              "  <tbody>\n",
              "    <tr>\n",
              "      <th>0</th>\n",
              "      <td>1.470543</td>\n",
              "      <td>2294.436193</td>\n",
              "      <td>1985.926885</td>\n",
              "      <td>65.383692</td>\n",
              "      <td>151.369758</td>\n",
              "      <td>1.539052</td>\n",
              "      <td>1.877567</td>\n",
              "      <td>1.547304</td>\n",
              "      <td>1.785070</td>\n",
              "      <td>1.125696</td>\n",
              "      <td>5.068893</td>\n",
              "      <td>8.614277</td>\n",
              "      <td>2.432547</td>\n",
              "      <td>1.711764</td>\n",
              "      <td>1.207062</td>\n",
              "      <td>2.866820</td>\n",
              "      <td>2.623873</td>\n",
              "      <td>3.253694</td>\n",
              "      <td>25.443293</td>\n",
              "      <td>0.500096</td>\n",
              "      <td>0.698522</td>\n",
              "      <td>0.003838</td>\n",
              "      <td>0.161581</td>\n",
              "      <td>0.016887</td>\n",
              "      <td>0.410862</td>\n",
              "      <td>1730.918131</td>\n",
              "      <td>1.184226</td>\n",
              "      <td>7.669353</td>\n",
              "    </tr>\n",
              "    <tr>\n",
              "      <th>1</th>\n",
              "      <td>1.509143</td>\n",
              "      <td>2321.755826</td>\n",
              "      <td>1986.467193</td>\n",
              "      <td>68.210455</td>\n",
              "      <td>153.104823</td>\n",
              "      <td>1.583722</td>\n",
              "      <td>1.757619</td>\n",
              "      <td>1.581929</td>\n",
              "      <td>1.964145</td>\n",
              "      <td>1.136608</td>\n",
              "      <td>5.586590</td>\n",
              "      <td>8.589459</td>\n",
              "      <td>2.610972</td>\n",
              "      <td>1.956615</td>\n",
              "      <td>1.287200</td>\n",
              "      <td>3.115095</td>\n",
              "      <td>2.392972</td>\n",
              "      <td>3.191466</td>\n",
              "      <td>27.072786</td>\n",
              "      <td>0.647902</td>\n",
              "      <td>0.501255</td>\n",
              "      <td>0.015776</td>\n",
              "      <td>0.149875</td>\n",
              "      <td>0.007530</td>\n",
              "      <td>0.291861</td>\n",
              "      <td>1893.018505</td>\n",
              "      <td>1.294012</td>\n",
              "      <td>9.095016</td>\n",
              "    </tr>\n",
              "  </tbody>\n",
              "</table>\n",
              "</div>"
            ],
            "text/plain": [
              "            gender    full_name  ...  diet_type  fast_food_meals_per_month\n",
              "infected                         ...                                      \n",
              "0         1.470543  2294.436193  ...   1.184226                   7.669353\n",
              "1         1.509143  2321.755826  ...   1.294012                   9.095016\n",
              "\n",
              "[2 rows x 28 columns]"
            ]
          },
          "metadata": {
            "tags": []
          },
          "execution_count": 521
        }
      ]
    },
    {
      "cell_type": "markdown",
      "metadata": {
        "id": "x1lWuy6hi9-3",
        "colab_type": "text"
      },
      "source": [
        "# Test"
      ]
    },
    {
      "cell_type": "code",
      "metadata": {
        "colab_type": "code",
        "id": "3nXywjIefYXj",
        "colab": {
          "base_uri": "https://localhost:8080/",
          "height": 633
        },
        "outputId": "c842d440-1427-40cc-d070-9d574857e2c2"
      },
      "source": [
        "import pandas as pd\n",
        "import numpy as np\n",
        "tt = pd.read_csv(\"drive/My Drive/test.csv\")\n",
        "tt.info()"
      ],
      "execution_count": 522,
      "outputs": [
        {
          "output_type": "stream",
          "text": [
            "<class 'pandas.core.frame.DataFrame'>\n",
            "RangeIndex: 2000 entries, 0 to 1999\n",
            "Data columns (total 28 columns):\n",
            " #   Column                       Non-Null Count  Dtype  \n",
            "---  ------                       --------------  -----  \n",
            " 0   gender                       2000 non-null   object \n",
            " 1   full_name                    2000 non-null   object \n",
            " 2   year_of_birth                2000 non-null   int64  \n",
            " 3   weight                       2000 non-null   float64\n",
            " 4   height                       2000 non-null   float64\n",
            " 5   eye_color                    2000 non-null   object \n",
            " 6   race                         2000 non-null   object \n",
            " 7   accommodation_type           2000 non-null   object \n",
            " 8   education_status             2000 non-null   object \n",
            " 9   blood_type                   2000 non-null   object \n",
            " 10  family_members_count         2000 non-null   int64  \n",
            " 11  avg_sleep_hours              2000 non-null   int64  \n",
            " 12  occupation                   2000 non-null   object \n",
            " 13  living_area                  2000 non-null   object \n",
            " 14  sports_engagement            2000 non-null   object \n",
            " 15  favorite_music_genre         2000 non-null   object \n",
            " 16  favorite_color               2000 non-null   object \n",
            " 17  owned_car_brand              2000 non-null   object \n",
            " 18  hours_worked_each_week       2000 non-null   object \n",
            " 19  owns_a_pet                   2000 non-null   object \n",
            " 20  has_health_insurance         2000 non-null   object \n",
            " 21  has_cancer                   2000 non-null   object \n",
            " 22  smokes                       2000 non-null   object \n",
            " 23  has_alzheimers               2000 non-null   object \n",
            " 24  facial_hair                  2000 non-null   object \n",
            " 25  daily_household_water_usage  2000 non-null   float64\n",
            " 26  diet_type                    2000 non-null   object \n",
            " 27  fast_food_meals_per_month    2000 non-null   int64  \n",
            "dtypes: float64(3), int64(4), object(21)\n",
            "memory usage: 437.6+ KB\n"
          ],
          "name": "stdout"
        }
      ]
    },
    {
      "cell_type": "code",
      "metadata": {
        "colab_type": "code",
        "id": "01f6T7H2fYXo",
        "colab": {
          "base_uri": "https://localhost:8080/",
          "height": 34
        },
        "outputId": "0ad49ab3-3c22-4967-b3c6-9ec9b332082d"
      },
      "source": [
        "tt.shape"
      ],
      "execution_count": 523,
      "outputs": [
        {
          "output_type": "execute_result",
          "data": {
            "text/plain": [
              "(2000, 28)"
            ]
          },
          "metadata": {
            "tags": []
          },
          "execution_count": 523
        }
      ]
    },
    {
      "cell_type": "code",
      "metadata": {
        "colab_type": "code",
        "id": "xP_8SthtfYXs",
        "colab": {
          "base_uri": "https://localhost:8080/",
          "height": 175
        },
        "outputId": "ce8b2500-6481-4748-c71a-2f63b2227f66"
      },
      "source": [
        "tt.columns"
      ],
      "execution_count": 524,
      "outputs": [
        {
          "output_type": "execute_result",
          "data": {
            "text/plain": [
              "Index(['gender', 'full_name', 'year_of_birth', 'weight', 'height', 'eye_color',\n",
              "       'race', 'accommodation_type', 'education_status', 'blood_type',\n",
              "       'family_members_count', 'avg_sleep_hours', 'occupation', 'living_area',\n",
              "       'sports_engagement', 'favorite_music_genre', 'favorite_color',\n",
              "       'owned_car_brand', 'hours_worked_each_week', 'owns_a_pet',\n",
              "       'has_health_insurance', 'has_cancer', 'smokes', 'has_alzheimers',\n",
              "       'facial_hair', 'daily_household_water_usage', 'diet_type',\n",
              "       'fast_food_meals_per_month'],\n",
              "      dtype='object')"
            ]
          },
          "metadata": {
            "tags": []
          },
          "execution_count": 524
        }
      ]
    },
    {
      "cell_type": "code",
      "metadata": {
        "colab_type": "code",
        "id": "rud3kvLZfYXu",
        "colab": {
          "base_uri": "https://localhost:8080/",
          "height": 299
        },
        "outputId": "45f1518f-e9c0-4e0a-971c-06134038a848"
      },
      "source": [
        "tt.head()"
      ],
      "execution_count": 525,
      "outputs": [
        {
          "output_type": "execute_result",
          "data": {
            "text/html": [
              "<div>\n",
              "<style scoped>\n",
              "    .dataframe tbody tr th:only-of-type {\n",
              "        vertical-align: middle;\n",
              "    }\n",
              "\n",
              "    .dataframe tbody tr th {\n",
              "        vertical-align: top;\n",
              "    }\n",
              "\n",
              "    .dataframe thead th {\n",
              "        text-align: right;\n",
              "    }\n",
              "</style>\n",
              "<table border=\"1\" class=\"dataframe\">\n",
              "  <thead>\n",
              "    <tr style=\"text-align: right;\">\n",
              "      <th></th>\n",
              "      <th>gender</th>\n",
              "      <th>full_name</th>\n",
              "      <th>year_of_birth</th>\n",
              "      <th>weight</th>\n",
              "      <th>height</th>\n",
              "      <th>eye_color</th>\n",
              "      <th>race</th>\n",
              "      <th>accommodation_type</th>\n",
              "      <th>education_status</th>\n",
              "      <th>blood_type</th>\n",
              "      <th>family_members_count</th>\n",
              "      <th>avg_sleep_hours</th>\n",
              "      <th>occupation</th>\n",
              "      <th>living_area</th>\n",
              "      <th>sports_engagement</th>\n",
              "      <th>favorite_music_genre</th>\n",
              "      <th>favorite_color</th>\n",
              "      <th>owned_car_brand</th>\n",
              "      <th>hours_worked_each_week</th>\n",
              "      <th>owns_a_pet</th>\n",
              "      <th>has_health_insurance</th>\n",
              "      <th>has_cancer</th>\n",
              "      <th>smokes</th>\n",
              "      <th>has_alzheimers</th>\n",
              "      <th>facial_hair</th>\n",
              "      <th>daily_household_water_usage</th>\n",
              "      <th>diet_type</th>\n",
              "      <th>fast_food_meals_per_month</th>\n",
              "    </tr>\n",
              "  </thead>\n",
              "  <tbody>\n",
              "    <tr>\n",
              "      <th>0</th>\n",
              "      <td>male</td>\n",
              "      <td>Patrick Williamson</td>\n",
              "      <td>1994</td>\n",
              "      <td>82.09</td>\n",
              "      <td>175.40</td>\n",
              "      <td>brown</td>\n",
              "      <td>black</td>\n",
              "      <td>villa</td>\n",
              "      <td>high_school</td>\n",
              "      <td>O+</td>\n",
              "      <td>8</td>\n",
              "      <td>9</td>\n",
              "      <td>art</td>\n",
              "      <td>suburbs</td>\n",
              "      <td>seldom</td>\n",
              "      <td>r&amp;b</td>\n",
              "      <td>blue</td>\n",
              "      <td>other</td>\n",
              "      <td>46</td>\n",
              "      <td>no</td>\n",
              "      <td>yes</td>\n",
              "      <td>no</td>\n",
              "      <td>yes</td>\n",
              "      <td>no</td>\n",
              "      <td>long</td>\n",
              "      <td>2583.14</td>\n",
              "      <td>regular</td>\n",
              "      <td>5</td>\n",
              "    </tr>\n",
              "    <tr>\n",
              "      <th>1</th>\n",
              "      <td>female</td>\n",
              "      <td>Amber Stenberg</td>\n",
              "      <td>2002</td>\n",
              "      <td>73.24</td>\n",
              "      <td>173.81</td>\n",
              "      <td>brown</td>\n",
              "      <td>middle_eastern</td>\n",
              "      <td>apartment</td>\n",
              "      <td>less_than_9th_grade</td>\n",
              "      <td>A+</td>\n",
              "      <td>3</td>\n",
              "      <td>9</td>\n",
              "      <td>other</td>\n",
              "      <td>urban</td>\n",
              "      <td>seldom</td>\n",
              "      <td>r&amp;b</td>\n",
              "      <td>red</td>\n",
              "      <td>ford</td>\n",
              "      <td>42</td>\n",
              "      <td>no</td>\n",
              "      <td>yes</td>\n",
              "      <td>yes</td>\n",
              "      <td>no</td>\n",
              "      <td>no</td>\n",
              "      <td>none</td>\n",
              "      <td>945.97</td>\n",
              "      <td>regular</td>\n",
              "      <td>3</td>\n",
              "    </tr>\n",
              "    <tr>\n",
              "      <th>2</th>\n",
              "      <td>male</td>\n",
              "      <td>Raymond Williams</td>\n",
              "      <td>1976</td>\n",
              "      <td>78.24</td>\n",
              "      <td>182.65</td>\n",
              "      <td>green</td>\n",
              "      <td>white</td>\n",
              "      <td>apartment</td>\n",
              "      <td>less_than_9th_grade</td>\n",
              "      <td>B+</td>\n",
              "      <td>6</td>\n",
              "      <td>6</td>\n",
              "      <td>other</td>\n",
              "      <td>rural</td>\n",
              "      <td>never</td>\n",
              "      <td>r&amp;b</td>\n",
              "      <td>blue</td>\n",
              "      <td>honda</td>\n",
              "      <td>44</td>\n",
              "      <td>no</td>\n",
              "      <td>no</td>\n",
              "      <td>no</td>\n",
              "      <td>yes</td>\n",
              "      <td>no</td>\n",
              "      <td>none</td>\n",
              "      <td>1650.35</td>\n",
              "      <td>regular</td>\n",
              "      <td>2</td>\n",
              "    </tr>\n",
              "    <tr>\n",
              "      <th>3</th>\n",
              "      <td>male</td>\n",
              "      <td>Lynn Tucker</td>\n",
              "      <td>1994</td>\n",
              "      <td>87.11</td>\n",
              "      <td>179.13</td>\n",
              "      <td>brown</td>\n",
              "      <td>asian</td>\n",
              "      <td>shared_residence</td>\n",
              "      <td>bachelors_degree</td>\n",
              "      <td>O+</td>\n",
              "      <td>2</td>\n",
              "      <td>9</td>\n",
              "      <td>education</td>\n",
              "      <td>suburbs</td>\n",
              "      <td>never</td>\n",
              "      <td>pop</td>\n",
              "      <td>blue</td>\n",
              "      <td>tesla</td>\n",
              "      <td>40</td>\n",
              "      <td>no</td>\n",
              "      <td>yes</td>\n",
              "      <td>no</td>\n",
              "      <td>no</td>\n",
              "      <td>no</td>\n",
              "      <td>none</td>\n",
              "      <td>531.62</td>\n",
              "      <td>regular</td>\n",
              "      <td>17</td>\n",
              "    </tr>\n",
              "    <tr>\n",
              "      <th>4</th>\n",
              "      <td>male</td>\n",
              "      <td>Robert Pinto</td>\n",
              "      <td>1953</td>\n",
              "      <td>69.58</td>\n",
              "      <td>170.41</td>\n",
              "      <td>blue</td>\n",
              "      <td>white</td>\n",
              "      <td>other</td>\n",
              "      <td>less_than_9th_grade</td>\n",
              "      <td>O+</td>\n",
              "      <td>9</td>\n",
              "      <td>8</td>\n",
              "      <td>unemployed</td>\n",
              "      <td>rural</td>\n",
              "      <td>seldom</td>\n",
              "      <td>other</td>\n",
              "      <td>green</td>\n",
              "      <td>none</td>\n",
              "      <td>not_applicable</td>\n",
              "      <td>yes</td>\n",
              "      <td>yes</td>\n",
              "      <td>no</td>\n",
              "      <td>no</td>\n",
              "      <td>no</td>\n",
              "      <td>none</td>\n",
              "      <td>3251.48</td>\n",
              "      <td>regular</td>\n",
              "      <td>5</td>\n",
              "    </tr>\n",
              "  </tbody>\n",
              "</table>\n",
              "</div>"
            ],
            "text/plain": [
              "   gender           full_name  ...  diet_type  fast_food_meals_per_month\n",
              "0    male  Patrick Williamson  ...    regular                          5\n",
              "1  female      Amber Stenberg  ...    regular                          3\n",
              "2    male    Raymond Williams  ...    regular                          2\n",
              "3    male         Lynn Tucker  ...    regular                         17\n",
              "4    male        Robert Pinto  ...    regular                          5\n",
              "\n",
              "[5 rows x 28 columns]"
            ]
          },
          "metadata": {
            "tags": []
          },
          "execution_count": 525
        }
      ]
    },
    {
      "cell_type": "code",
      "metadata": {
        "colab_type": "code",
        "id": "LKXelVUdfYXx",
        "colab": {
          "base_uri": "https://localhost:8080/",
          "height": 299
        },
        "outputId": "dccec7ba-3a45-4b34-8ac7-cafb414e3bb2"
      },
      "source": [
        "tt['owns_a_pet'] = tt['owns_a_pet'].map({'yes': 1, 'no': 0})\n",
        "tt['has_health_insurance'] = tt['has_health_insurance'].map({'yes': 1, 'no': 0})\n",
        "tt['has_cancer'] = tt['has_cancer'].map({'yes': 1, 'no': 0})\n",
        "tt['smokes'] = tt['smokes'].map({'yes': 1, 'no': 0})\n",
        "tt['has_alzheimers'] = tt['has_alzheimers'].map({'yes': 1, 'no': 0})\n",
        "tt.head()"
      ],
      "execution_count": 526,
      "outputs": [
        {
          "output_type": "execute_result",
          "data": {
            "text/html": [
              "<div>\n",
              "<style scoped>\n",
              "    .dataframe tbody tr th:only-of-type {\n",
              "        vertical-align: middle;\n",
              "    }\n",
              "\n",
              "    .dataframe tbody tr th {\n",
              "        vertical-align: top;\n",
              "    }\n",
              "\n",
              "    .dataframe thead th {\n",
              "        text-align: right;\n",
              "    }\n",
              "</style>\n",
              "<table border=\"1\" class=\"dataframe\">\n",
              "  <thead>\n",
              "    <tr style=\"text-align: right;\">\n",
              "      <th></th>\n",
              "      <th>gender</th>\n",
              "      <th>full_name</th>\n",
              "      <th>year_of_birth</th>\n",
              "      <th>weight</th>\n",
              "      <th>height</th>\n",
              "      <th>eye_color</th>\n",
              "      <th>race</th>\n",
              "      <th>accommodation_type</th>\n",
              "      <th>education_status</th>\n",
              "      <th>blood_type</th>\n",
              "      <th>family_members_count</th>\n",
              "      <th>avg_sleep_hours</th>\n",
              "      <th>occupation</th>\n",
              "      <th>living_area</th>\n",
              "      <th>sports_engagement</th>\n",
              "      <th>favorite_music_genre</th>\n",
              "      <th>favorite_color</th>\n",
              "      <th>owned_car_brand</th>\n",
              "      <th>hours_worked_each_week</th>\n",
              "      <th>owns_a_pet</th>\n",
              "      <th>has_health_insurance</th>\n",
              "      <th>has_cancer</th>\n",
              "      <th>smokes</th>\n",
              "      <th>has_alzheimers</th>\n",
              "      <th>facial_hair</th>\n",
              "      <th>daily_household_water_usage</th>\n",
              "      <th>diet_type</th>\n",
              "      <th>fast_food_meals_per_month</th>\n",
              "    </tr>\n",
              "  </thead>\n",
              "  <tbody>\n",
              "    <tr>\n",
              "      <th>0</th>\n",
              "      <td>male</td>\n",
              "      <td>Patrick Williamson</td>\n",
              "      <td>1994</td>\n",
              "      <td>82.09</td>\n",
              "      <td>175.40</td>\n",
              "      <td>brown</td>\n",
              "      <td>black</td>\n",
              "      <td>villa</td>\n",
              "      <td>high_school</td>\n",
              "      <td>O+</td>\n",
              "      <td>8</td>\n",
              "      <td>9</td>\n",
              "      <td>art</td>\n",
              "      <td>suburbs</td>\n",
              "      <td>seldom</td>\n",
              "      <td>r&amp;b</td>\n",
              "      <td>blue</td>\n",
              "      <td>other</td>\n",
              "      <td>46</td>\n",
              "      <td>0</td>\n",
              "      <td>1</td>\n",
              "      <td>0</td>\n",
              "      <td>1</td>\n",
              "      <td>0</td>\n",
              "      <td>long</td>\n",
              "      <td>2583.14</td>\n",
              "      <td>regular</td>\n",
              "      <td>5</td>\n",
              "    </tr>\n",
              "    <tr>\n",
              "      <th>1</th>\n",
              "      <td>female</td>\n",
              "      <td>Amber Stenberg</td>\n",
              "      <td>2002</td>\n",
              "      <td>73.24</td>\n",
              "      <td>173.81</td>\n",
              "      <td>brown</td>\n",
              "      <td>middle_eastern</td>\n",
              "      <td>apartment</td>\n",
              "      <td>less_than_9th_grade</td>\n",
              "      <td>A+</td>\n",
              "      <td>3</td>\n",
              "      <td>9</td>\n",
              "      <td>other</td>\n",
              "      <td>urban</td>\n",
              "      <td>seldom</td>\n",
              "      <td>r&amp;b</td>\n",
              "      <td>red</td>\n",
              "      <td>ford</td>\n",
              "      <td>42</td>\n",
              "      <td>0</td>\n",
              "      <td>1</td>\n",
              "      <td>1</td>\n",
              "      <td>0</td>\n",
              "      <td>0</td>\n",
              "      <td>none</td>\n",
              "      <td>945.97</td>\n",
              "      <td>regular</td>\n",
              "      <td>3</td>\n",
              "    </tr>\n",
              "    <tr>\n",
              "      <th>2</th>\n",
              "      <td>male</td>\n",
              "      <td>Raymond Williams</td>\n",
              "      <td>1976</td>\n",
              "      <td>78.24</td>\n",
              "      <td>182.65</td>\n",
              "      <td>green</td>\n",
              "      <td>white</td>\n",
              "      <td>apartment</td>\n",
              "      <td>less_than_9th_grade</td>\n",
              "      <td>B+</td>\n",
              "      <td>6</td>\n",
              "      <td>6</td>\n",
              "      <td>other</td>\n",
              "      <td>rural</td>\n",
              "      <td>never</td>\n",
              "      <td>r&amp;b</td>\n",
              "      <td>blue</td>\n",
              "      <td>honda</td>\n",
              "      <td>44</td>\n",
              "      <td>0</td>\n",
              "      <td>0</td>\n",
              "      <td>0</td>\n",
              "      <td>1</td>\n",
              "      <td>0</td>\n",
              "      <td>none</td>\n",
              "      <td>1650.35</td>\n",
              "      <td>regular</td>\n",
              "      <td>2</td>\n",
              "    </tr>\n",
              "    <tr>\n",
              "      <th>3</th>\n",
              "      <td>male</td>\n",
              "      <td>Lynn Tucker</td>\n",
              "      <td>1994</td>\n",
              "      <td>87.11</td>\n",
              "      <td>179.13</td>\n",
              "      <td>brown</td>\n",
              "      <td>asian</td>\n",
              "      <td>shared_residence</td>\n",
              "      <td>bachelors_degree</td>\n",
              "      <td>O+</td>\n",
              "      <td>2</td>\n",
              "      <td>9</td>\n",
              "      <td>education</td>\n",
              "      <td>suburbs</td>\n",
              "      <td>never</td>\n",
              "      <td>pop</td>\n",
              "      <td>blue</td>\n",
              "      <td>tesla</td>\n",
              "      <td>40</td>\n",
              "      <td>0</td>\n",
              "      <td>1</td>\n",
              "      <td>0</td>\n",
              "      <td>0</td>\n",
              "      <td>0</td>\n",
              "      <td>none</td>\n",
              "      <td>531.62</td>\n",
              "      <td>regular</td>\n",
              "      <td>17</td>\n",
              "    </tr>\n",
              "    <tr>\n",
              "      <th>4</th>\n",
              "      <td>male</td>\n",
              "      <td>Robert Pinto</td>\n",
              "      <td>1953</td>\n",
              "      <td>69.58</td>\n",
              "      <td>170.41</td>\n",
              "      <td>blue</td>\n",
              "      <td>white</td>\n",
              "      <td>other</td>\n",
              "      <td>less_than_9th_grade</td>\n",
              "      <td>O+</td>\n",
              "      <td>9</td>\n",
              "      <td>8</td>\n",
              "      <td>unemployed</td>\n",
              "      <td>rural</td>\n",
              "      <td>seldom</td>\n",
              "      <td>other</td>\n",
              "      <td>green</td>\n",
              "      <td>none</td>\n",
              "      <td>not_applicable</td>\n",
              "      <td>1</td>\n",
              "      <td>1</td>\n",
              "      <td>0</td>\n",
              "      <td>0</td>\n",
              "      <td>0</td>\n",
              "      <td>none</td>\n",
              "      <td>3251.48</td>\n",
              "      <td>regular</td>\n",
              "      <td>5</td>\n",
              "    </tr>\n",
              "  </tbody>\n",
              "</table>\n",
              "</div>"
            ],
            "text/plain": [
              "   gender           full_name  ...  diet_type  fast_food_meals_per_month\n",
              "0    male  Patrick Williamson  ...    regular                          5\n",
              "1  female      Amber Stenberg  ...    regular                          3\n",
              "2    male    Raymond Williams  ...    regular                          2\n",
              "3    male         Lynn Tucker  ...    regular                         17\n",
              "4    male        Robert Pinto  ...    regular                          5\n",
              "\n",
              "[5 rows x 28 columns]"
            ]
          },
          "metadata": {
            "tags": []
          },
          "execution_count": 526
        }
      ]
    },
    {
      "cell_type": "code",
      "metadata": {
        "colab_type": "code",
        "id": "PDd8bInifYX1",
        "colab": {
          "base_uri": "https://localhost:8080/",
          "height": 140
        },
        "outputId": "ca914669-36a4-4db6-e982-402b5012fb0f"
      },
      "source": [
        "tt.diet_type.value_counts()"
      ],
      "execution_count": 527,
      "outputs": [
        {
          "output_type": "execute_result",
          "data": {
            "text/plain": [
              "regular       1786\n",
              "vegetarian      89\n",
              "vegan           59\n",
              "keto            47\n",
              "paleo           13\n",
              "low-carb         6\n",
              "Name: diet_type, dtype: int64"
            ]
          },
          "metadata": {
            "tags": []
          },
          "execution_count": 527
        }
      ]
    },
    {
      "cell_type": "code",
      "metadata": {
        "colab_type": "code",
        "id": "nnwgvhuAfYX8",
        "colab": {
          "base_uri": "https://localhost:8080/",
          "height": 140
        },
        "outputId": "743c0297-1a66-4047-a4f7-9ffffbfa69fe"
      },
      "source": [
        "tt['diet_type'] = tt['diet_type'].map({'regular': 1, 'vegetarian': 2,'keto':3 , 'vegan':4,'paleo':5,'low-carb':6})\n",
        "tt.diet_type.value_counts()"
      ],
      "execution_count": 528,
      "outputs": [
        {
          "output_type": "execute_result",
          "data": {
            "text/plain": [
              "1    1786\n",
              "2      89\n",
              "4      59\n",
              "3      47\n",
              "5      13\n",
              "6       6\n",
              "Name: diet_type, dtype: int64"
            ]
          },
          "metadata": {
            "tags": []
          },
          "execution_count": 528
        }
      ]
    },
    {
      "cell_type": "code",
      "metadata": {
        "colab_type": "code",
        "id": "D_6kgRFMfYX_",
        "colab": {
          "base_uri": "https://localhost:8080/",
          "height": 299
        },
        "outputId": "346fac18-26de-4825-c45e-30fab50ac30c"
      },
      "source": [
        "tt.head()"
      ],
      "execution_count": 529,
      "outputs": [
        {
          "output_type": "execute_result",
          "data": {
            "text/html": [
              "<div>\n",
              "<style scoped>\n",
              "    .dataframe tbody tr th:only-of-type {\n",
              "        vertical-align: middle;\n",
              "    }\n",
              "\n",
              "    .dataframe tbody tr th {\n",
              "        vertical-align: top;\n",
              "    }\n",
              "\n",
              "    .dataframe thead th {\n",
              "        text-align: right;\n",
              "    }\n",
              "</style>\n",
              "<table border=\"1\" class=\"dataframe\">\n",
              "  <thead>\n",
              "    <tr style=\"text-align: right;\">\n",
              "      <th></th>\n",
              "      <th>gender</th>\n",
              "      <th>full_name</th>\n",
              "      <th>year_of_birth</th>\n",
              "      <th>weight</th>\n",
              "      <th>height</th>\n",
              "      <th>eye_color</th>\n",
              "      <th>race</th>\n",
              "      <th>accommodation_type</th>\n",
              "      <th>education_status</th>\n",
              "      <th>blood_type</th>\n",
              "      <th>family_members_count</th>\n",
              "      <th>avg_sleep_hours</th>\n",
              "      <th>occupation</th>\n",
              "      <th>living_area</th>\n",
              "      <th>sports_engagement</th>\n",
              "      <th>favorite_music_genre</th>\n",
              "      <th>favorite_color</th>\n",
              "      <th>owned_car_brand</th>\n",
              "      <th>hours_worked_each_week</th>\n",
              "      <th>owns_a_pet</th>\n",
              "      <th>has_health_insurance</th>\n",
              "      <th>has_cancer</th>\n",
              "      <th>smokes</th>\n",
              "      <th>has_alzheimers</th>\n",
              "      <th>facial_hair</th>\n",
              "      <th>daily_household_water_usage</th>\n",
              "      <th>diet_type</th>\n",
              "      <th>fast_food_meals_per_month</th>\n",
              "    </tr>\n",
              "  </thead>\n",
              "  <tbody>\n",
              "    <tr>\n",
              "      <th>0</th>\n",
              "      <td>male</td>\n",
              "      <td>Patrick Williamson</td>\n",
              "      <td>1994</td>\n",
              "      <td>82.09</td>\n",
              "      <td>175.40</td>\n",
              "      <td>brown</td>\n",
              "      <td>black</td>\n",
              "      <td>villa</td>\n",
              "      <td>high_school</td>\n",
              "      <td>O+</td>\n",
              "      <td>8</td>\n",
              "      <td>9</td>\n",
              "      <td>art</td>\n",
              "      <td>suburbs</td>\n",
              "      <td>seldom</td>\n",
              "      <td>r&amp;b</td>\n",
              "      <td>blue</td>\n",
              "      <td>other</td>\n",
              "      <td>46</td>\n",
              "      <td>0</td>\n",
              "      <td>1</td>\n",
              "      <td>0</td>\n",
              "      <td>1</td>\n",
              "      <td>0</td>\n",
              "      <td>long</td>\n",
              "      <td>2583.14</td>\n",
              "      <td>1</td>\n",
              "      <td>5</td>\n",
              "    </tr>\n",
              "    <tr>\n",
              "      <th>1</th>\n",
              "      <td>female</td>\n",
              "      <td>Amber Stenberg</td>\n",
              "      <td>2002</td>\n",
              "      <td>73.24</td>\n",
              "      <td>173.81</td>\n",
              "      <td>brown</td>\n",
              "      <td>middle_eastern</td>\n",
              "      <td>apartment</td>\n",
              "      <td>less_than_9th_grade</td>\n",
              "      <td>A+</td>\n",
              "      <td>3</td>\n",
              "      <td>9</td>\n",
              "      <td>other</td>\n",
              "      <td>urban</td>\n",
              "      <td>seldom</td>\n",
              "      <td>r&amp;b</td>\n",
              "      <td>red</td>\n",
              "      <td>ford</td>\n",
              "      <td>42</td>\n",
              "      <td>0</td>\n",
              "      <td>1</td>\n",
              "      <td>1</td>\n",
              "      <td>0</td>\n",
              "      <td>0</td>\n",
              "      <td>none</td>\n",
              "      <td>945.97</td>\n",
              "      <td>1</td>\n",
              "      <td>3</td>\n",
              "    </tr>\n",
              "    <tr>\n",
              "      <th>2</th>\n",
              "      <td>male</td>\n",
              "      <td>Raymond Williams</td>\n",
              "      <td>1976</td>\n",
              "      <td>78.24</td>\n",
              "      <td>182.65</td>\n",
              "      <td>green</td>\n",
              "      <td>white</td>\n",
              "      <td>apartment</td>\n",
              "      <td>less_than_9th_grade</td>\n",
              "      <td>B+</td>\n",
              "      <td>6</td>\n",
              "      <td>6</td>\n",
              "      <td>other</td>\n",
              "      <td>rural</td>\n",
              "      <td>never</td>\n",
              "      <td>r&amp;b</td>\n",
              "      <td>blue</td>\n",
              "      <td>honda</td>\n",
              "      <td>44</td>\n",
              "      <td>0</td>\n",
              "      <td>0</td>\n",
              "      <td>0</td>\n",
              "      <td>1</td>\n",
              "      <td>0</td>\n",
              "      <td>none</td>\n",
              "      <td>1650.35</td>\n",
              "      <td>1</td>\n",
              "      <td>2</td>\n",
              "    </tr>\n",
              "    <tr>\n",
              "      <th>3</th>\n",
              "      <td>male</td>\n",
              "      <td>Lynn Tucker</td>\n",
              "      <td>1994</td>\n",
              "      <td>87.11</td>\n",
              "      <td>179.13</td>\n",
              "      <td>brown</td>\n",
              "      <td>asian</td>\n",
              "      <td>shared_residence</td>\n",
              "      <td>bachelors_degree</td>\n",
              "      <td>O+</td>\n",
              "      <td>2</td>\n",
              "      <td>9</td>\n",
              "      <td>education</td>\n",
              "      <td>suburbs</td>\n",
              "      <td>never</td>\n",
              "      <td>pop</td>\n",
              "      <td>blue</td>\n",
              "      <td>tesla</td>\n",
              "      <td>40</td>\n",
              "      <td>0</td>\n",
              "      <td>1</td>\n",
              "      <td>0</td>\n",
              "      <td>0</td>\n",
              "      <td>0</td>\n",
              "      <td>none</td>\n",
              "      <td>531.62</td>\n",
              "      <td>1</td>\n",
              "      <td>17</td>\n",
              "    </tr>\n",
              "    <tr>\n",
              "      <th>4</th>\n",
              "      <td>male</td>\n",
              "      <td>Robert Pinto</td>\n",
              "      <td>1953</td>\n",
              "      <td>69.58</td>\n",
              "      <td>170.41</td>\n",
              "      <td>blue</td>\n",
              "      <td>white</td>\n",
              "      <td>other</td>\n",
              "      <td>less_than_9th_grade</td>\n",
              "      <td>O+</td>\n",
              "      <td>9</td>\n",
              "      <td>8</td>\n",
              "      <td>unemployed</td>\n",
              "      <td>rural</td>\n",
              "      <td>seldom</td>\n",
              "      <td>other</td>\n",
              "      <td>green</td>\n",
              "      <td>none</td>\n",
              "      <td>not_applicable</td>\n",
              "      <td>1</td>\n",
              "      <td>1</td>\n",
              "      <td>0</td>\n",
              "      <td>0</td>\n",
              "      <td>0</td>\n",
              "      <td>none</td>\n",
              "      <td>3251.48</td>\n",
              "      <td>1</td>\n",
              "      <td>5</td>\n",
              "    </tr>\n",
              "  </tbody>\n",
              "</table>\n",
              "</div>"
            ],
            "text/plain": [
              "   gender           full_name  ...  diet_type  fast_food_meals_per_month\n",
              "0    male  Patrick Williamson  ...          1                          5\n",
              "1  female      Amber Stenberg  ...          1                          3\n",
              "2    male    Raymond Williams  ...          1                          2\n",
              "3    male         Lynn Tucker  ...          1                         17\n",
              "4    male        Robert Pinto  ...          1                          5\n",
              "\n",
              "[5 rows x 28 columns]"
            ]
          },
          "metadata": {
            "tags": []
          },
          "execution_count": 529
        }
      ]
    },
    {
      "cell_type": "code",
      "metadata": {
        "colab_type": "code",
        "id": "nGsS_E6CfYYE",
        "colab": {
          "base_uri": "https://localhost:8080/",
          "height": 87
        },
        "outputId": "1a85086e-8efb-43d9-c295-b7e896901b63"
      },
      "source": [
        "tt.facial_hair.value_counts()"
      ],
      "execution_count": 530,
      "outputs": [
        {
          "output_type": "execute_result",
          "data": {
            "text/plain": [
              "none     1520\n",
              "short     283\n",
              "long      197\n",
              "Name: facial_hair, dtype: int64"
            ]
          },
          "metadata": {
            "tags": []
          },
          "execution_count": 530
        }
      ]
    },
    {
      "cell_type": "code",
      "metadata": {
        "colab_type": "code",
        "id": "JRvxmzCkfYYH",
        "colab": {
          "base_uri": "https://localhost:8080/",
          "height": 87
        },
        "outputId": "e9db220c-028d-4dc2-fd33-4a960ebf0b20"
      },
      "source": [
        "tt['facial_hair'] = tt['facial_hair'].map({'none': 0, 'short': 1,'long':2 })\n",
        "tt.facial_hair.value_counts()"
      ],
      "execution_count": 531,
      "outputs": [
        {
          "output_type": "execute_result",
          "data": {
            "text/plain": [
              "0    1520\n",
              "1     283\n",
              "2     197\n",
              "Name: facial_hair, dtype: int64"
            ]
          },
          "metadata": {
            "tags": []
          },
          "execution_count": 531
        }
      ]
    },
    {
      "cell_type": "code",
      "metadata": {
        "colab_type": "code",
        "id": "_iJWfHCbfYYJ",
        "colab": {
          "base_uri": "https://localhost:8080/",
          "height": 527
        },
        "outputId": "f5f5a2eb-b73e-4e92-a2b2-70992f327c8a"
      },
      "source": [
        "tt.hours_worked_each_week.value_counts()"
      ],
      "execution_count": 532,
      "outputs": [
        {
          "output_type": "execute_result",
          "data": {
            "text/plain": [
              "not_applicable    704\n",
              "40                133\n",
              "42                124\n",
              "38                117\n",
              "39                111\n",
              "41                107\n",
              "43                 97\n",
              "44                 91\n",
              "37                 87\n",
              "36                 74\n",
              "45                 65\n",
              "35                 64\n",
              "34                 46\n",
              "46                 41\n",
              "47                 31\n",
              "33                 27\n",
              "32                 20\n",
              "48                 16\n",
              "30                 11\n",
              "31                  9\n",
              "29                  7\n",
              "50                  6\n",
              "49                  5\n",
              "51                  3\n",
              "28                  1\n",
              "52                  1\n",
              "27                  1\n",
              "53                  1\n",
              "Name: hours_worked_each_week, dtype: int64"
            ]
          },
          "metadata": {
            "tags": []
          },
          "execution_count": 532
        }
      ]
    },
    {
      "cell_type": "code",
      "metadata": {
        "colab_type": "code",
        "id": "TRC91400fYYL",
        "colab": {
          "base_uri": "https://localhost:8080/",
          "height": 527
        },
        "outputId": "12e75b9f-3591-4070-be3a-f0f1fc85e2e5"
      },
      "source": [
        "tt['hours_worked_each_week'] = tt['hours_worked_each_week'].replace('not_applicable', 0)\n",
        "tt.hours_worked_each_week.value_counts()"
      ],
      "execution_count": 533,
      "outputs": [
        {
          "output_type": "execute_result",
          "data": {
            "text/plain": [
              "0     704\n",
              "40    133\n",
              "42    124\n",
              "38    117\n",
              "39    111\n",
              "41    107\n",
              "43     97\n",
              "44     91\n",
              "37     87\n",
              "36     74\n",
              "45     65\n",
              "35     64\n",
              "34     46\n",
              "46     41\n",
              "47     31\n",
              "33     27\n",
              "32     20\n",
              "48     16\n",
              "30     11\n",
              "31      9\n",
              "29      7\n",
              "50      6\n",
              "49      5\n",
              "51      3\n",
              "52      1\n",
              "53      1\n",
              "28      1\n",
              "27      1\n",
              "Name: hours_worked_each_week, dtype: int64"
            ]
          },
          "metadata": {
            "tags": []
          },
          "execution_count": 533
        }
      ]
    },
    {
      "cell_type": "code",
      "metadata": {
        "colab_type": "code",
        "id": "d4wYiv6QfYYN",
        "colab": {}
      },
      "source": [
        "tt['hours_worked_each_week']=pd.to_numeric(tt['hours_worked_each_week'])"
      ],
      "execution_count": 534,
      "outputs": []
    },
    {
      "cell_type": "code",
      "metadata": {
        "colab_type": "code",
        "id": "Vh7-6gKJfYYQ",
        "colab": {}
      },
      "source": [
        "tt['gender'] = tt['gender'].map({'male': 1, 'female': 2})"
      ],
      "execution_count": 535,
      "outputs": []
    },
    {
      "cell_type": "code",
      "metadata": {
        "colab_type": "code",
        "id": "lNx_pDmgfYYS",
        "colab": {
          "base_uri": "https://localhost:8080/",
          "height": 175
        },
        "outputId": "d6be7156-14aa-4423-b484-deab428e0659"
      },
      "source": [
        "tt.blood_type.value_counts()"
      ],
      "execution_count": 536,
      "outputs": [
        {
          "output_type": "execute_result",
          "data": {
            "text/plain": [
              "O+     767\n",
              "A+     699\n",
              "B+     175\n",
              "O-     140\n",
              "A-     111\n",
              "AB+     49\n",
              "B-      42\n",
              "AB-     17\n",
              "Name: blood_type, dtype: int64"
            ]
          },
          "metadata": {
            "tags": []
          },
          "execution_count": 536
        }
      ]
    },
    {
      "cell_type": "code",
      "metadata": {
        "colab_type": "code",
        "id": "ueEU1BUlfYYT",
        "colab": {}
      },
      "source": [
        "tt['blood_type'] = tt['blood_type'].map({'O+': 1,'O-':-1,'A+':2,'A-':-2,'B+':3,'B-':-3,'AB+':4,'AB-':-4})"
      ],
      "execution_count": 537,
      "outputs": []
    },
    {
      "cell_type": "code",
      "metadata": {
        "colab_type": "code",
        "id": "6_UKJEDKfYYV",
        "colab": {
          "base_uri": "https://localhost:8080/",
          "height": 175
        },
        "outputId": "bef4e57a-1fc8-4f6c-a58f-1b28264a0fa2"
      },
      "source": [
        "tt.blood_type.value_counts()"
      ],
      "execution_count": 538,
      "outputs": [
        {
          "output_type": "execute_result",
          "data": {
            "text/plain": [
              " 1    767\n",
              " 2    699\n",
              " 3    175\n",
              "-1    140\n",
              "-2    111\n",
              " 4     49\n",
              "-3     42\n",
              "-4     17\n",
              "Name: blood_type, dtype: int64"
            ]
          },
          "metadata": {
            "tags": []
          },
          "execution_count": 538
        }
      ]
    },
    {
      "cell_type": "code",
      "metadata": {
        "colab_type": "code",
        "id": "bgskpmZQfYYX",
        "colab": {
          "base_uri": "https://localhost:8080/",
          "height": 105
        },
        "outputId": "6880c82c-2dcf-4684-9107-0ce3e055aeba"
      },
      "source": [
        "tt.sports_engagement.value_counts()"
      ],
      "execution_count": 539,
      "outputs": [
        {
          "output_type": "execute_result",
          "data": {
            "text/plain": [
              "sometimes    684\n",
              "never        618\n",
              "seldom       407\n",
              "regularly    291\n",
              "Name: sports_engagement, dtype: int64"
            ]
          },
          "metadata": {
            "tags": []
          },
          "execution_count": 539
        }
      ]
    },
    {
      "cell_type": "code",
      "metadata": {
        "colab_type": "code",
        "id": "Yax7-WjLfYYa",
        "colab": {
          "base_uri": "https://localhost:8080/",
          "height": 105
        },
        "outputId": "8e786139-3ddc-43a7-9c10-7ae280780801"
      },
      "source": [
        "tt['sports_engagement'] = tt['sports_engagement'].map({'never': 0, 'sometimes':1,'seldom':2,'regularly':3 })\n",
        "tt.sports_engagement.value_counts()"
      ],
      "execution_count": 540,
      "outputs": [
        {
          "output_type": "execute_result",
          "data": {
            "text/plain": [
              "1    684\n",
              "0    618\n",
              "2    407\n",
              "3    291\n",
              "Name: sports_engagement, dtype: int64"
            ]
          },
          "metadata": {
            "tags": []
          },
          "execution_count": 540
        }
      ]
    },
    {
      "cell_type": "code",
      "metadata": {
        "colab_type": "code",
        "id": "YpnCsIzXfYYc",
        "colab": {
          "base_uri": "https://localhost:8080/",
          "height": 140
        },
        "outputId": "91ff9ac0-33e0-43d7-b106-25383d615632"
      },
      "source": [
        "tt.eye_color.value_counts()"
      ],
      "execution_count": 541,
      "outputs": [
        {
          "output_type": "execute_result",
          "data": {
            "text/plain": [
              "brown    1546\n",
              "blue      171\n",
              "amber     107\n",
              "hazel      94\n",
              "gray       47\n",
              "green      35\n",
              "Name: eye_color, dtype: int64"
            ]
          },
          "metadata": {
            "tags": []
          },
          "execution_count": 541
        }
      ]
    },
    {
      "cell_type": "code",
      "metadata": {
        "colab_type": "code",
        "id": "2nem_llpfYYf",
        "colab": {
          "base_uri": "https://localhost:8080/",
          "height": 140
        },
        "outputId": "6bed9cd7-1b85-4b96-9613-3d5e1de472ef"
      },
      "source": [
        "tt['eye_color'] = tt['eye_color'].map({'brown':1,'blue':2,'amber':3,'hazel':4,'gray':5,'green':6})\n",
        "tt.eye_color.value_counts()"
      ],
      "execution_count": 542,
      "outputs": [
        {
          "output_type": "execute_result",
          "data": {
            "text/plain": [
              "1    1546\n",
              "2     171\n",
              "3     107\n",
              "4      94\n",
              "5      47\n",
              "6      35\n",
              "Name: eye_color, dtype: int64"
            ]
          },
          "metadata": {
            "tags": []
          },
          "execution_count": 542
        }
      ]
    },
    {
      "cell_type": "code",
      "metadata": {
        "colab_type": "code",
        "id": "cz7vFoNGfYYh",
        "colab": {
          "base_uri": "https://localhost:8080/",
          "height": 105
        },
        "outputId": "1d5697d5-f07b-4353-947b-091dd10fbf9f"
      },
      "source": [
        "tt.race.value_counts()"
      ],
      "execution_count": 543,
      "outputs": [
        {
          "output_type": "execute_result",
          "data": {
            "text/plain": [
              "asian             899\n",
              "white             661\n",
              "black             299\n",
              "middle_eastern    141\n",
              "Name: race, dtype: int64"
            ]
          },
          "metadata": {
            "tags": []
          },
          "execution_count": 543
        }
      ]
    },
    {
      "cell_type": "code",
      "metadata": {
        "colab_type": "code",
        "id": "pKlYVCYHfYYq",
        "colab": {
          "base_uri": "https://localhost:8080/",
          "height": 105
        },
        "outputId": "2b07de97-1d16-4772-be92-d12d8dc9e1aa"
      },
      "source": [
        "tt['race'] = tt['race'].map({'asian':1,'white':2,'black':3,'middle_eastern':4})\n",
        "tt.race.value_counts()"
      ],
      "execution_count": 544,
      "outputs": [
        {
          "output_type": "execute_result",
          "data": {
            "text/plain": [
              "1    899\n",
              "2    661\n",
              "3    299\n",
              "4    141\n",
              "Name: race, dtype: int64"
            ]
          },
          "metadata": {
            "tags": []
          },
          "execution_count": 544
        }
      ]
    },
    {
      "cell_type": "code",
      "metadata": {
        "colab_type": "code",
        "id": "I9ZoL07BfYYt",
        "colab": {
          "base_uri": "https://localhost:8080/",
          "height": 122
        },
        "outputId": "194a13ee-1b69-4d3f-fe39-4fd472cfa49a"
      },
      "source": [
        "tt.accommodation_type.value_counts()"
      ],
      "execution_count": 545,
      "outputs": [
        {
          "output_type": "execute_result",
          "data": {
            "text/plain": [
              "apartment           1265\n",
              "villa                451\n",
              "shared_residence     155\n",
              "other                108\n",
              "homeless              21\n",
              "Name: accommodation_type, dtype: int64"
            ]
          },
          "metadata": {
            "tags": []
          },
          "execution_count": 545
        }
      ]
    },
    {
      "cell_type": "code",
      "metadata": {
        "colab_type": "code",
        "id": "eEJX6N62fYYv",
        "colab": {
          "base_uri": "https://localhost:8080/",
          "height": 122
        },
        "outputId": "616f0ad8-138d-4852-9945-f969ce115c4a"
      },
      "source": [
        "tt['accommodation_type'] = tt['accommodation_type'].map({'homeless':0,'apartment':1,'villa':2,'shared_residence':3,'other':4})\n",
        "tt.accommodation_type.value_counts()"
      ],
      "execution_count": 546,
      "outputs": [
        {
          "output_type": "execute_result",
          "data": {
            "text/plain": [
              "1    1265\n",
              "2     451\n",
              "3     155\n",
              "4     108\n",
              "0      21\n",
              "Name: accommodation_type, dtype: int64"
            ]
          },
          "metadata": {
            "tags": []
          },
          "execution_count": 546
        }
      ]
    },
    {
      "cell_type": "code",
      "metadata": {
        "colab_type": "code",
        "id": "RVCz3DE5fYYw",
        "colab": {
          "base_uri": "https://localhost:8080/",
          "height": 140
        },
        "outputId": "f0c27ed7-6bfd-4e71-91c1-fd32a8c620ca"
      },
      "source": [
        "tt.education_status.value_counts()"
      ],
      "execution_count": 547,
      "outputs": [
        {
          "output_type": "execute_result",
          "data": {
            "text/plain": [
              "high_school                        532\n",
              "bachelors_degree                   497\n",
              "not_applicable                     407\n",
              "associate_degree                   308\n",
              "less_than_9th_grade                138\n",
              "graduate_or_professional_degree    118\n",
              "Name: education_status, dtype: int64"
            ]
          },
          "metadata": {
            "tags": []
          },
          "execution_count": 547
        }
      ]
    },
    {
      "cell_type": "code",
      "metadata": {
        "colab_type": "code",
        "id": "zMMdN020fYYy",
        "colab": {
          "base_uri": "https://localhost:8080/",
          "height": 140
        },
        "outputId": "3cc1e82c-0f49-44c6-d15b-bc352fff5e61"
      },
      "source": [
        "tt['education_status'] = tt['education_status'].map({'not_applicable':0,'bachelors_degree':1,'high_school':2,'associate_degree':3,'graduate_or_professional_degree':4,'less_than_9th_grade':5})\n",
        "tt.education_status.value_counts()"
      ],
      "execution_count": 548,
      "outputs": [
        {
          "output_type": "execute_result",
          "data": {
            "text/plain": [
              "2    532\n",
              "1    497\n",
              "0    407\n",
              "3    308\n",
              "5    138\n",
              "4    118\n",
              "Name: education_status, dtype: int64"
            ]
          },
          "metadata": {
            "tags": []
          },
          "execution_count": 548
        }
      ]
    },
    {
      "cell_type": "code",
      "metadata": {
        "colab_type": "code",
        "id": "nmzFTY_ofYY1",
        "colab": {
          "base_uri": "https://localhost:8080/",
          "height": 175
        },
        "outputId": "7075e67f-955c-491e-a72d-c87e7810aeeb"
      },
      "source": [
        "tt.occupation.value_counts()"
      ],
      "execution_count": 549,
      "outputs": [
        {
          "output_type": "execute_result",
          "data": {
            "text/plain": [
              "unemployed     704\n",
              "other          312\n",
              "education      303\n",
              "business       221\n",
              "art            169\n",
              "engineering    136\n",
              "healthcare      95\n",
              "agriculture     60\n",
              "Name: occupation, dtype: int64"
            ]
          },
          "metadata": {
            "tags": []
          },
          "execution_count": 549
        }
      ]
    },
    {
      "cell_type": "code",
      "metadata": {
        "colab_type": "code",
        "id": "XKUossvZfYY3",
        "colab": {
          "base_uri": "https://localhost:8080/",
          "height": 175
        },
        "outputId": "f273ff77-1f8e-4bdb-a7f7-eae39260b887"
      },
      "source": [
        "tt['occupation']=tt['occupation'].map({'unemployed':0,'education':1,'business':2,'art':3,'engineering':4,'healthcare':5,'agriculture':6,'other':7})\n",
        "tt.occupation.value_counts()"
      ],
      "execution_count": 550,
      "outputs": [
        {
          "output_type": "execute_result",
          "data": {
            "text/plain": [
              "0    704\n",
              "7    312\n",
              "1    303\n",
              "2    221\n",
              "3    169\n",
              "4    136\n",
              "5     95\n",
              "6     60\n",
              "Name: occupation, dtype: int64"
            ]
          },
          "metadata": {
            "tags": []
          },
          "execution_count": 550
        }
      ]
    },
    {
      "cell_type": "code",
      "metadata": {
        "colab_type": "code",
        "id": "MvPdVIjdfYY7",
        "colab": {
          "base_uri": "https://localhost:8080/",
          "height": 105
        },
        "outputId": "cfda67d3-3645-46a7-cb8e-97d2e359e8ab"
      },
      "source": [
        "tt.living_area.value_counts()"
      ],
      "execution_count": 551,
      "outputs": [
        {
          "output_type": "execute_result",
          "data": {
            "text/plain": [
              "suburbs    940\n",
              "urban      582\n",
              "rural      355\n",
              "other      123\n",
              "Name: living_area, dtype: int64"
            ]
          },
          "metadata": {
            "tags": []
          },
          "execution_count": 551
        }
      ]
    },
    {
      "cell_type": "code",
      "metadata": {
        "colab_type": "code",
        "id": "ZryEavOmfYY_",
        "colab": {
          "base_uri": "https://localhost:8080/",
          "height": 105
        },
        "outputId": "87d1c7ff-a175-4b12-e6d1-964bf19f9655"
      },
      "source": [
        "tt['living_area']=tt['living_area'].map({'suburbs':1,'urban':2,'rural':3,'other':4})\n",
        "tt.living_area.value_counts()"
      ],
      "execution_count": 552,
      "outputs": [
        {
          "output_type": "execute_result",
          "data": {
            "text/plain": [
              "1    940\n",
              "2    582\n",
              "3    355\n",
              "4    123\n",
              "Name: living_area, dtype: int64"
            ]
          },
          "metadata": {
            "tags": []
          },
          "execution_count": 552
        }
      ]
    },
    {
      "cell_type": "code",
      "metadata": {
        "colab_type": "code",
        "id": "qX_Tz4bbfYZC",
        "colab": {
          "base_uri": "https://localhost:8080/",
          "height": 158
        },
        "outputId": "39ade168-97c4-49ed-b589-326229cc5d05"
      },
      "source": [
        "tt.favorite_music_genre.value_counts()"
      ],
      "execution_count": 553,
      "outputs": [
        {
          "output_type": "execute_result",
          "data": {
            "text/plain": [
              "rock         645\n",
              "r&b          406\n",
              "pop          385\n",
              "other        228\n",
              "country      208\n",
              "edm           83\n",
              "classical     45\n",
              "Name: favorite_music_genre, dtype: int64"
            ]
          },
          "metadata": {
            "tags": []
          },
          "execution_count": 553
        }
      ]
    },
    {
      "cell_type": "code",
      "metadata": {
        "colab_type": "code",
        "id": "FuCxu7OXfYZE",
        "colab": {
          "base_uri": "https://localhost:8080/",
          "height": 158
        },
        "outputId": "05d189f4-1dd0-413a-b0f9-3c27749fecd3"
      },
      "source": [
        "tt['favorite_music_genre']=tt['favorite_music_genre'].map({'rock':1,'r&b':2,'pop':3,'country':4,'edm':5,'classical':6,'other':7})\n",
        "tt.favorite_music_genre.value_counts()"
      ],
      "execution_count": 554,
      "outputs": [
        {
          "output_type": "execute_result",
          "data": {
            "text/plain": [
              "1    645\n",
              "2    406\n",
              "3    385\n",
              "7    228\n",
              "4    208\n",
              "5     83\n",
              "6     45\n",
              "Name: favorite_music_genre, dtype: int64"
            ]
          },
          "metadata": {
            "tags": []
          },
          "execution_count": 554
        }
      ]
    },
    {
      "cell_type": "code",
      "metadata": {
        "colab_type": "code",
        "id": "vgaZlTKcfYZH",
        "colab": {
          "base_uri": "https://localhost:8080/",
          "height": 158
        },
        "outputId": "0d04c5fc-b14c-41a6-f989-ce42833368c4"
      },
      "source": [
        "tt.favorite_color.value_counts()"
      ],
      "execution_count": 555,
      "outputs": [
        {
          "output_type": "execute_result",
          "data": {
            "text/plain": [
              "blue      763\n",
              "green     473\n",
              "purple    288\n",
              "red       177\n",
              "yellow    117\n",
              "orange    101\n",
              "pink       81\n",
              "Name: favorite_color, dtype: int64"
            ]
          },
          "metadata": {
            "tags": []
          },
          "execution_count": 555
        }
      ]
    },
    {
      "cell_type": "code",
      "metadata": {
        "colab_type": "code",
        "id": "G_EVqg9PfYZJ",
        "colab": {
          "base_uri": "https://localhost:8080/",
          "height": 158
        },
        "outputId": "c16c7d07-95ae-4768-b031-0e660ad819cb"
      },
      "source": [
        "tt['favorite_color']=tt['favorite_color'].map({'blue':1,'green':2,'purple':3,'red':4,'yellow':5,'orange':6,'pink':7})\n",
        "tt.favorite_color.value_counts()"
      ],
      "execution_count": 556,
      "outputs": [
        {
          "output_type": "execute_result",
          "data": {
            "text/plain": [
              "1    763\n",
              "2    473\n",
              "3    288\n",
              "4    177\n",
              "5    117\n",
              "6    101\n",
              "7     81\n",
              "Name: favorite_color, dtype: int64"
            ]
          },
          "metadata": {
            "tags": []
          },
          "execution_count": 556
        }
      ]
    },
    {
      "cell_type": "code",
      "metadata": {
        "colab_type": "code",
        "id": "78ir_czJfYZT",
        "colab": {
          "base_uri": "https://localhost:8080/",
          "height": 210
        },
        "outputId": "a44805ce-9926-4e93-e756-3fdc46b21c36"
      },
      "source": [
        "tt.owned_car_brand.value_counts()"
      ],
      "execution_count": 557,
      "outputs": [
        {
          "output_type": "execute_result",
          "data": {
            "text/plain": [
              "none          683\n",
              "honda         237\n",
              "other         237\n",
              "ford          186\n",
              "audi          156\n",
              "hyundai       152\n",
              "kia           100\n",
              "tesla          90\n",
              "bmw            87\n",
              "mitsubishi     72\n",
              "Name: owned_car_brand, dtype: int64"
            ]
          },
          "metadata": {
            "tags": []
          },
          "execution_count": 557
        }
      ]
    },
    {
      "cell_type": "code",
      "metadata": {
        "colab_type": "code",
        "id": "AM0wnkfdfYZW",
        "colab": {
          "base_uri": "https://localhost:8080/",
          "height": 210
        },
        "outputId": "0e329b6a-9f16-41f6-b281-c1fef0db5bb9"
      },
      "source": [
        "tt['owned_car_brand']=tt['owned_car_brand'].map({'none':0,'honda':1,'bmw':2,'ford':3,'hyundai':4,'audi':5,'kia':6,'tesla':7,'mitsubishi':8,'other':9})\n",
        "tt.owned_car_brand.value_counts()"
      ],
      "execution_count": 558,
      "outputs": [
        {
          "output_type": "execute_result",
          "data": {
            "text/plain": [
              "0    683\n",
              "9    237\n",
              "1    237\n",
              "3    186\n",
              "5    156\n",
              "4    152\n",
              "6    100\n",
              "7     90\n",
              "2     87\n",
              "8     72\n",
              "Name: owned_car_brand, dtype: int64"
            ]
          },
          "metadata": {
            "tags": []
          },
          "execution_count": 558
        }
      ]
    },
    {
      "cell_type": "code",
      "metadata": {
        "colab_type": "code",
        "id": "8pMq6rPhfYZZ",
        "colab": {
          "base_uri": "https://localhost:8080/",
          "height": 633
        },
        "outputId": "d6a1db48-4f43-45d6-88c7-c17af6778d61"
      },
      "source": [
        "tt.info()"
      ],
      "execution_count": 559,
      "outputs": [
        {
          "output_type": "stream",
          "text": [
            "<class 'pandas.core.frame.DataFrame'>\n",
            "RangeIndex: 2000 entries, 0 to 1999\n",
            "Data columns (total 28 columns):\n",
            " #   Column                       Non-Null Count  Dtype  \n",
            "---  ------                       --------------  -----  \n",
            " 0   gender                       2000 non-null   int64  \n",
            " 1   full_name                    2000 non-null   object \n",
            " 2   year_of_birth                2000 non-null   int64  \n",
            " 3   weight                       2000 non-null   float64\n",
            " 4   height                       2000 non-null   float64\n",
            " 5   eye_color                    2000 non-null   int64  \n",
            " 6   race                         2000 non-null   int64  \n",
            " 7   accommodation_type           2000 non-null   int64  \n",
            " 8   education_status             2000 non-null   int64  \n",
            " 9   blood_type                   2000 non-null   int64  \n",
            " 10  family_members_count         2000 non-null   int64  \n",
            " 11  avg_sleep_hours              2000 non-null   int64  \n",
            " 12  occupation                   2000 non-null   int64  \n",
            " 13  living_area                  2000 non-null   int64  \n",
            " 14  sports_engagement            2000 non-null   int64  \n",
            " 15  favorite_music_genre         2000 non-null   int64  \n",
            " 16  favorite_color               2000 non-null   int64  \n",
            " 17  owned_car_brand              2000 non-null   int64  \n",
            " 18  hours_worked_each_week       2000 non-null   int64  \n",
            " 19  owns_a_pet                   2000 non-null   int64  \n",
            " 20  has_health_insurance         2000 non-null   int64  \n",
            " 21  has_cancer                   2000 non-null   int64  \n",
            " 22  smokes                       2000 non-null   int64  \n",
            " 23  has_alzheimers               2000 non-null   int64  \n",
            " 24  facial_hair                  2000 non-null   int64  \n",
            " 25  daily_household_water_usage  2000 non-null   float64\n",
            " 26  diet_type                    2000 non-null   int64  \n",
            " 27  fast_food_meals_per_month    2000 non-null   int64  \n",
            "dtypes: float64(3), int64(24), object(1)\n",
            "memory usage: 437.6+ KB\n"
          ],
          "name": "stdout"
        }
      ]
    },
    {
      "cell_type": "code",
      "metadata": {
        "colab_type": "code",
        "id": "iEMHbLUKfYZc",
        "colab": {
          "base_uri": "https://localhost:8080/",
          "height": 215
        },
        "outputId": "e98cb933-f5dc-4ef1-9fb6-ba05a8f05aec"
      },
      "source": [
        "#ttM=tt\n",
        "new=tt['full_name'].str.split(\" \", n = 1, expand = True) \n",
        "tt['full_name']=new[1]\n",
        "ttM=tt\n",
        "tt.head()\n",
        "ttM.head()"
      ],
      "execution_count": 560,
      "outputs": [
        {
          "output_type": "execute_result",
          "data": {
            "text/html": [
              "<div>\n",
              "<style scoped>\n",
              "    .dataframe tbody tr th:only-of-type {\n",
              "        vertical-align: middle;\n",
              "    }\n",
              "\n",
              "    .dataframe tbody tr th {\n",
              "        vertical-align: top;\n",
              "    }\n",
              "\n",
              "    .dataframe thead th {\n",
              "        text-align: right;\n",
              "    }\n",
              "</style>\n",
              "<table border=\"1\" class=\"dataframe\">\n",
              "  <thead>\n",
              "    <tr style=\"text-align: right;\">\n",
              "      <th></th>\n",
              "      <th>gender</th>\n",
              "      <th>full_name</th>\n",
              "      <th>year_of_birth</th>\n",
              "      <th>weight</th>\n",
              "      <th>height</th>\n",
              "      <th>eye_color</th>\n",
              "      <th>race</th>\n",
              "      <th>accommodation_type</th>\n",
              "      <th>education_status</th>\n",
              "      <th>blood_type</th>\n",
              "      <th>family_members_count</th>\n",
              "      <th>avg_sleep_hours</th>\n",
              "      <th>occupation</th>\n",
              "      <th>living_area</th>\n",
              "      <th>sports_engagement</th>\n",
              "      <th>favorite_music_genre</th>\n",
              "      <th>favorite_color</th>\n",
              "      <th>owned_car_brand</th>\n",
              "      <th>hours_worked_each_week</th>\n",
              "      <th>owns_a_pet</th>\n",
              "      <th>has_health_insurance</th>\n",
              "      <th>has_cancer</th>\n",
              "      <th>smokes</th>\n",
              "      <th>has_alzheimers</th>\n",
              "      <th>facial_hair</th>\n",
              "      <th>daily_household_water_usage</th>\n",
              "      <th>diet_type</th>\n",
              "      <th>fast_food_meals_per_month</th>\n",
              "    </tr>\n",
              "  </thead>\n",
              "  <tbody>\n",
              "    <tr>\n",
              "      <th>0</th>\n",
              "      <td>1</td>\n",
              "      <td>Williamson</td>\n",
              "      <td>1994</td>\n",
              "      <td>82.09</td>\n",
              "      <td>175.40</td>\n",
              "      <td>1</td>\n",
              "      <td>3</td>\n",
              "      <td>2</td>\n",
              "      <td>2</td>\n",
              "      <td>1</td>\n",
              "      <td>8</td>\n",
              "      <td>9</td>\n",
              "      <td>3</td>\n",
              "      <td>1</td>\n",
              "      <td>2</td>\n",
              "      <td>2</td>\n",
              "      <td>1</td>\n",
              "      <td>9</td>\n",
              "      <td>46</td>\n",
              "      <td>0</td>\n",
              "      <td>1</td>\n",
              "      <td>0</td>\n",
              "      <td>1</td>\n",
              "      <td>0</td>\n",
              "      <td>2</td>\n",
              "      <td>2583.14</td>\n",
              "      <td>1</td>\n",
              "      <td>5</td>\n",
              "    </tr>\n",
              "    <tr>\n",
              "      <th>1</th>\n",
              "      <td>2</td>\n",
              "      <td>Stenberg</td>\n",
              "      <td>2002</td>\n",
              "      <td>73.24</td>\n",
              "      <td>173.81</td>\n",
              "      <td>1</td>\n",
              "      <td>4</td>\n",
              "      <td>1</td>\n",
              "      <td>5</td>\n",
              "      <td>2</td>\n",
              "      <td>3</td>\n",
              "      <td>9</td>\n",
              "      <td>7</td>\n",
              "      <td>2</td>\n",
              "      <td>2</td>\n",
              "      <td>2</td>\n",
              "      <td>4</td>\n",
              "      <td>3</td>\n",
              "      <td>42</td>\n",
              "      <td>0</td>\n",
              "      <td>1</td>\n",
              "      <td>1</td>\n",
              "      <td>0</td>\n",
              "      <td>0</td>\n",
              "      <td>0</td>\n",
              "      <td>945.97</td>\n",
              "      <td>1</td>\n",
              "      <td>3</td>\n",
              "    </tr>\n",
              "    <tr>\n",
              "      <th>2</th>\n",
              "      <td>1</td>\n",
              "      <td>Williams</td>\n",
              "      <td>1976</td>\n",
              "      <td>78.24</td>\n",
              "      <td>182.65</td>\n",
              "      <td>6</td>\n",
              "      <td>2</td>\n",
              "      <td>1</td>\n",
              "      <td>5</td>\n",
              "      <td>3</td>\n",
              "      <td>6</td>\n",
              "      <td>6</td>\n",
              "      <td>7</td>\n",
              "      <td>3</td>\n",
              "      <td>0</td>\n",
              "      <td>2</td>\n",
              "      <td>1</td>\n",
              "      <td>1</td>\n",
              "      <td>44</td>\n",
              "      <td>0</td>\n",
              "      <td>0</td>\n",
              "      <td>0</td>\n",
              "      <td>1</td>\n",
              "      <td>0</td>\n",
              "      <td>0</td>\n",
              "      <td>1650.35</td>\n",
              "      <td>1</td>\n",
              "      <td>2</td>\n",
              "    </tr>\n",
              "    <tr>\n",
              "      <th>3</th>\n",
              "      <td>1</td>\n",
              "      <td>Tucker</td>\n",
              "      <td>1994</td>\n",
              "      <td>87.11</td>\n",
              "      <td>179.13</td>\n",
              "      <td>1</td>\n",
              "      <td>1</td>\n",
              "      <td>3</td>\n",
              "      <td>1</td>\n",
              "      <td>1</td>\n",
              "      <td>2</td>\n",
              "      <td>9</td>\n",
              "      <td>1</td>\n",
              "      <td>1</td>\n",
              "      <td>0</td>\n",
              "      <td>3</td>\n",
              "      <td>1</td>\n",
              "      <td>7</td>\n",
              "      <td>40</td>\n",
              "      <td>0</td>\n",
              "      <td>1</td>\n",
              "      <td>0</td>\n",
              "      <td>0</td>\n",
              "      <td>0</td>\n",
              "      <td>0</td>\n",
              "      <td>531.62</td>\n",
              "      <td>1</td>\n",
              "      <td>17</td>\n",
              "    </tr>\n",
              "    <tr>\n",
              "      <th>4</th>\n",
              "      <td>1</td>\n",
              "      <td>Pinto</td>\n",
              "      <td>1953</td>\n",
              "      <td>69.58</td>\n",
              "      <td>170.41</td>\n",
              "      <td>2</td>\n",
              "      <td>2</td>\n",
              "      <td>4</td>\n",
              "      <td>5</td>\n",
              "      <td>1</td>\n",
              "      <td>9</td>\n",
              "      <td>8</td>\n",
              "      <td>0</td>\n",
              "      <td>3</td>\n",
              "      <td>2</td>\n",
              "      <td>7</td>\n",
              "      <td>2</td>\n",
              "      <td>0</td>\n",
              "      <td>0</td>\n",
              "      <td>1</td>\n",
              "      <td>1</td>\n",
              "      <td>0</td>\n",
              "      <td>0</td>\n",
              "      <td>0</td>\n",
              "      <td>0</td>\n",
              "      <td>3251.48</td>\n",
              "      <td>1</td>\n",
              "      <td>5</td>\n",
              "    </tr>\n",
              "  </tbody>\n",
              "</table>\n",
              "</div>"
            ],
            "text/plain": [
              "   gender   full_name  ...  diet_type  fast_food_meals_per_month\n",
              "0       1  Williamson  ...          1                          5\n",
              "1       2    Stenberg  ...          1                          3\n",
              "2       1    Williams  ...          1                          2\n",
              "3       1      Tucker  ...          1                         17\n",
              "4       1       Pinto  ...          1                          5\n",
              "\n",
              "[5 rows x 28 columns]"
            ]
          },
          "metadata": {
            "tags": []
          },
          "execution_count": 560
        }
      ]
    },
    {
      "cell_type": "code",
      "metadata": {
        "colab_type": "code",
        "id": "Y_uAHh4cfYZd",
        "colab": {
          "base_uri": "https://localhost:8080/",
          "height": 215
        },
        "outputId": "54d422e6-c17c-477b-9548-bdcb502546dc"
      },
      "source": [
        "#ttM=ttM.drop('full_name',axis=1)\n",
        "from sklearn.preprocessing import LabelEncoder\n",
        "\n",
        "lb_make = LabelEncoder()\n",
        "ttM['full_name'] = lb_make.fit_transform(ttM['full_name'])\n",
        "ttM.full_name.value_counts()\n",
        "ttM.head()"
      ],
      "execution_count": 561,
      "outputs": [
        {
          "output_type": "execute_result",
          "data": {
            "text/html": [
              "<div>\n",
              "<style scoped>\n",
              "    .dataframe tbody tr th:only-of-type {\n",
              "        vertical-align: middle;\n",
              "    }\n",
              "\n",
              "    .dataframe tbody tr th {\n",
              "        vertical-align: top;\n",
              "    }\n",
              "\n",
              "    .dataframe thead th {\n",
              "        text-align: right;\n",
              "    }\n",
              "</style>\n",
              "<table border=\"1\" class=\"dataframe\">\n",
              "  <thead>\n",
              "    <tr style=\"text-align: right;\">\n",
              "      <th></th>\n",
              "      <th>gender</th>\n",
              "      <th>full_name</th>\n",
              "      <th>year_of_birth</th>\n",
              "      <th>weight</th>\n",
              "      <th>height</th>\n",
              "      <th>eye_color</th>\n",
              "      <th>race</th>\n",
              "      <th>accommodation_type</th>\n",
              "      <th>education_status</th>\n",
              "      <th>blood_type</th>\n",
              "      <th>family_members_count</th>\n",
              "      <th>avg_sleep_hours</th>\n",
              "      <th>occupation</th>\n",
              "      <th>living_area</th>\n",
              "      <th>sports_engagement</th>\n",
              "      <th>favorite_music_genre</th>\n",
              "      <th>favorite_color</th>\n",
              "      <th>owned_car_brand</th>\n",
              "      <th>hours_worked_each_week</th>\n",
              "      <th>owns_a_pet</th>\n",
              "      <th>has_health_insurance</th>\n",
              "      <th>has_cancer</th>\n",
              "      <th>smokes</th>\n",
              "      <th>has_alzheimers</th>\n",
              "      <th>facial_hair</th>\n",
              "      <th>daily_household_water_usage</th>\n",
              "      <th>diet_type</th>\n",
              "      <th>fast_food_meals_per_month</th>\n",
              "    </tr>\n",
              "  </thead>\n",
              "  <tbody>\n",
              "    <tr>\n",
              "      <th>0</th>\n",
              "      <td>1</td>\n",
              "      <td>1451</td>\n",
              "      <td>1994</td>\n",
              "      <td>82.09</td>\n",
              "      <td>175.40</td>\n",
              "      <td>1</td>\n",
              "      <td>3</td>\n",
              "      <td>2</td>\n",
              "      <td>2</td>\n",
              "      <td>1</td>\n",
              "      <td>8</td>\n",
              "      <td>9</td>\n",
              "      <td>3</td>\n",
              "      <td>1</td>\n",
              "      <td>2</td>\n",
              "      <td>2</td>\n",
              "      <td>1</td>\n",
              "      <td>9</td>\n",
              "      <td>46</td>\n",
              "      <td>0</td>\n",
              "      <td>1</td>\n",
              "      <td>0</td>\n",
              "      <td>1</td>\n",
              "      <td>0</td>\n",
              "      <td>2</td>\n",
              "      <td>2583.14</td>\n",
              "      <td>1</td>\n",
              "      <td>5</td>\n",
              "    </tr>\n",
              "    <tr>\n",
              "      <th>1</th>\n",
              "      <td>2</td>\n",
              "      <td>1272</td>\n",
              "      <td>2002</td>\n",
              "      <td>73.24</td>\n",
              "      <td>173.81</td>\n",
              "      <td>1</td>\n",
              "      <td>4</td>\n",
              "      <td>1</td>\n",
              "      <td>5</td>\n",
              "      <td>2</td>\n",
              "      <td>3</td>\n",
              "      <td>9</td>\n",
              "      <td>7</td>\n",
              "      <td>2</td>\n",
              "      <td>2</td>\n",
              "      <td>2</td>\n",
              "      <td>4</td>\n",
              "      <td>3</td>\n",
              "      <td>42</td>\n",
              "      <td>0</td>\n",
              "      <td>1</td>\n",
              "      <td>1</td>\n",
              "      <td>0</td>\n",
              "      <td>0</td>\n",
              "      <td>0</td>\n",
              "      <td>945.97</td>\n",
              "      <td>1</td>\n",
              "      <td>3</td>\n",
              "    </tr>\n",
              "    <tr>\n",
              "      <th>2</th>\n",
              "      <td>1</td>\n",
              "      <td>1450</td>\n",
              "      <td>1976</td>\n",
              "      <td>78.24</td>\n",
              "      <td>182.65</td>\n",
              "      <td>6</td>\n",
              "      <td>2</td>\n",
              "      <td>1</td>\n",
              "      <td>5</td>\n",
              "      <td>3</td>\n",
              "      <td>6</td>\n",
              "      <td>6</td>\n",
              "      <td>7</td>\n",
              "      <td>3</td>\n",
              "      <td>0</td>\n",
              "      <td>2</td>\n",
              "      <td>1</td>\n",
              "      <td>1</td>\n",
              "      <td>44</td>\n",
              "      <td>0</td>\n",
              "      <td>0</td>\n",
              "      <td>0</td>\n",
              "      <td>1</td>\n",
              "      <td>0</td>\n",
              "      <td>0</td>\n",
              "      <td>1650.35</td>\n",
              "      <td>1</td>\n",
              "      <td>2</td>\n",
              "    </tr>\n",
              "    <tr>\n",
              "      <th>3</th>\n",
              "      <td>1</td>\n",
              "      <td>1362</td>\n",
              "      <td>1994</td>\n",
              "      <td>87.11</td>\n",
              "      <td>179.13</td>\n",
              "      <td>1</td>\n",
              "      <td>1</td>\n",
              "      <td>3</td>\n",
              "      <td>1</td>\n",
              "      <td>1</td>\n",
              "      <td>2</td>\n",
              "      <td>9</td>\n",
              "      <td>1</td>\n",
              "      <td>1</td>\n",
              "      <td>0</td>\n",
              "      <td>3</td>\n",
              "      <td>1</td>\n",
              "      <td>7</td>\n",
              "      <td>40</td>\n",
              "      <td>0</td>\n",
              "      <td>1</td>\n",
              "      <td>0</td>\n",
              "      <td>0</td>\n",
              "      <td>0</td>\n",
              "      <td>0</td>\n",
              "      <td>531.62</td>\n",
              "      <td>1</td>\n",
              "      <td>17</td>\n",
              "    </tr>\n",
              "    <tr>\n",
              "      <th>4</th>\n",
              "      <td>1</td>\n",
              "      <td>1041</td>\n",
              "      <td>1953</td>\n",
              "      <td>69.58</td>\n",
              "      <td>170.41</td>\n",
              "      <td>2</td>\n",
              "      <td>2</td>\n",
              "      <td>4</td>\n",
              "      <td>5</td>\n",
              "      <td>1</td>\n",
              "      <td>9</td>\n",
              "      <td>8</td>\n",
              "      <td>0</td>\n",
              "      <td>3</td>\n",
              "      <td>2</td>\n",
              "      <td>7</td>\n",
              "      <td>2</td>\n",
              "      <td>0</td>\n",
              "      <td>0</td>\n",
              "      <td>1</td>\n",
              "      <td>1</td>\n",
              "      <td>0</td>\n",
              "      <td>0</td>\n",
              "      <td>0</td>\n",
              "      <td>0</td>\n",
              "      <td>3251.48</td>\n",
              "      <td>1</td>\n",
              "      <td>5</td>\n",
              "    </tr>\n",
              "  </tbody>\n",
              "</table>\n",
              "</div>"
            ],
            "text/plain": [
              "   gender  full_name  ...  diet_type  fast_food_meals_per_month\n",
              "0       1       1451  ...          1                          5\n",
              "1       2       1272  ...          1                          3\n",
              "2       1       1450  ...          1                          2\n",
              "3       1       1362  ...          1                         17\n",
              "4       1       1041  ...          1                          5\n",
              "\n",
              "[5 rows x 28 columns]"
            ]
          },
          "metadata": {
            "tags": []
          },
          "execution_count": 561
        }
      ]
    },
    {
      "cell_type": "code",
      "metadata": {
        "id": "aL8b3Boeis2q",
        "colab_type": "code",
        "colab": {
          "base_uri": "https://localhost:8080/",
          "height": 633
        },
        "outputId": "99aba0f9-0ad7-429f-b6ff-c1ff09148d21"
      },
      "source": [
        "ttM.info()"
      ],
      "execution_count": 562,
      "outputs": [
        {
          "output_type": "stream",
          "text": [
            "<class 'pandas.core.frame.DataFrame'>\n",
            "RangeIndex: 2000 entries, 0 to 1999\n",
            "Data columns (total 28 columns):\n",
            " #   Column                       Non-Null Count  Dtype  \n",
            "---  ------                       --------------  -----  \n",
            " 0   gender                       2000 non-null   int64  \n",
            " 1   full_name                    2000 non-null   int64  \n",
            " 2   year_of_birth                2000 non-null   int64  \n",
            " 3   weight                       2000 non-null   float64\n",
            " 4   height                       2000 non-null   float64\n",
            " 5   eye_color                    2000 non-null   int64  \n",
            " 6   race                         2000 non-null   int64  \n",
            " 7   accommodation_type           2000 non-null   int64  \n",
            " 8   education_status             2000 non-null   int64  \n",
            " 9   blood_type                   2000 non-null   int64  \n",
            " 10  family_members_count         2000 non-null   int64  \n",
            " 11  avg_sleep_hours              2000 non-null   int64  \n",
            " 12  occupation                   2000 non-null   int64  \n",
            " 13  living_area                  2000 non-null   int64  \n",
            " 14  sports_engagement            2000 non-null   int64  \n",
            " 15  favorite_music_genre         2000 non-null   int64  \n",
            " 16  favorite_color               2000 non-null   int64  \n",
            " 17  owned_car_brand              2000 non-null   int64  \n",
            " 18  hours_worked_each_week       2000 non-null   int64  \n",
            " 19  owns_a_pet                   2000 non-null   int64  \n",
            " 20  has_health_insurance         2000 non-null   int64  \n",
            " 21  has_cancer                   2000 non-null   int64  \n",
            " 22  smokes                       2000 non-null   int64  \n",
            " 23  has_alzheimers               2000 non-null   int64  \n",
            " 24  facial_hair                  2000 non-null   int64  \n",
            " 25  daily_household_water_usage  2000 non-null   float64\n",
            " 26  diet_type                    2000 non-null   int64  \n",
            " 27  fast_food_meals_per_month    2000 non-null   int64  \n",
            "dtypes: float64(3), int64(25)\n",
            "memory usage: 437.6 KB\n"
          ],
          "name": "stdout"
        }
      ]
    },
    {
      "cell_type": "markdown",
      "metadata": {
        "id": "g0cts6fcjIQH",
        "colab_type": "text"
      },
      "source": [
        "# ML"
      ]
    },
    {
      "cell_type": "code",
      "metadata": {
        "id": "7tgG96FKnENT",
        "colab_type": "code",
        "colab": {
          "base_uri": "https://localhost:8080/",
          "height": 175
        },
        "outputId": "c825b3cc-7fe2-41e9-d487-aaf9e2addc70"
      },
      "source": [
        "trM.columns"
      ],
      "execution_count": 563,
      "outputs": [
        {
          "output_type": "execute_result",
          "data": {
            "text/plain": [
              "Index(['gender', 'full_name', 'year_of_birth', 'weight', 'height', 'eye_color',\n",
              "       'race', 'accommodation_type', 'education_status', 'blood_type',\n",
              "       'family_members_count', 'avg_sleep_hours', 'occupation', 'living_area',\n",
              "       'sports_engagement', 'favorite_music_genre', 'favorite_color',\n",
              "       'owned_car_brand', 'hours_worked_each_week', 'owns_a_pet',\n",
              "       'has_health_insurance', 'has_cancer', 'smokes', 'has_alzheimers',\n",
              "       'facial_hair', 'daily_household_water_usage', 'diet_type',\n",
              "       'fast_food_meals_per_month', 'infected'],\n",
              "      dtype='object')"
            ]
          },
          "metadata": {
            "tags": []
          },
          "execution_count": 563
        }
      ]
    },
    {
      "cell_type": "code",
      "metadata": {
        "id": "OGwUFTyCXACD",
        "colab_type": "code",
        "colab": {
          "base_uri": "https://localhost:8080/",
          "height": 52
        },
        "outputId": "f82ec43f-528b-4aac-feea-e2f891938fa4"
      },
      "source": [
        "from sklearn import tree\n",
        "model_dt = tree.DecisionTreeClassifier()\n",
        "y_train=trM['infected']\n",
        "x_train=trM.drop('infected',axis=1)\n",
        "x_test=ttM\n",
        "model_dt.fit(x_train,y_train)\n",
        "y_test=model_dt.predict(x_test)\n",
        "ACC_train_dt = model_dt.score(x_train,y_train)\n",
        "ACC_test_dt = model_dt.score(x_test,y_test)\n",
        "print(ACC_train_dt)\n",
        "print(ACC_train_dt)\n",
        "DT=pd.DataFrame()\n",
        "DT['prediction']=y_test\n",
        "DT.index = np.arange(1, len(DT) + 1)\n",
        "DT.to_csv('drive/My Drive/DT.csv',index=True)"
      ],
      "execution_count": 576,
      "outputs": [
        {
          "output_type": "stream",
          "text": [
            "1.0\n",
            "1.0\n"
          ],
          "name": "stdout"
        }
      ]
    },
    {
      "cell_type": "code",
      "metadata": {
        "id": "eMsG44s2mC48",
        "colab_type": "code",
        "colab": {
          "base_uri": "https://localhost:8080/",
          "height": 193
        },
        "outputId": "af1ffb08-abe3-41f6-b077-e2ab987767b6"
      },
      "source": [
        "from sklearn.linear_model import LogisticRegression\n",
        "model_lr = LogisticRegression()\n",
        "y_train=trM['infected']\n",
        "x_train=trM.drop('infected',axis=1)\n",
        "x_test=ttM\n",
        "model_lr.fit(x_train,y_train)\n",
        "y_test=model_lr.predict(x_test)\n",
        "ACC_train_dt = model_lr.score(x_train,y_train)\n",
        "ACC_test_dt = model_lr.score(x_test,y_test)\n",
        "print(ACC_train_dt)\n",
        "print(ACC_train_dt)\n",
        "LR=pd.DataFrame()\n",
        "LR['prediction']=y_test\n",
        "LR.index = np.arange(1, len(LR) + 1)\n",
        "LR.to_csv('drive/My Drive/LR.csv',index=True)"
      ],
      "execution_count": 574,
      "outputs": [
        {
          "output_type": "stream",
          "text": [
            "0.660125\n",
            "0.660125\n"
          ],
          "name": "stdout"
        },
        {
          "output_type": "stream",
          "text": [
            "/usr/local/lib/python3.6/dist-packages/sklearn/linear_model/_logistic.py:940: ConvergenceWarning: lbfgs failed to converge (status=1):\n",
            "STOP: TOTAL NO. of ITERATIONS REACHED LIMIT.\n",
            "\n",
            "Increase the number of iterations (max_iter) or scale the data as shown in:\n",
            "    https://scikit-learn.org/stable/modules/preprocessing.html\n",
            "Please also refer to the documentation for alternative solver options:\n",
            "    https://scikit-learn.org/stable/modules/linear_model.html#logistic-regression\n",
            "  extra_warning_msg=_LOGISTIC_SOLVER_CONVERGENCE_MSG)\n"
          ],
          "name": "stderr"
        }
      ]
    },
    {
      "cell_type": "code",
      "metadata": {
        "id": "7hnPEb8Um38z",
        "colab_type": "code",
        "colab": {
          "base_uri": "https://localhost:8080/",
          "height": 52
        },
        "outputId": "40c8fabb-c89f-4655-d3f5-528baa810673"
      },
      "source": [
        "from sklearn.naive_bayes import GaussianNB\n",
        "model_nb = GaussianNB()\n",
        "y_train=trM['infected']\n",
        "x_train=trM.drop('infected',axis=1)\n",
        "x_test=ttM\n",
        "model_nb.fit(x_train,y_train)\n",
        "y_test=model_nb.predict(x_test)\n",
        "ACC_train_dt = model_nb.score(x_train,y_train)\n",
        "ACC_test_dt = model_nb.score(x_test,y_test)\n",
        "print(ACC_train_dt)\n",
        "print(ACC_train_dt)\n",
        "NB=pd.DataFrame()\n",
        "NB['prediction']=y_test\n",
        "NB.index = np.arange(1, len(NB) + 1)\n",
        "NB.to_csv('drive/My Drive/NB.csv',index=True)"
      ],
      "execution_count": 575,
      "outputs": [
        {
          "output_type": "stream",
          "text": [
            "0.6795\n",
            "0.6795\n"
          ],
          "name": "stdout"
        }
      ]
    },
    {
      "cell_type": "code",
      "metadata": {
        "id": "W3BkzzmIpWEQ",
        "colab_type": "code",
        "colab": {
          "base_uri": "https://localhost:8080/",
          "height": 52
        },
        "outputId": "1baf8dd6-fc10-4bf6-c60e-006b71ff5a11"
      },
      "source": [
        "from sklearn.svm import SVC \n",
        "model_svm = SVC()\n",
        "y_train=trM['infected']\n",
        "x_train=trM.drop('infected',axis=1)\n",
        "x_test=ttM\n",
        "model_svm.fit(x_train,y_train)\n",
        "y_test=model_svm.predict(x_test)\n",
        "ACC_train_dt = model_svm.score(x_train,y_train)\n",
        "ACC_test_dt = model_svm.score(x_test,y_test)\n",
        "print(ACC_train_dt)\n",
        "print(ACC_train_dt)\n",
        "svm=pd.DataFrame()\n",
        "svm['prediction']=y_test\n",
        "svm.index = np.arange(1, len(svm) + 1)\n",
        "svm.to_csv('drive/My Drive/SVM.csv',index=True)"
      ],
      "execution_count": 573,
      "outputs": [
        {
          "output_type": "stream",
          "text": [
            "0.651375\n",
            "0.651375\n"
          ],
          "name": "stdout"
        }
      ]
    },
    {
      "cell_type": "code",
      "metadata": {
        "id": "F7lSUUIPqIMk",
        "colab_type": "code",
        "colab": {
          "base_uri": "https://localhost:8080/",
          "height": 52
        },
        "outputId": "458e6a3d-aa4f-42b4-e7af-f8e4b191d999"
      },
      "source": [
        "from sklearn.ensemble import RandomForestClassifier \n",
        "model_rf = RandomForestClassifier()\n",
        "y_train=trM['infected']\n",
        "x_train=trM.drop('infected',axis=1)\n",
        "x_test=ttM\n",
        "model_rf.fit(x_train,y_train)\n",
        "y_test=model_rf.predict(x_test)\n",
        "ACC_train_dt = model_rf.score(x_train,y_train)\n",
        "ACC_test_dt = model_rf.score(x_test,y_test)\n",
        "print(ACC_train_dt)\n",
        "print(ACC_train_dt)\n",
        "rf=pd.DataFrame()\n",
        "rf['prediction']=y_test\n",
        "rf.index = np.arange(1, len(rf) + 1)\n",
        "rf.to_csv('drive/My Drive/RF.csv',index=True)"
      ],
      "execution_count": 572,
      "outputs": [
        {
          "output_type": "stream",
          "text": [
            "1.0\n",
            "1.0\n"
          ],
          "name": "stdout"
        }
      ]
    },
    {
      "cell_type": "code",
      "metadata": {
        "id": "lHRzz-Lzrf7F",
        "colab_type": "code",
        "colab": {
          "base_uri": "https://localhost:8080/",
          "height": 52
        },
        "outputId": "9103b547-30eb-4877-b500-a2f2fd5e4141"
      },
      "source": [
        "from sklearn.neural_network import MLPClassifier\n",
        "model_nn = MLPClassifier()\n",
        "y_train=trM['infected']\n",
        "x_train=trM.drop('infected',axis=1)\n",
        "x_test=ttM\n",
        "model_nn.fit(x_train,y_train)\n",
        "y_test=model_nn.predict(x_test)\n",
        "ACC_train_dt = model_nn.score(x_train,y_train)\n",
        "ACC_test_dt = model_nn.score(x_test,y_test)\n",
        "print(ACC_train_dt)\n",
        "print(ACC_train_dt)\n",
        "nn=pd.DataFrame()\n",
        "nn['prediction']=y_test\n",
        "nn.index = np.arange(1, len(nn) + 1)\n",
        "nn.to_csv('drive/My Drive/NN.csv',index=True)"
      ],
      "execution_count": 571,
      "outputs": [
        {
          "output_type": "stream",
          "text": [
            "0.65925\n",
            "0.65925\n"
          ],
          "name": "stdout"
        }
      ]
    }
  ]
}
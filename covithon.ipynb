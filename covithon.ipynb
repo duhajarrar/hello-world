{
  "nbformat": 4,
  "nbformat_minor": 0,
  "metadata": {
    "colab": {
      "name": "covithon.ipynb",
      "provenance": [],
      "collapsed_sections": [],
      "mount_file_id": "1w1AYRQ7MxezxhcZ9bSmQ4Jdt2SYI1cV8",
      "authorship_tag": "ABX9TyNI2ANxqfJP5CpQru57NOSw",
      "include_colab_link": true
    },
    "kernelspec": {
      "name": "python3",
      "display_name": "Python 3"
    }
  },
  "cells": [
    {
      "cell_type": "markdown",
      "metadata": {
        "id": "view-in-github",
        "colab_type": "text"
      },
      "source": [
        "<a href=\"https://colab.research.google.com/github/duhajarrar/hello-world/blob/master/covithon.ipynb\" target=\"_parent\"><img src=\"https://colab.research.google.com/assets/colab-badge.svg\" alt=\"Open In Colab\"/></a>"
      ]
    },
    {
      "cell_type": "code",
      "metadata": {
        "id": "fzPb23RypGEq",
        "colab_type": "code",
        "colab": {
          "base_uri": "https://localhost:8080/",
          "height": 650
        },
        "outputId": "edd0d85e-9702-43cd-fb2f-f00d5b149bdd"
      },
      "source": [
        "import pandas as pd\n",
        "import numpy as np\n",
        "tr = pd.read_csv(\"drive/My Drive/train.csv\")\n",
        "tr.info()"
      ],
      "execution_count": 176,
      "outputs": [
        {
          "output_type": "stream",
          "text": [
            "<class 'pandas.core.frame.DataFrame'>\n",
            "RangeIndex: 8000 entries, 0 to 7999\n",
            "Data columns (total 29 columns):\n",
            " #   Column                       Non-Null Count  Dtype  \n",
            "---  ------                       --------------  -----  \n",
            " 0   gender                       8000 non-null   object \n",
            " 1   full_name                    8000 non-null   object \n",
            " 2   year_of_birth                8000 non-null   int64  \n",
            " 3   weight                       8000 non-null   float64\n",
            " 4   height                       8000 non-null   float64\n",
            " 5   eye_color                    8000 non-null   object \n",
            " 6   race                         8000 non-null   object \n",
            " 7   accommodation_type           8000 non-null   object \n",
            " 8   education_status             8000 non-null   object \n",
            " 9   blood_type                   8000 non-null   object \n",
            " 10  family_members_count         8000 non-null   int64  \n",
            " 11  avg_sleep_hours              8000 non-null   int64  \n",
            " 12  occupation                   8000 non-null   object \n",
            " 13  living_area                  8000 non-null   object \n",
            " 14  sports_engagement            8000 non-null   object \n",
            " 15  favorite_music_genre         8000 non-null   object \n",
            " 16  favorite_color               8000 non-null   object \n",
            " 17  owned_car_brand              8000 non-null   object \n",
            " 18  hours_worked_each_week       8000 non-null   object \n",
            " 19  owns_a_pet                   8000 non-null   object \n",
            " 20  has_health_insurance         8000 non-null   object \n",
            " 21  has_cancer                   8000 non-null   object \n",
            " 22  smokes                       8000 non-null   object \n",
            " 23  has_alzheimers               8000 non-null   object \n",
            " 24  facial_hair                  8000 non-null   object \n",
            " 25  daily_household_water_usage  8000 non-null   float64\n",
            " 26  diet_type                    8000 non-null   object \n",
            " 27  fast_food_meals_per_month    8000 non-null   int64  \n",
            " 28  infected                     8000 non-null   int64  \n",
            "dtypes: float64(3), int64(5), object(21)\n",
            "memory usage: 1.8+ MB\n"
          ],
          "name": "stdout"
        }
      ]
    },
    {
      "cell_type": "code",
      "metadata": {
        "id": "qkVmL5MgqXUT",
        "colab_type": "code",
        "colab": {
          "base_uri": "https://localhost:8080/",
          "height": 70
        },
        "outputId": "8da71204-5f1c-4d6d-aeda-a7b6fa606c21"
      },
      "source": [
        "tr['infected'].value_counts()"
      ],
      "execution_count": 177,
      "outputs": [
        {
          "output_type": "execute_result",
          "data": {
            "text/plain": [
              "0    5211\n",
              "1    2789\n",
              "Name: infected, dtype: int64"
            ]
          },
          "metadata": {
            "tags": []
          },
          "execution_count": 177
        }
      ]
    },
    {
      "cell_type": "code",
      "metadata": {
        "id": "jTeOvPOMqzS3",
        "colab_type": "code",
        "colab": {
          "base_uri": "https://localhost:8080/",
          "height": 650
        },
        "outputId": "3edf709d-5f64-4667-a0e1-6664e37704ca"
      },
      "source": [
        "trCovid=tr[tr['infected']==1]\n",
        "trCovid.info()"
      ],
      "execution_count": 178,
      "outputs": [
        {
          "output_type": "stream",
          "text": [
            "<class 'pandas.core.frame.DataFrame'>\n",
            "Int64Index: 2789 entries, 3 to 7998\n",
            "Data columns (total 29 columns):\n",
            " #   Column                       Non-Null Count  Dtype  \n",
            "---  ------                       --------------  -----  \n",
            " 0   gender                       2789 non-null   object \n",
            " 1   full_name                    2789 non-null   object \n",
            " 2   year_of_birth                2789 non-null   int64  \n",
            " 3   weight                       2789 non-null   float64\n",
            " 4   height                       2789 non-null   float64\n",
            " 5   eye_color                    2789 non-null   object \n",
            " 6   race                         2789 non-null   object \n",
            " 7   accommodation_type           2789 non-null   object \n",
            " 8   education_status             2789 non-null   object \n",
            " 9   blood_type                   2789 non-null   object \n",
            " 10  family_members_count         2789 non-null   int64  \n",
            " 11  avg_sleep_hours              2789 non-null   int64  \n",
            " 12  occupation                   2789 non-null   object \n",
            " 13  living_area                  2789 non-null   object \n",
            " 14  sports_engagement            2789 non-null   object \n",
            " 15  favorite_music_genre         2789 non-null   object \n",
            " 16  favorite_color               2789 non-null   object \n",
            " 17  owned_car_brand              2789 non-null   object \n",
            " 18  hours_worked_each_week       2789 non-null   object \n",
            " 19  owns_a_pet                   2789 non-null   object \n",
            " 20  has_health_insurance         2789 non-null   object \n",
            " 21  has_cancer                   2789 non-null   object \n",
            " 22  smokes                       2789 non-null   object \n",
            " 23  has_alzheimers               2789 non-null   object \n",
            " 24  facial_hair                  2789 non-null   object \n",
            " 25  daily_household_water_usage  2789 non-null   float64\n",
            " 26  diet_type                    2789 non-null   object \n",
            " 27  fast_food_meals_per_month    2789 non-null   int64  \n",
            " 28  infected                     2789 non-null   int64  \n",
            "dtypes: float64(3), int64(5), object(21)\n",
            "memory usage: 653.7+ KB\n"
          ],
          "name": "stdout"
        }
      ]
    },
    {
      "cell_type": "code",
      "metadata": {
        "id": "EXZ_ki3CshwW",
        "colab_type": "code",
        "colab": {
          "base_uri": "https://localhost:8080/",
          "height": 34
        },
        "outputId": "aad29f26-197b-4f7a-f77e-09094d189aeb"
      },
      "source": [
        "tr.shape"
      ],
      "execution_count": 179,
      "outputs": [
        {
          "output_type": "execute_result",
          "data": {
            "text/plain": [
              "(8000, 29)"
            ]
          },
          "metadata": {
            "tags": []
          },
          "execution_count": 179
        }
      ]
    },
    {
      "cell_type": "code",
      "metadata": {
        "id": "KN2tCtvCve-H",
        "colab_type": "code",
        "colab": {
          "base_uri": "https://localhost:8080/",
          "height": 175
        },
        "outputId": "a08ed801-cfc5-47b6-a478-b3793503b236"
      },
      "source": [
        "tr.columns"
      ],
      "execution_count": 180,
      "outputs": [
        {
          "output_type": "execute_result",
          "data": {
            "text/plain": [
              "Index(['gender', 'full_name', 'year_of_birth', 'weight', 'height', 'eye_color',\n",
              "       'race', 'accommodation_type', 'education_status', 'blood_type',\n",
              "       'family_members_count', 'avg_sleep_hours', 'occupation', 'living_area',\n",
              "       'sports_engagement', 'favorite_music_genre', 'favorite_color',\n",
              "       'owned_car_brand', 'hours_worked_each_week', 'owns_a_pet',\n",
              "       'has_health_insurance', 'has_cancer', 'smokes', 'has_alzheimers',\n",
              "       'facial_hair', 'daily_household_water_usage', 'diet_type',\n",
              "       'fast_food_meals_per_month', 'infected'],\n",
              "      dtype='object')"
            ]
          },
          "metadata": {
            "tags": []
          },
          "execution_count": 180
        }
      ]
    },
    {
      "cell_type": "code",
      "metadata": {
        "id": "XUsjJ9k5siQN",
        "colab_type": "code",
        "colab": {
          "base_uri": "https://localhost:8080/",
          "height": 136
        },
        "outputId": "16297b29-0d00-451b-9d08-c81bf5e7b452"
      },
      "source": [
        "tr.groupby('infected').mean()"
      ],
      "execution_count": 181,
      "outputs": [
        {
          "output_type": "execute_result",
          "data": {
            "text/html": [
              "<div>\n",
              "<style scoped>\n",
              "    .dataframe tbody tr th:only-of-type {\n",
              "        vertical-align: middle;\n",
              "    }\n",
              "\n",
              "    .dataframe tbody tr th {\n",
              "        vertical-align: top;\n",
              "    }\n",
              "\n",
              "    .dataframe thead th {\n",
              "        text-align: right;\n",
              "    }\n",
              "</style>\n",
              "<table border=\"1\" class=\"dataframe\">\n",
              "  <thead>\n",
              "    <tr style=\"text-align: right;\">\n",
              "      <th></th>\n",
              "      <th>year_of_birth</th>\n",
              "      <th>weight</th>\n",
              "      <th>height</th>\n",
              "      <th>family_members_count</th>\n",
              "      <th>avg_sleep_hours</th>\n",
              "      <th>daily_household_water_usage</th>\n",
              "      <th>fast_food_meals_per_month</th>\n",
              "    </tr>\n",
              "    <tr>\n",
              "      <th>infected</th>\n",
              "      <th></th>\n",
              "      <th></th>\n",
              "      <th></th>\n",
              "      <th></th>\n",
              "      <th></th>\n",
              "      <th></th>\n",
              "      <th></th>\n",
              "    </tr>\n",
              "  </thead>\n",
              "  <tbody>\n",
              "    <tr>\n",
              "      <th>0</th>\n",
              "      <td>1985.926885</td>\n",
              "      <td>65.383692</td>\n",
              "      <td>151.369758</td>\n",
              "      <td>5.068893</td>\n",
              "      <td>8.614277</td>\n",
              "      <td>1730.918131</td>\n",
              "      <td>7.669353</td>\n",
              "    </tr>\n",
              "    <tr>\n",
              "      <th>1</th>\n",
              "      <td>1986.467193</td>\n",
              "      <td>68.210455</td>\n",
              "      <td>153.104823</td>\n",
              "      <td>5.586590</td>\n",
              "      <td>8.589459</td>\n",
              "      <td>1893.018505</td>\n",
              "      <td>9.095016</td>\n",
              "    </tr>\n",
              "  </tbody>\n",
              "</table>\n",
              "</div>"
            ],
            "text/plain": [
              "          year_of_birth  ...  fast_food_meals_per_month\n",
              "infected                 ...                           \n",
              "0           1985.926885  ...                   7.669353\n",
              "1           1986.467193  ...                   9.095016\n",
              "\n",
              "[2 rows x 7 columns]"
            ]
          },
          "metadata": {
            "tags": []
          },
          "execution_count": 181
        }
      ]
    },
    {
      "cell_type": "code",
      "metadata": {
        "id": "FR7lewuN6plr",
        "colab_type": "code",
        "colab": {
          "base_uri": "https://localhost:8080/",
          "height": 282
        },
        "outputId": "a54aba8a-05d9-4cb9-fce9-db39f5977cc8"
      },
      "source": [
        "tr.head()"
      ],
      "execution_count": 182,
      "outputs": [
        {
          "output_type": "execute_result",
          "data": {
            "text/html": [
              "<div>\n",
              "<style scoped>\n",
              "    .dataframe tbody tr th:only-of-type {\n",
              "        vertical-align: middle;\n",
              "    }\n",
              "\n",
              "    .dataframe tbody tr th {\n",
              "        vertical-align: top;\n",
              "    }\n",
              "\n",
              "    .dataframe thead th {\n",
              "        text-align: right;\n",
              "    }\n",
              "</style>\n",
              "<table border=\"1\" class=\"dataframe\">\n",
              "  <thead>\n",
              "    <tr style=\"text-align: right;\">\n",
              "      <th></th>\n",
              "      <th>gender</th>\n",
              "      <th>full_name</th>\n",
              "      <th>year_of_birth</th>\n",
              "      <th>weight</th>\n",
              "      <th>height</th>\n",
              "      <th>eye_color</th>\n",
              "      <th>race</th>\n",
              "      <th>accommodation_type</th>\n",
              "      <th>education_status</th>\n",
              "      <th>blood_type</th>\n",
              "      <th>family_members_count</th>\n",
              "      <th>avg_sleep_hours</th>\n",
              "      <th>occupation</th>\n",
              "      <th>living_area</th>\n",
              "      <th>sports_engagement</th>\n",
              "      <th>favorite_music_genre</th>\n",
              "      <th>favorite_color</th>\n",
              "      <th>owned_car_brand</th>\n",
              "      <th>hours_worked_each_week</th>\n",
              "      <th>owns_a_pet</th>\n",
              "      <th>has_health_insurance</th>\n",
              "      <th>has_cancer</th>\n",
              "      <th>smokes</th>\n",
              "      <th>has_alzheimers</th>\n",
              "      <th>facial_hair</th>\n",
              "      <th>daily_household_water_usage</th>\n",
              "      <th>diet_type</th>\n",
              "      <th>fast_food_meals_per_month</th>\n",
              "      <th>infected</th>\n",
              "    </tr>\n",
              "  </thead>\n",
              "  <tbody>\n",
              "    <tr>\n",
              "      <th>0</th>\n",
              "      <td>male</td>\n",
              "      <td>Gerald Valentine</td>\n",
              "      <td>2024</td>\n",
              "      <td>8.69</td>\n",
              "      <td>52.32</td>\n",
              "      <td>brown</td>\n",
              "      <td>black</td>\n",
              "      <td>apartment</td>\n",
              "      <td>not_applicable</td>\n",
              "      <td>A+</td>\n",
              "      <td>4</td>\n",
              "      <td>12</td>\n",
              "      <td>unemployed</td>\n",
              "      <td>suburbs</td>\n",
              "      <td>never</td>\n",
              "      <td>r&amp;b</td>\n",
              "      <td>green</td>\n",
              "      <td>none</td>\n",
              "      <td>not_applicable</td>\n",
              "      <td>no</td>\n",
              "      <td>no</td>\n",
              "      <td>no</td>\n",
              "      <td>no</td>\n",
              "      <td>no</td>\n",
              "      <td>none</td>\n",
              "      <td>1471.95</td>\n",
              "      <td>regular</td>\n",
              "      <td>2</td>\n",
              "      <td>0</td>\n",
              "    </tr>\n",
              "    <tr>\n",
              "      <th>1</th>\n",
              "      <td>male</td>\n",
              "      <td>Chad Sell</td>\n",
              "      <td>1956</td>\n",
              "      <td>93.21</td>\n",
              "      <td>157.04</td>\n",
              "      <td>brown</td>\n",
              "      <td>asian</td>\n",
              "      <td>villa</td>\n",
              "      <td>associate_degree</td>\n",
              "      <td>AB+</td>\n",
              "      <td>5</td>\n",
              "      <td>6</td>\n",
              "      <td>art</td>\n",
              "      <td>suburbs</td>\n",
              "      <td>never</td>\n",
              "      <td>rock</td>\n",
              "      <td>green</td>\n",
              "      <td>none</td>\n",
              "      <td>30</td>\n",
              "      <td>no</td>\n",
              "      <td>no</td>\n",
              "      <td>no</td>\n",
              "      <td>no</td>\n",
              "      <td>no</td>\n",
              "      <td>short</td>\n",
              "      <td>1969.39</td>\n",
              "      <td>regular</td>\n",
              "      <td>0</td>\n",
              "      <td>0</td>\n",
              "    </tr>\n",
              "    <tr>\n",
              "      <th>2</th>\n",
              "      <td>male</td>\n",
              "      <td>Alex Crawford</td>\n",
              "      <td>1949</td>\n",
              "      <td>83.79</td>\n",
              "      <td>187.70</td>\n",
              "      <td>brown</td>\n",
              "      <td>white</td>\n",
              "      <td>apartment</td>\n",
              "      <td>associate_degree</td>\n",
              "      <td>B+</td>\n",
              "      <td>1</td>\n",
              "      <td>8</td>\n",
              "      <td>unemployed</td>\n",
              "      <td>suburbs</td>\n",
              "      <td>sometimes</td>\n",
              "      <td>r&amp;b</td>\n",
              "      <td>orange</td>\n",
              "      <td>other</td>\n",
              "      <td>not_applicable</td>\n",
              "      <td>yes</td>\n",
              "      <td>no</td>\n",
              "      <td>no</td>\n",
              "      <td>no</td>\n",
              "      <td>yes</td>\n",
              "      <td>none</td>\n",
              "      <td>366.43</td>\n",
              "      <td>regular</td>\n",
              "      <td>16</td>\n",
              "      <td>0</td>\n",
              "    </tr>\n",
              "    <tr>\n",
              "      <th>3</th>\n",
              "      <td>female</td>\n",
              "      <td>Mildred Valentine</td>\n",
              "      <td>1992</td>\n",
              "      <td>90.29</td>\n",
              "      <td>159.20</td>\n",
              "      <td>brown</td>\n",
              "      <td>middle_eastern</td>\n",
              "      <td>apartment</td>\n",
              "      <td>high_school</td>\n",
              "      <td>O+</td>\n",
              "      <td>5</td>\n",
              "      <td>9</td>\n",
              "      <td>business</td>\n",
              "      <td>rural</td>\n",
              "      <td>never</td>\n",
              "      <td>pop</td>\n",
              "      <td>yellow</td>\n",
              "      <td>honda</td>\n",
              "      <td>43</td>\n",
              "      <td>yes</td>\n",
              "      <td>yes</td>\n",
              "      <td>no</td>\n",
              "      <td>no</td>\n",
              "      <td>no</td>\n",
              "      <td>none</td>\n",
              "      <td>1548.20</td>\n",
              "      <td>regular</td>\n",
              "      <td>1</td>\n",
              "      <td>1</td>\n",
              "    </tr>\n",
              "    <tr>\n",
              "      <th>4</th>\n",
              "      <td>male</td>\n",
              "      <td>Francisco Hill</td>\n",
              "      <td>2013</td>\n",
              "      <td>40.23</td>\n",
              "      <td>96.61</td>\n",
              "      <td>brown</td>\n",
              "      <td>asian</td>\n",
              "      <td>apartment</td>\n",
              "      <td>not_applicable</td>\n",
              "      <td>O-</td>\n",
              "      <td>1</td>\n",
              "      <td>9</td>\n",
              "      <td>engineering</td>\n",
              "      <td>urban</td>\n",
              "      <td>sometimes</td>\n",
              "      <td>rock</td>\n",
              "      <td>purple</td>\n",
              "      <td>none</td>\n",
              "      <td>38</td>\n",
              "      <td>yes</td>\n",
              "      <td>yes</td>\n",
              "      <td>no</td>\n",
              "      <td>no</td>\n",
              "      <td>no</td>\n",
              "      <td>long</td>\n",
              "      <td>361.75</td>\n",
              "      <td>regular</td>\n",
              "      <td>12</td>\n",
              "      <td>0</td>\n",
              "    </tr>\n",
              "  </tbody>\n",
              "</table>\n",
              "</div>"
            ],
            "text/plain": [
              "   gender          full_name  ...  fast_food_meals_per_month  infected\n",
              "0    male   Gerald Valentine  ...                          2         0\n",
              "1    male          Chad Sell  ...                          0         0\n",
              "2    male      Alex Crawford  ...                         16         0\n",
              "3  female  Mildred Valentine  ...                          1         1\n",
              "4    male     Francisco Hill  ...                         12         0\n",
              "\n",
              "[5 rows x 29 columns]"
            ]
          },
          "metadata": {
            "tags": []
          },
          "execution_count": 182
        }
      ]
    },
    {
      "cell_type": "code",
      "metadata": {
        "id": "552SndBa64uu",
        "colab_type": "code",
        "colab": {
          "base_uri": "https://localhost:8080/",
          "height": 282
        },
        "outputId": "e732d995-bc83-423d-f00c-6f350331785d"
      },
      "source": [
        "tr['owns_a_pet'] = tr['owns_a_pet'].map({'yes': 1, 'no': 0})\n",
        "tr['has_health_insurance'] = tr['has_health_insurance'].map({'yes': 1, 'no': 0})\n",
        "tr['has_cancer'] = tr['has_cancer'].map({'yes': 1, 'no': 0})\n",
        "tr['smokes'] = tr['smokes'].map({'yes': 1, 'no': 0})\n",
        "tr['has_alzheimers'] = tr['has_alzheimers'].map({'yes': 1, 'no': 0})\n",
        "tr.head()"
      ],
      "execution_count": 183,
      "outputs": [
        {
          "output_type": "execute_result",
          "data": {
            "text/html": [
              "<div>\n",
              "<style scoped>\n",
              "    .dataframe tbody tr th:only-of-type {\n",
              "        vertical-align: middle;\n",
              "    }\n",
              "\n",
              "    .dataframe tbody tr th {\n",
              "        vertical-align: top;\n",
              "    }\n",
              "\n",
              "    .dataframe thead th {\n",
              "        text-align: right;\n",
              "    }\n",
              "</style>\n",
              "<table border=\"1\" class=\"dataframe\">\n",
              "  <thead>\n",
              "    <tr style=\"text-align: right;\">\n",
              "      <th></th>\n",
              "      <th>gender</th>\n",
              "      <th>full_name</th>\n",
              "      <th>year_of_birth</th>\n",
              "      <th>weight</th>\n",
              "      <th>height</th>\n",
              "      <th>eye_color</th>\n",
              "      <th>race</th>\n",
              "      <th>accommodation_type</th>\n",
              "      <th>education_status</th>\n",
              "      <th>blood_type</th>\n",
              "      <th>family_members_count</th>\n",
              "      <th>avg_sleep_hours</th>\n",
              "      <th>occupation</th>\n",
              "      <th>living_area</th>\n",
              "      <th>sports_engagement</th>\n",
              "      <th>favorite_music_genre</th>\n",
              "      <th>favorite_color</th>\n",
              "      <th>owned_car_brand</th>\n",
              "      <th>hours_worked_each_week</th>\n",
              "      <th>owns_a_pet</th>\n",
              "      <th>has_health_insurance</th>\n",
              "      <th>has_cancer</th>\n",
              "      <th>smokes</th>\n",
              "      <th>has_alzheimers</th>\n",
              "      <th>facial_hair</th>\n",
              "      <th>daily_household_water_usage</th>\n",
              "      <th>diet_type</th>\n",
              "      <th>fast_food_meals_per_month</th>\n",
              "      <th>infected</th>\n",
              "    </tr>\n",
              "  </thead>\n",
              "  <tbody>\n",
              "    <tr>\n",
              "      <th>0</th>\n",
              "      <td>male</td>\n",
              "      <td>Gerald Valentine</td>\n",
              "      <td>2024</td>\n",
              "      <td>8.69</td>\n",
              "      <td>52.32</td>\n",
              "      <td>brown</td>\n",
              "      <td>black</td>\n",
              "      <td>apartment</td>\n",
              "      <td>not_applicable</td>\n",
              "      <td>A+</td>\n",
              "      <td>4</td>\n",
              "      <td>12</td>\n",
              "      <td>unemployed</td>\n",
              "      <td>suburbs</td>\n",
              "      <td>never</td>\n",
              "      <td>r&amp;b</td>\n",
              "      <td>green</td>\n",
              "      <td>none</td>\n",
              "      <td>not_applicable</td>\n",
              "      <td>0</td>\n",
              "      <td>0</td>\n",
              "      <td>0</td>\n",
              "      <td>0</td>\n",
              "      <td>0</td>\n",
              "      <td>none</td>\n",
              "      <td>1471.95</td>\n",
              "      <td>regular</td>\n",
              "      <td>2</td>\n",
              "      <td>0</td>\n",
              "    </tr>\n",
              "    <tr>\n",
              "      <th>1</th>\n",
              "      <td>male</td>\n",
              "      <td>Chad Sell</td>\n",
              "      <td>1956</td>\n",
              "      <td>93.21</td>\n",
              "      <td>157.04</td>\n",
              "      <td>brown</td>\n",
              "      <td>asian</td>\n",
              "      <td>villa</td>\n",
              "      <td>associate_degree</td>\n",
              "      <td>AB+</td>\n",
              "      <td>5</td>\n",
              "      <td>6</td>\n",
              "      <td>art</td>\n",
              "      <td>suburbs</td>\n",
              "      <td>never</td>\n",
              "      <td>rock</td>\n",
              "      <td>green</td>\n",
              "      <td>none</td>\n",
              "      <td>30</td>\n",
              "      <td>0</td>\n",
              "      <td>0</td>\n",
              "      <td>0</td>\n",
              "      <td>0</td>\n",
              "      <td>0</td>\n",
              "      <td>short</td>\n",
              "      <td>1969.39</td>\n",
              "      <td>regular</td>\n",
              "      <td>0</td>\n",
              "      <td>0</td>\n",
              "    </tr>\n",
              "    <tr>\n",
              "      <th>2</th>\n",
              "      <td>male</td>\n",
              "      <td>Alex Crawford</td>\n",
              "      <td>1949</td>\n",
              "      <td>83.79</td>\n",
              "      <td>187.70</td>\n",
              "      <td>brown</td>\n",
              "      <td>white</td>\n",
              "      <td>apartment</td>\n",
              "      <td>associate_degree</td>\n",
              "      <td>B+</td>\n",
              "      <td>1</td>\n",
              "      <td>8</td>\n",
              "      <td>unemployed</td>\n",
              "      <td>suburbs</td>\n",
              "      <td>sometimes</td>\n",
              "      <td>r&amp;b</td>\n",
              "      <td>orange</td>\n",
              "      <td>other</td>\n",
              "      <td>not_applicable</td>\n",
              "      <td>1</td>\n",
              "      <td>0</td>\n",
              "      <td>0</td>\n",
              "      <td>0</td>\n",
              "      <td>1</td>\n",
              "      <td>none</td>\n",
              "      <td>366.43</td>\n",
              "      <td>regular</td>\n",
              "      <td>16</td>\n",
              "      <td>0</td>\n",
              "    </tr>\n",
              "    <tr>\n",
              "      <th>3</th>\n",
              "      <td>female</td>\n",
              "      <td>Mildred Valentine</td>\n",
              "      <td>1992</td>\n",
              "      <td>90.29</td>\n",
              "      <td>159.20</td>\n",
              "      <td>brown</td>\n",
              "      <td>middle_eastern</td>\n",
              "      <td>apartment</td>\n",
              "      <td>high_school</td>\n",
              "      <td>O+</td>\n",
              "      <td>5</td>\n",
              "      <td>9</td>\n",
              "      <td>business</td>\n",
              "      <td>rural</td>\n",
              "      <td>never</td>\n",
              "      <td>pop</td>\n",
              "      <td>yellow</td>\n",
              "      <td>honda</td>\n",
              "      <td>43</td>\n",
              "      <td>1</td>\n",
              "      <td>1</td>\n",
              "      <td>0</td>\n",
              "      <td>0</td>\n",
              "      <td>0</td>\n",
              "      <td>none</td>\n",
              "      <td>1548.20</td>\n",
              "      <td>regular</td>\n",
              "      <td>1</td>\n",
              "      <td>1</td>\n",
              "    </tr>\n",
              "    <tr>\n",
              "      <th>4</th>\n",
              "      <td>male</td>\n",
              "      <td>Francisco Hill</td>\n",
              "      <td>2013</td>\n",
              "      <td>40.23</td>\n",
              "      <td>96.61</td>\n",
              "      <td>brown</td>\n",
              "      <td>asian</td>\n",
              "      <td>apartment</td>\n",
              "      <td>not_applicable</td>\n",
              "      <td>O-</td>\n",
              "      <td>1</td>\n",
              "      <td>9</td>\n",
              "      <td>engineering</td>\n",
              "      <td>urban</td>\n",
              "      <td>sometimes</td>\n",
              "      <td>rock</td>\n",
              "      <td>purple</td>\n",
              "      <td>none</td>\n",
              "      <td>38</td>\n",
              "      <td>1</td>\n",
              "      <td>1</td>\n",
              "      <td>0</td>\n",
              "      <td>0</td>\n",
              "      <td>0</td>\n",
              "      <td>long</td>\n",
              "      <td>361.75</td>\n",
              "      <td>regular</td>\n",
              "      <td>12</td>\n",
              "      <td>0</td>\n",
              "    </tr>\n",
              "  </tbody>\n",
              "</table>\n",
              "</div>"
            ],
            "text/plain": [
              "   gender          full_name  ...  fast_food_meals_per_month  infected\n",
              "0    male   Gerald Valentine  ...                          2         0\n",
              "1    male          Chad Sell  ...                          0         0\n",
              "2    male      Alex Crawford  ...                         16         0\n",
              "3  female  Mildred Valentine  ...                          1         1\n",
              "4    male     Francisco Hill  ...                         12         0\n",
              "\n",
              "[5 rows x 29 columns]"
            ]
          },
          "metadata": {
            "tags": []
          },
          "execution_count": 183
        }
      ]
    },
    {
      "cell_type": "code",
      "metadata": {
        "id": "DqMzzba4_8Vw",
        "colab_type": "code",
        "colab": {
          "base_uri": "https://localhost:8080/",
          "height": 140
        },
        "outputId": "8a9d5293-036d-4732-9380-048d44302d02"
      },
      "source": [
        "tr.diet_type.value_counts()\n",
        "tr['diet_type'] = tr['diet_type'].map({'regular': 1, 'vegetarian': 2,'keto':3 , 'vegan':4,'paleo':5,'low-carb':6})\n",
        "tr.diet_type.value_counts()"
      ],
      "execution_count": 184,
      "outputs": [
        {
          "output_type": "execute_result",
          "data": {
            "text/plain": [
              "1    7158\n",
              "2     336\n",
              "3     213\n",
              "4     190\n",
              "5      67\n",
              "6      36\n",
              "Name: diet_type, dtype: int64"
            ]
          },
          "metadata": {
            "tags": []
          },
          "execution_count": 184
        }
      ]
    },
    {
      "cell_type": "code",
      "metadata": {
        "id": "xSJc3Pl5AeyP",
        "colab_type": "code",
        "colab": {
          "base_uri": "https://localhost:8080/",
          "height": 282
        },
        "outputId": "c6093096-667c-4945-fb90-97d89b5b6caa"
      },
      "source": [
        "tr.head()"
      ],
      "execution_count": 185,
      "outputs": [
        {
          "output_type": "execute_result",
          "data": {
            "text/html": [
              "<div>\n",
              "<style scoped>\n",
              "    .dataframe tbody tr th:only-of-type {\n",
              "        vertical-align: middle;\n",
              "    }\n",
              "\n",
              "    .dataframe tbody tr th {\n",
              "        vertical-align: top;\n",
              "    }\n",
              "\n",
              "    .dataframe thead th {\n",
              "        text-align: right;\n",
              "    }\n",
              "</style>\n",
              "<table border=\"1\" class=\"dataframe\">\n",
              "  <thead>\n",
              "    <tr style=\"text-align: right;\">\n",
              "      <th></th>\n",
              "      <th>gender</th>\n",
              "      <th>full_name</th>\n",
              "      <th>year_of_birth</th>\n",
              "      <th>weight</th>\n",
              "      <th>height</th>\n",
              "      <th>eye_color</th>\n",
              "      <th>race</th>\n",
              "      <th>accommodation_type</th>\n",
              "      <th>education_status</th>\n",
              "      <th>blood_type</th>\n",
              "      <th>family_members_count</th>\n",
              "      <th>avg_sleep_hours</th>\n",
              "      <th>occupation</th>\n",
              "      <th>living_area</th>\n",
              "      <th>sports_engagement</th>\n",
              "      <th>favorite_music_genre</th>\n",
              "      <th>favorite_color</th>\n",
              "      <th>owned_car_brand</th>\n",
              "      <th>hours_worked_each_week</th>\n",
              "      <th>owns_a_pet</th>\n",
              "      <th>has_health_insurance</th>\n",
              "      <th>has_cancer</th>\n",
              "      <th>smokes</th>\n",
              "      <th>has_alzheimers</th>\n",
              "      <th>facial_hair</th>\n",
              "      <th>daily_household_water_usage</th>\n",
              "      <th>diet_type</th>\n",
              "      <th>fast_food_meals_per_month</th>\n",
              "      <th>infected</th>\n",
              "    </tr>\n",
              "  </thead>\n",
              "  <tbody>\n",
              "    <tr>\n",
              "      <th>0</th>\n",
              "      <td>male</td>\n",
              "      <td>Gerald Valentine</td>\n",
              "      <td>2024</td>\n",
              "      <td>8.69</td>\n",
              "      <td>52.32</td>\n",
              "      <td>brown</td>\n",
              "      <td>black</td>\n",
              "      <td>apartment</td>\n",
              "      <td>not_applicable</td>\n",
              "      <td>A+</td>\n",
              "      <td>4</td>\n",
              "      <td>12</td>\n",
              "      <td>unemployed</td>\n",
              "      <td>suburbs</td>\n",
              "      <td>never</td>\n",
              "      <td>r&amp;b</td>\n",
              "      <td>green</td>\n",
              "      <td>none</td>\n",
              "      <td>not_applicable</td>\n",
              "      <td>0</td>\n",
              "      <td>0</td>\n",
              "      <td>0</td>\n",
              "      <td>0</td>\n",
              "      <td>0</td>\n",
              "      <td>none</td>\n",
              "      <td>1471.95</td>\n",
              "      <td>1</td>\n",
              "      <td>2</td>\n",
              "      <td>0</td>\n",
              "    </tr>\n",
              "    <tr>\n",
              "      <th>1</th>\n",
              "      <td>male</td>\n",
              "      <td>Chad Sell</td>\n",
              "      <td>1956</td>\n",
              "      <td>93.21</td>\n",
              "      <td>157.04</td>\n",
              "      <td>brown</td>\n",
              "      <td>asian</td>\n",
              "      <td>villa</td>\n",
              "      <td>associate_degree</td>\n",
              "      <td>AB+</td>\n",
              "      <td>5</td>\n",
              "      <td>6</td>\n",
              "      <td>art</td>\n",
              "      <td>suburbs</td>\n",
              "      <td>never</td>\n",
              "      <td>rock</td>\n",
              "      <td>green</td>\n",
              "      <td>none</td>\n",
              "      <td>30</td>\n",
              "      <td>0</td>\n",
              "      <td>0</td>\n",
              "      <td>0</td>\n",
              "      <td>0</td>\n",
              "      <td>0</td>\n",
              "      <td>short</td>\n",
              "      <td>1969.39</td>\n",
              "      <td>1</td>\n",
              "      <td>0</td>\n",
              "      <td>0</td>\n",
              "    </tr>\n",
              "    <tr>\n",
              "      <th>2</th>\n",
              "      <td>male</td>\n",
              "      <td>Alex Crawford</td>\n",
              "      <td>1949</td>\n",
              "      <td>83.79</td>\n",
              "      <td>187.70</td>\n",
              "      <td>brown</td>\n",
              "      <td>white</td>\n",
              "      <td>apartment</td>\n",
              "      <td>associate_degree</td>\n",
              "      <td>B+</td>\n",
              "      <td>1</td>\n",
              "      <td>8</td>\n",
              "      <td>unemployed</td>\n",
              "      <td>suburbs</td>\n",
              "      <td>sometimes</td>\n",
              "      <td>r&amp;b</td>\n",
              "      <td>orange</td>\n",
              "      <td>other</td>\n",
              "      <td>not_applicable</td>\n",
              "      <td>1</td>\n",
              "      <td>0</td>\n",
              "      <td>0</td>\n",
              "      <td>0</td>\n",
              "      <td>1</td>\n",
              "      <td>none</td>\n",
              "      <td>366.43</td>\n",
              "      <td>1</td>\n",
              "      <td>16</td>\n",
              "      <td>0</td>\n",
              "    </tr>\n",
              "    <tr>\n",
              "      <th>3</th>\n",
              "      <td>female</td>\n",
              "      <td>Mildred Valentine</td>\n",
              "      <td>1992</td>\n",
              "      <td>90.29</td>\n",
              "      <td>159.20</td>\n",
              "      <td>brown</td>\n",
              "      <td>middle_eastern</td>\n",
              "      <td>apartment</td>\n",
              "      <td>high_school</td>\n",
              "      <td>O+</td>\n",
              "      <td>5</td>\n",
              "      <td>9</td>\n",
              "      <td>business</td>\n",
              "      <td>rural</td>\n",
              "      <td>never</td>\n",
              "      <td>pop</td>\n",
              "      <td>yellow</td>\n",
              "      <td>honda</td>\n",
              "      <td>43</td>\n",
              "      <td>1</td>\n",
              "      <td>1</td>\n",
              "      <td>0</td>\n",
              "      <td>0</td>\n",
              "      <td>0</td>\n",
              "      <td>none</td>\n",
              "      <td>1548.20</td>\n",
              "      <td>1</td>\n",
              "      <td>1</td>\n",
              "      <td>1</td>\n",
              "    </tr>\n",
              "    <tr>\n",
              "      <th>4</th>\n",
              "      <td>male</td>\n",
              "      <td>Francisco Hill</td>\n",
              "      <td>2013</td>\n",
              "      <td>40.23</td>\n",
              "      <td>96.61</td>\n",
              "      <td>brown</td>\n",
              "      <td>asian</td>\n",
              "      <td>apartment</td>\n",
              "      <td>not_applicable</td>\n",
              "      <td>O-</td>\n",
              "      <td>1</td>\n",
              "      <td>9</td>\n",
              "      <td>engineering</td>\n",
              "      <td>urban</td>\n",
              "      <td>sometimes</td>\n",
              "      <td>rock</td>\n",
              "      <td>purple</td>\n",
              "      <td>none</td>\n",
              "      <td>38</td>\n",
              "      <td>1</td>\n",
              "      <td>1</td>\n",
              "      <td>0</td>\n",
              "      <td>0</td>\n",
              "      <td>0</td>\n",
              "      <td>long</td>\n",
              "      <td>361.75</td>\n",
              "      <td>1</td>\n",
              "      <td>12</td>\n",
              "      <td>0</td>\n",
              "    </tr>\n",
              "  </tbody>\n",
              "</table>\n",
              "</div>"
            ],
            "text/plain": [
              "   gender          full_name  ...  fast_food_meals_per_month  infected\n",
              "0    male   Gerald Valentine  ...                          2         0\n",
              "1    male          Chad Sell  ...                          0         0\n",
              "2    male      Alex Crawford  ...                         16         0\n",
              "3  female  Mildred Valentine  ...                          1         1\n",
              "4    male     Francisco Hill  ...                         12         0\n",
              "\n",
              "[5 rows x 29 columns]"
            ]
          },
          "metadata": {
            "tags": []
          },
          "execution_count": 185
        }
      ]
    },
    {
      "cell_type": "code",
      "metadata": {
        "id": "GekmGnBmApuS",
        "colab_type": "code",
        "colab": {
          "base_uri": "https://localhost:8080/",
          "height": 87
        },
        "outputId": "b1022ba0-c65f-433b-82f6-493c8504c749"
      },
      "source": [
        "tr.facial_hair.value_counts()"
      ],
      "execution_count": 186,
      "outputs": [
        {
          "output_type": "execute_result",
          "data": {
            "text/plain": [
              "none     5916\n",
              "short    1213\n",
              "long      871\n",
              "Name: facial_hair, dtype: int64"
            ]
          },
          "metadata": {
            "tags": []
          },
          "execution_count": 186
        }
      ]
    },
    {
      "cell_type": "code",
      "metadata": {
        "id": "Pol5LINZBGsk",
        "colab_type": "code",
        "colab": {
          "base_uri": "https://localhost:8080/",
          "height": 87
        },
        "outputId": "7fd00bfe-95d6-4234-ba2b-a86b565e6f28"
      },
      "source": [
        "tr['facial_hair'] = tr['facial_hair'].map({'none': 0, 'short': 1,'long':2 })\n",
        "tr.facial_hair.value_counts()"
      ],
      "execution_count": 187,
      "outputs": [
        {
          "output_type": "execute_result",
          "data": {
            "text/plain": [
              "0    5916\n",
              "1    1213\n",
              "2     871\n",
              "Name: facial_hair, dtype: int64"
            ]
          },
          "metadata": {
            "tags": []
          },
          "execution_count": 187
        }
      ]
    },
    {
      "cell_type": "code",
      "metadata": {
        "id": "38PUrED4BRKO",
        "colab_type": "code",
        "colab": {
          "base_uri": "https://localhost:8080/",
          "height": 562
        },
        "outputId": "2658bfe4-1656-4527-a25c-7f2dc60a19f1"
      },
      "source": [
        "tr.hours_worked_each_week.value_counts()"
      ],
      "execution_count": 188,
      "outputs": [
        {
          "output_type": "execute_result",
          "data": {
            "text/plain": [
              "not_applicable    2793\n",
              "39                 543\n",
              "40                 505\n",
              "41                 504\n",
              "42                 481\n",
              "38                 472\n",
              "43                 399\n",
              "37                 359\n",
              "36                 312\n",
              "44                 306\n",
              "35                 232\n",
              "45                 227\n",
              "34                 183\n",
              "46                 154\n",
              "47                 112\n",
              "33                 107\n",
              "48                  73\n",
              "32                  64\n",
              "31                  46\n",
              "49                  36\n",
              "30                  24\n",
              "50                  20\n",
              "51                  17\n",
              "27                   8\n",
              "28                   7\n",
              "29                   6\n",
              "26                   4\n",
              "52                   3\n",
              "56                   2\n",
              "53                   1\n",
              "Name: hours_worked_each_week, dtype: int64"
            ]
          },
          "metadata": {
            "tags": []
          },
          "execution_count": 188
        }
      ]
    },
    {
      "cell_type": "code",
      "metadata": {
        "id": "6uJSmhZEBxFr",
        "colab_type": "code",
        "colab": {
          "base_uri": "https://localhost:8080/",
          "height": 562
        },
        "outputId": "19cb0179-2740-4fbe-9487-6b6f453eb406"
      },
      "source": [
        "tr['hours_worked_each_week'] = tr['hours_worked_each_week'].replace('not_applicable', 0)\n",
        "tr.hours_worked_each_week.value_counts()"
      ],
      "execution_count": 189,
      "outputs": [
        {
          "output_type": "execute_result",
          "data": {
            "text/plain": [
              "0     2793\n",
              "39     543\n",
              "40     505\n",
              "41     504\n",
              "42     481\n",
              "38     472\n",
              "43     399\n",
              "37     359\n",
              "36     312\n",
              "44     306\n",
              "35     232\n",
              "45     227\n",
              "34     183\n",
              "46     154\n",
              "47     112\n",
              "33     107\n",
              "48      73\n",
              "32      64\n",
              "31      46\n",
              "49      36\n",
              "30      24\n",
              "50      20\n",
              "51      17\n",
              "27       8\n",
              "28       7\n",
              "29       6\n",
              "26       4\n",
              "52       3\n",
              "56       2\n",
              "53       1\n",
              "Name: hours_worked_each_week, dtype: int64"
            ]
          },
          "metadata": {
            "tags": []
          },
          "execution_count": 189
        }
      ]
    },
    {
      "cell_type": "code",
      "metadata": {
        "id": "PoxyspKqCWK5",
        "colab_type": "code",
        "colab": {}
      },
      "source": [
        "tr['hours_worked_each_week']=pd.to_numeric(tr['hours_worked_each_week'])"
      ],
      "execution_count": 190,
      "outputs": []
    },
    {
      "cell_type": "code",
      "metadata": {
        "id": "cNoXUf2lD1je",
        "colab_type": "code",
        "colab": {}
      },
      "source": [
        "tr['gender'] = tr['gender'].map({'male': 1, 'female': 2})"
      ],
      "execution_count": 191,
      "outputs": []
    },
    {
      "cell_type": "code",
      "metadata": {
        "id": "0OP-JAiOEMJr",
        "colab_type": "code",
        "colab": {
          "base_uri": "https://localhost:8080/",
          "height": 175
        },
        "outputId": "916dcf81-2a42-4a7f-dc06-7ccf2b33fff3"
      },
      "source": [
        "tr.blood_type.value_counts()"
      ],
      "execution_count": 192,
      "outputs": [
        {
          "output_type": "execute_result",
          "data": {
            "text/plain": [
              "O+     3008\n",
              "A+     2727\n",
              "B+      706\n",
              "O-      559\n",
              "A-      481\n",
              "AB+     232\n",
              "B-      197\n",
              "AB-      90\n",
              "Name: blood_type, dtype: int64"
            ]
          },
          "metadata": {
            "tags": []
          },
          "execution_count": 192
        }
      ]
    },
    {
      "cell_type": "code",
      "metadata": {
        "id": "_o5jNAhuEbrz",
        "colab_type": "code",
        "colab": {}
      },
      "source": [
        "tr['blood_type'] = tr['blood_type'].map({'O+': 1,'O-':-1,'A+':2,'A-':-2,'B+':3,'B-':-3,'AB+':4,'AB-':-4})"
      ],
      "execution_count": 193,
      "outputs": []
    },
    {
      "cell_type": "code",
      "metadata": {
        "id": "rV7R_y55E4qU",
        "colab_type": "code",
        "colab": {
          "base_uri": "https://localhost:8080/",
          "height": 175
        },
        "outputId": "d2230673-71b3-4aec-d19d-a4f0420cd76d"
      },
      "source": [
        "tr.blood_type.value_counts()"
      ],
      "execution_count": 194,
      "outputs": [
        {
          "output_type": "execute_result",
          "data": {
            "text/plain": [
              " 1    3008\n",
              " 2    2727\n",
              " 3     706\n",
              "-1     559\n",
              "-2     481\n",
              " 4     232\n",
              "-3     197\n",
              "-4      90\n",
              "Name: blood_type, dtype: int64"
            ]
          },
          "metadata": {
            "tags": []
          },
          "execution_count": 194
        }
      ]
    },
    {
      "cell_type": "code",
      "metadata": {
        "id": "au-dSnfoGNAA",
        "colab_type": "code",
        "colab": {
          "base_uri": "https://localhost:8080/",
          "height": 105
        },
        "outputId": "c06a0e55-cb95-4972-aabb-970a09a8e679"
      },
      "source": [
        "tr.sports_engagement.value_counts()"
      ],
      "execution_count": 195,
      "outputs": [
        {
          "output_type": "execute_result",
          "data": {
            "text/plain": [
              "sometimes    2676\n",
              "never        2348\n",
              "seldom       1724\n",
              "regularly    1252\n",
              "Name: sports_engagement, dtype: int64"
            ]
          },
          "metadata": {
            "tags": []
          },
          "execution_count": 195
        }
      ]
    },
    {
      "cell_type": "code",
      "metadata": {
        "id": "YNvtNR7DGdaP",
        "colab_type": "code",
        "colab": {
          "base_uri": "https://localhost:8080/",
          "height": 105
        },
        "outputId": "2efabf60-2664-41a0-af81-cd19e7a3ee86"
      },
      "source": [
        "tr['sports_engagement'] = tr['sports_engagement'].map({'never': 0, 'sometimes':1,'seldom':2,'regularly':3 })\n",
        "tr.sports_engagement.value_counts()"
      ],
      "execution_count": 196,
      "outputs": [
        {
          "output_type": "execute_result",
          "data": {
            "text/plain": [
              "1    2676\n",
              "0    2348\n",
              "2    1724\n",
              "3    1252\n",
              "Name: sports_engagement, dtype: int64"
            ]
          },
          "metadata": {
            "tags": []
          },
          "execution_count": 196
        }
      ]
    },
    {
      "cell_type": "code",
      "metadata": {
        "id": "-WNkJrNMDGk3",
        "colab_type": "code",
        "colab": {
          "base_uri": "https://localhost:8080/",
          "height": 650
        },
        "outputId": "ff6be98e-280e-4a16-fd4c-6016a9feee99"
      },
      "source": [
        "tr.info()"
      ],
      "execution_count": 198,
      "outputs": [
        {
          "output_type": "stream",
          "text": [
            "<class 'pandas.core.frame.DataFrame'>\n",
            "RangeIndex: 8000 entries, 0 to 7999\n",
            "Data columns (total 29 columns):\n",
            " #   Column                       Non-Null Count  Dtype  \n",
            "---  ------                       --------------  -----  \n",
            " 0   gender                       8000 non-null   int64  \n",
            " 1   full_name                    8000 non-null   object \n",
            " 2   year_of_birth                8000 non-null   int64  \n",
            " 3   weight                       8000 non-null   float64\n",
            " 4   height                       8000 non-null   float64\n",
            " 5   eye_color                    8000 non-null   object \n",
            " 6   race                         8000 non-null   object \n",
            " 7   accommodation_type           8000 non-null   object \n",
            " 8   education_status             8000 non-null   object \n",
            " 9   blood_type                   8000 non-null   int64  \n",
            " 10  family_members_count         8000 non-null   int64  \n",
            " 11  avg_sleep_hours              8000 non-null   int64  \n",
            " 12  occupation                   8000 non-null   object \n",
            " 13  living_area                  8000 non-null   object \n",
            " 14  sports_engagement            8000 non-null   int64  \n",
            " 15  favorite_music_genre         8000 non-null   object \n",
            " 16  favorite_color               8000 non-null   object \n",
            " 17  owned_car_brand              8000 non-null   object \n",
            " 18  hours_worked_each_week       8000 non-null   int64  \n",
            " 19  owns_a_pet                   8000 non-null   int64  \n",
            " 20  has_health_insurance         8000 non-null   int64  \n",
            " 21  has_cancer                   8000 non-null   int64  \n",
            " 22  smokes                       8000 non-null   int64  \n",
            " 23  has_alzheimers               8000 non-null   int64  \n",
            " 24  facial_hair                  8000 non-null   int64  \n",
            " 25  daily_household_water_usage  8000 non-null   float64\n",
            " 26  diet_type                    8000 non-null   int64  \n",
            " 27  fast_food_meals_per_month    8000 non-null   int64  \n",
            " 28  infected                     8000 non-null   int64  \n",
            "dtypes: float64(3), int64(16), object(10)\n",
            "memory usage: 1.8+ MB\n"
          ],
          "name": "stdout"
        }
      ]
    },
    {
      "cell_type": "code",
      "metadata": {
        "id": "DLftp2-nI6X3",
        "colab_type": "code",
        "colab": {
          "base_uri": "https://localhost:8080/",
          "height": 156
        },
        "outputId": "aa4ee636-de7d-4a52-864e-acec82b90613"
      },
      "source": [
        "tr.groupby('infected').mean()"
      ],
      "execution_count": 200,
      "outputs": [
        {
          "output_type": "execute_result",
          "data": {
            "text/html": [
              "<div>\n",
              "<style scoped>\n",
              "    .dataframe tbody tr th:only-of-type {\n",
              "        vertical-align: middle;\n",
              "    }\n",
              "\n",
              "    .dataframe tbody tr th {\n",
              "        vertical-align: top;\n",
              "    }\n",
              "\n",
              "    .dataframe thead th {\n",
              "        text-align: right;\n",
              "    }\n",
              "</style>\n",
              "<table border=\"1\" class=\"dataframe\">\n",
              "  <thead>\n",
              "    <tr style=\"text-align: right;\">\n",
              "      <th></th>\n",
              "      <th>gender</th>\n",
              "      <th>year_of_birth</th>\n",
              "      <th>weight</th>\n",
              "      <th>height</th>\n",
              "      <th>blood_type</th>\n",
              "      <th>family_members_count</th>\n",
              "      <th>avg_sleep_hours</th>\n",
              "      <th>sports_engagement</th>\n",
              "      <th>hours_worked_each_week</th>\n",
              "      <th>owns_a_pet</th>\n",
              "      <th>has_health_insurance</th>\n",
              "      <th>has_cancer</th>\n",
              "      <th>smokes</th>\n",
              "      <th>has_alzheimers</th>\n",
              "      <th>facial_hair</th>\n",
              "      <th>daily_household_water_usage</th>\n",
              "      <th>diet_type</th>\n",
              "      <th>fast_food_meals_per_month</th>\n",
              "    </tr>\n",
              "    <tr>\n",
              "      <th>infected</th>\n",
              "      <th></th>\n",
              "      <th></th>\n",
              "      <th></th>\n",
              "      <th></th>\n",
              "      <th></th>\n",
              "      <th></th>\n",
              "      <th></th>\n",
              "      <th></th>\n",
              "      <th></th>\n",
              "      <th></th>\n",
              "      <th></th>\n",
              "      <th></th>\n",
              "      <th></th>\n",
              "      <th></th>\n",
              "      <th></th>\n",
              "      <th></th>\n",
              "      <th></th>\n",
              "      <th></th>\n",
              "    </tr>\n",
              "  </thead>\n",
              "  <tbody>\n",
              "    <tr>\n",
              "      <th>0</th>\n",
              "      <td>1.470543</td>\n",
              "      <td>1985.926885</td>\n",
              "      <td>65.383692</td>\n",
              "      <td>151.369758</td>\n",
              "      <td>1.125696</td>\n",
              "      <td>5.068893</td>\n",
              "      <td>8.614277</td>\n",
              "      <td>1.207062</td>\n",
              "      <td>25.443293</td>\n",
              "      <td>0.500096</td>\n",
              "      <td>0.698522</td>\n",
              "      <td>0.003838</td>\n",
              "      <td>0.161581</td>\n",
              "      <td>0.016887</td>\n",
              "      <td>0.410862</td>\n",
              "      <td>1730.918131</td>\n",
              "      <td>1.184226</td>\n",
              "      <td>7.669353</td>\n",
              "    </tr>\n",
              "    <tr>\n",
              "      <th>1</th>\n",
              "      <td>1.509143</td>\n",
              "      <td>1986.467193</td>\n",
              "      <td>68.210455</td>\n",
              "      <td>153.104823</td>\n",
              "      <td>1.136608</td>\n",
              "      <td>5.586590</td>\n",
              "      <td>8.589459</td>\n",
              "      <td>1.287200</td>\n",
              "      <td>27.072786</td>\n",
              "      <td>0.647902</td>\n",
              "      <td>0.501255</td>\n",
              "      <td>0.015776</td>\n",
              "      <td>0.149875</td>\n",
              "      <td>0.007530</td>\n",
              "      <td>0.291861</td>\n",
              "      <td>1893.018505</td>\n",
              "      <td>1.294012</td>\n",
              "      <td>9.095016</td>\n",
              "    </tr>\n",
              "  </tbody>\n",
              "</table>\n",
              "</div>"
            ],
            "text/plain": [
              "            gender  year_of_birth  ...  diet_type  fast_food_meals_per_month\n",
              "infected                           ...                                      \n",
              "0         1.470543    1985.926885  ...   1.184226                   7.669353\n",
              "1         1.509143    1986.467193  ...   1.294012                   9.095016\n",
              "\n",
              "[2 rows x 18 columns]"
            ]
          },
          "metadata": {
            "tags": []
          },
          "execution_count": 200
        }
      ]
    }
  ]
}
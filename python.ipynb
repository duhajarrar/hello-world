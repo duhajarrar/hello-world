{
  "nbformat": 4,
  "nbformat_minor": 0,
  "metadata": {
    "colab": {
      "name": "Untitled2.ipynb",
      "provenance": [],
      "collapsed_sections": [],
      "authorship_tag": "ABX9TyMggxQjWfJmAC/0QQ8Fkc6H",
      "include_colab_link": true
    },
    "kernelspec": {
      "name": "python3",
      "display_name": "Python 3"
    }
  },
  "cells": [
    {
      "cell_type": "markdown",
      "metadata": {
        "id": "view-in-github",
        "colab_type": "text"
      },
      "source": [
        "<a href=\"https://colab.research.google.com/github/duhajarrar/hello-world/blob/master/python.ipynb\" target=\"_parent\"><img src=\"https://colab.research.google.com/assets/colab-badge.svg\" alt=\"Open In Colab\"/></a>"
      ]
    },
    {
      "cell_type": "code",
      "metadata": {
        "id": "hT9mKxdPAM9z",
        "colab_type": "code",
        "colab": {}
      },
      "source": [
        "def calculate_frequencies(file_contents):\n",
        " s={}\n",
        " ss=file_contents.split()\n",
        " punctuations = '''!()-[]{};:'\"\\,<>./?@#$%^&*_~'''\n",
        " uninteresting_words = [\"the\", \"a\", \"to\", \"if\", \"is\", \"it\", \"of\", \"and\", \"or\", \"an\", \"as\", \"i\", \"me\", \"my\", \n",
        " \"we\", \"our\", \"ours\", \"you\", \"your\", \"yours\", \"he\", \"she\", \"him\", \"his\", \"her\", \"hers\", \"its\", \"they\", \"them\", \n",
        " \"their\", \"what\", \"which\", \"who\", \"whom\", \"this\", \"that\", \"am\", \"are\", \"was\", \"were\", \"be\", \"been\", \"being\", \n",
        " \"have\", \"has\", \"had\", \"do\", \"does\", \"did\", \"but\", \"at\", \"by\", \"with\", \"from\", \"here\", \"when\", \"where\", \"how\", \n",
        " \"all\", \"any\", \"both\", \"each\", \"few\", \"more\", \"some\", \"such\", \"no\", \"nor\", \"too\", \"very\", \"can\", \"will\", \"just\"]\n",
        " result ={}\n",
        " a = file_contents.split()\n",
        " for word in a:\n",
        "  if word in uninteresting_words:\n",
        "   pass\n",
        "  else:\n",
        "   for l in word:\n",
        "    if l in punctuations:\n",
        "     word= word.replace(l,\"\")\n",
        "     print(word)\n",
        "    if word  in result.keys():\n",
        "     result[word]+=1\n",
        "    else:\n",
        "     result[word]=0\n",
        "  \n",
        "\n",
        "    \n",
        "    \n",
        "    #wordcloud\n",
        " cloud = wordcloud.WordCloud()\n",
        " cloud.generate_from_frequencies(result)\n",
        " return cloud.to_array()"
      ],
      "execution_count": 0,
      "outputs": []
    },
    {
      "cell_type": "code",
      "metadata": {
        "id": "4eF5JsEmAPwf",
        "colab_type": "code",
        "colab": {
          "base_uri": "https://localhost:8080/",
          "height": 234
        },
        "outputId": "082b7516-b811-4992-8685-8bca8516a10e"
      },
      "source": [
        "f=open(\"b.txt\",\"r\")\n",
        "file_contents=f.read() \n",
        "myimage = calculate_frequencies(file_contents)\n",
        "plt.imshow(myimage, interpolation = 'nearest')\n",
        "plt.axis('off')\n",
        "plt.show()"
      ],
      "execution_count": 150,
      "outputs": [
        {
          "output_type": "stream",
          "text": [
            "python3\n",
            "DataStructure\n"
          ],
          "name": "stdout"
        },
        {
          "output_type": "display_data",
          "data": {
            "image/png": "[encoded data removed]",
            "text/plain": [
              "<Figure size 432x288 with 1 Axes>"
            ]
          },
          "metadata": {
            "tags": [],
            "needs_background": "light"
          }
        }
      ]
    }
  ]
}